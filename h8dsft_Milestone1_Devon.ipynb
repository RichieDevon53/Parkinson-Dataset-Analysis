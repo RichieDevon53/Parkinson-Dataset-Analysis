{
 "cells": [
  {
   "cell_type": "markdown",
   "metadata": {},
   "source": [
    "## **A. Perkenalan**\n",
    "Nama    : Richie Devon Sumantri <br>\n",
    "\n",
    "<div style='text-align: justify'><em>Objective</em> dari dokumen ini adalah melakukan analisis terhadap banyaknya penyakit Parkinson pada pasien lanjut usia yang ada pada suatu Rumah Sakit A, dalam menjawab permasalahan yang dialami oleh Rumah Sakit A maka sebagai Data Analyst dapat melakukan analisa menggunakan visualisasi data, memanfaatkan statisika deskriptif dan inferensial.</div>\n",
    "\n",
    "---"
   ]
  },
  {
   "cell_type": "markdown",
   "metadata": {},
   "source": [
    "## **B. Identifikasi Masalah**"
   ]
  },
  {
   "cell_type": "markdown",
   "metadata": {},
   "source": [
    "### 1. Latar Belakang\n",
    "\n",
    "<div style=\"text-align: justify\">Parkinson merupakan penyakit sistem saraf pusat yang bersifat menahun dan progresif. Perkiraan insidensi penyakit Parkinson secara kasar per tahunnya adalah 15 per 100.000 penduduk dengan prevalensi 18-328 kasus per 100.000 penduduk <a href='https://www.mitrakeluarga.com/artikel/penyakit-parkinson-3'>[1]</a>. Penyakit Parkinson disebabkan oleh kerusakan atau kematian sel-sel saraf di otak. Penyebab kerusakan atau kematian sel tersebut belum diketahui, tetapi riwayat penyakit Parkinson pada keluarga dan paparan senyawa kimia bisa meningkatkan risiko terjadinya penyakit ini <a href='https://www.alodokter.com/penyakit-parkinson'>[2]</a>.</div>\n",
    "<br>\n",
    "<blockquote><em>\n",
    "\"Penyakit Parkinson diderita oleh sekitar 10 juta orang di seluruh dunia <a href='https://www.alodokter.com/penyakit-parkinson'>[3]</a>.\"\n",
    "</em></blockquote><br>\n",
    "\n",
    "<div style=\"text-align: justify\">Rumah Sakit A yang berada pada suatu lingkungan mendapati laporan dari divisi penanganan lanjut usia pada rumah sakit tersebut bahwa terjadi peningkatan jumlah pasien dengan diagnosis Parkinson. Divisi ini melihat banyaknya gejala-gejala seperti tremor dan otot yang kaku pada pasien lanjut usia yang berasal dari lingkungan sekitar rumah sakit. Berdasarkan informasi divisi terkait bahwa latar belakang pasien berasal dari berbagai riwayat kesehatan dan gaya hidup yang dapat mempengaruhi pasien sebagai faktor penentu diagnosis Parkinson.</div><br>\n",
    "\n",
    "<div style=\"text-align: justify\">Berdasarkan berbagai informasi latar belakang pasien, Rumah Sakit A ingin melakukan penekanan persentase penyakit Parkinson pada lingkungan masyarakat lanjut usia. Salah satu cara dalam mewujudkan hal tersebut adalah dengan melakukan usaha preventif pada pasien yang berpotensi rentan terhadap penyakit Parkinson berupa edukasi gaya hidup sehat, olahraga teratur dan pola makan sehat <a href='https://www.prudential.co.id/id/pulse/article/apa-itu-parkinson/'>[4]</a>.</div> "
   ]
  },
  {
   "cell_type": "markdown",
   "metadata": {},
   "source": [
    "### 2. Topik permasalahan\n",
    "\n",
    "<div style=\"text-align: justify\">Peningkatan penyakit Parkinson yang ada di masyarakat lanjut usia memberikan tantangan pada Rumah Sakit A untuk dapat menekan persentase penyakit tersebut. Rumah sakit harus melakukan perencanaan terkait penekanan penyakit Parkinson yang efektif dan efisien. Hal ini membutuhkan identifikasi faktor-faktor penentu diagnosis Parkinson.</div>\n",
    "<br>\n",
    "\n",
    "<div style=\"text-align: justify\">Dengan melakukan analisis terkait faktor penentu diagnosis Parkinson, maka dapat diketahui aspek kehidupan yang menjadi fokus edukasi preventif oleh Rumah Sakit A. Analisis faktor diagnosis juga dapat menjadi bentuk intervensi penyakit Parkinson dengan melihat faktor-faktor yang menjadi penentu seseorang tidak terkena penyakit. Dengan melakukan analisis ini, maka faktor-faktor penyokong diagnosis Parkinson dapat dihindari dan faktor-faktor pelindung dapat diperkuat. Berdasarkan hasil analisis, Rumah Sakit A dapat mengidentifikasi kelompok pasien yang paling beresiko dan memerlukan perawatan yang lebih intensif. Program atau pedoman pencegahan penyakit Parkinson yang akan dilancarkan oleh Rumah Sakit A akan lebih tepat sasaran.</div>"
   ]
  },
  {
   "cell_type": "markdown",
   "metadata": {},
   "source": [
    "### 3. Problem Statement\n",
    "\n",
    "<div style=\"text-align: justify\">Rumah Sakit A yang ingin Menekan perkembangan penyakit Parkinson dengan menurunkan persentase Parkinson pada populasi pasien lanjut usia sebesar 10% dalam 1 sampai 2 tahun, di mana dibutuhkan usaha preventif untuk menghindari penyakit Parkinson menggunakan analisis faktor-faktor yang dapat mempengaruhi penyakit Parkinson.</div>\n",
    "\n",
    "Rincian detail dapat dilihat pada SMART _framework_ sebagai berikut.\n",
    "- **Spesific**: Menekan perkembangan penyakit Parkinson di masyarakat lanjut usia.\n",
    "- **Measureable**: Persentase penyakit Parkinson pada pasien lanjut usia berkurang sebesar 10% di masyarakat.\n",
    "- **Achievable**: Melakukan analisis faktor-faktor yang dapat mempengaruhi penyakit Parkinson sehingga dapat melakukan usaha preventif seperti terapi saraf, pola makan, dan lain-lain.\n",
    "- **Relevant**: Dengan melakukan berbagai usaha preventif kepada pasien yang tergolong rentan terhadap Parkinson maka diharapkan pasien lanjut usia dapat terhindar dari penyakit Parkinson.\n",
    "- **Time-bound**: _project_ ini dapat dilakukan bergantung pada seberapa besar dari lingkungan masyarakat, namun secara umum 1 sampai 2 tahun."
   ]
  },
  {
   "cell_type": "markdown",
   "metadata": {},
   "source": [
    "### 4. Penjabaran Masalah\n",
    "\n",
    "- Berapa usia pasien lanjut usia paling banyak terkena dan tidak terkena penyakit Parkinson? (visualisasi) \n",
    "- Siapa (etnis) yang paling banyak terkena penyakit Parkinson?(visualisasi)\n",
    "- Jenis kelamin apa yang paling banyak terkena dan tidak terkena penyakit Parkinson? (visualisasi)\n",
    "- Berapa rata-rata konsumsi alkohol dan aktivitas fisik pasien yang terkena penyakit Parkinson? (visualisasi)\n",
    "- Bagaimana korelasi tingkat pendidikan dengan penentuan diagnosis penyakit Parkinson? (Statistik Deskriptif)\n",
    "- Apakah ada hubungan antara riwayat kesehatan dengan penentuan diagnosis penyakit Parkinson? (Statistik Inferensial) \n",
    "- Apakah ada hubungan antara gejala-gejala yang dialami oleh pasien dengan penentuan diagnosis penyakit Parkinson? (Statisik Inferensial) "
   ]
  },
  {
   "cell_type": "markdown",
   "metadata": {},
   "source": [
    "## **C. Data Loading**"
   ]
  },
  {
   "cell_type": "markdown",
   "metadata": {},
   "source": [
    "### 1. Input Data"
   ]
  },
  {
   "cell_type": "code",
   "execution_count": 1,
   "metadata": {},
   "outputs": [],
   "source": [
    "# Importing libraries\n",
    "import pandas as pd\n",
    "from IPython.display import display, HTML\n",
    "import matplotlib.pyplot as plt\n",
    "import seaborn as sns\n",
    "import plotly.express as px\n",
    "from scipy import stats\n",
    "\n",
    "# Alokasi dokumen csv ke dalam variabel dataframe original\n",
    "df_org = pd.read_csv('parkinsons_disease_data.csv')"
   ]
  },
  {
   "cell_type": "markdown",
   "metadata": {},
   "source": [
    "<div style=\"text-align: justify\">Sumber data yang digunakan dalam <em>project</em> kali ini dapat diakses dari <a href='https://www.kaggle.com/datasets/rabieelkharoua/parkinsons-disease-dataset-analysis'><strong>Kaggle</strong></a>. Data yang digunakan berjudul 'Parkinson's Disease Dataset Analysis' dan dibuat oleh 'Rabie El Kharoua' pada 11 Juni 2024. Lisensi terkait penggunaan data dapat dilihat sebagai berikut: <a href='https://creativecommons.org/licenses/by/4.0/'>lisensi</a>.</div>\n",
    "\n",
    "Dashboard Tableau dapat diakses sebagai berikut: <a href='https://public.tableau.com/views/Dashboard-M1-Devon/DashboardUtama?:language=en-US&:sid=&:redirect=auth&:display_count=n&:origin=viz_share_link'>Link Tableau</a>."
   ]
  },
  {
   "cell_type": "markdown",
   "metadata": {},
   "source": [
    "### 2. Eksplorasi Data Sederhana"
   ]
  },
  {
   "cell_type": "code",
   "execution_count": 2,
   "metadata": {},
   "outputs": [
    {
     "data": {
      "text/html": [
       "<center><b><h3>Data Pasien Lanjut Usia</h3></b></center>"
      ],
      "text/plain": [
       "<IPython.core.display.HTML object>"
      ]
     },
     "metadata": {},
     "output_type": "display_data"
    },
    {
     "data": {
      "text/html": [
       "<div>\n",
       "<style scoped>\n",
       "    .dataframe tbody tr th:only-of-type {\n",
       "        vertical-align: middle;\n",
       "    }\n",
       "\n",
       "    .dataframe tbody tr th {\n",
       "        vertical-align: top;\n",
       "    }\n",
       "\n",
       "    .dataframe thead th {\n",
       "        text-align: right;\n",
       "    }\n",
       "</style>\n",
       "<table border=\"1\" class=\"dataframe\">\n",
       "  <thead>\n",
       "    <tr style=\"text-align: right;\">\n",
       "      <th></th>\n",
       "      <th>PatientID</th>\n",
       "      <th>Age</th>\n",
       "      <th>Gender</th>\n",
       "      <th>Ethnicity</th>\n",
       "      <th>EducationLevel</th>\n",
       "      <th>BMI</th>\n",
       "      <th>Smoking</th>\n",
       "      <th>AlcoholConsumption</th>\n",
       "      <th>PhysicalActivity</th>\n",
       "      <th>DietQuality</th>\n",
       "      <th>...</th>\n",
       "      <th>FunctionalAssessment</th>\n",
       "      <th>Tremor</th>\n",
       "      <th>Rigidity</th>\n",
       "      <th>Bradykinesia</th>\n",
       "      <th>PosturalInstability</th>\n",
       "      <th>SpeechProblems</th>\n",
       "      <th>SleepDisorders</th>\n",
       "      <th>Constipation</th>\n",
       "      <th>Diagnosis</th>\n",
       "      <th>DoctorInCharge</th>\n",
       "    </tr>\n",
       "  </thead>\n",
       "  <tbody>\n",
       "    <tr>\n",
       "      <th>0</th>\n",
       "      <td>3058</td>\n",
       "      <td>85</td>\n",
       "      <td>0</td>\n",
       "      <td>3</td>\n",
       "      <td>1</td>\n",
       "      <td>19.619878</td>\n",
       "      <td>0</td>\n",
       "      <td>5.108241</td>\n",
       "      <td>1.380660</td>\n",
       "      <td>3.893969</td>\n",
       "      <td>...</td>\n",
       "      <td>1.572427</td>\n",
       "      <td>1</td>\n",
       "      <td>0</td>\n",
       "      <td>0</td>\n",
       "      <td>0</td>\n",
       "      <td>0</td>\n",
       "      <td>0</td>\n",
       "      <td>0</td>\n",
       "      <td>0</td>\n",
       "      <td>DrXXXConfid</td>\n",
       "    </tr>\n",
       "    <tr>\n",
       "      <th>1</th>\n",
       "      <td>3059</td>\n",
       "      <td>75</td>\n",
       "      <td>0</td>\n",
       "      <td>0</td>\n",
       "      <td>2</td>\n",
       "      <td>16.247339</td>\n",
       "      <td>1</td>\n",
       "      <td>6.027648</td>\n",
       "      <td>8.409804</td>\n",
       "      <td>8.513428</td>\n",
       "      <td>...</td>\n",
       "      <td>4.787551</td>\n",
       "      <td>0</td>\n",
       "      <td>1</td>\n",
       "      <td>0</td>\n",
       "      <td>1</td>\n",
       "      <td>0</td>\n",
       "      <td>1</td>\n",
       "      <td>0</td>\n",
       "      <td>1</td>\n",
       "      <td>DrXXXConfid</td>\n",
       "    </tr>\n",
       "    <tr>\n",
       "      <th>2</th>\n",
       "      <td>3060</td>\n",
       "      <td>70</td>\n",
       "      <td>1</td>\n",
       "      <td>0</td>\n",
       "      <td>0</td>\n",
       "      <td>15.368239</td>\n",
       "      <td>0</td>\n",
       "      <td>2.242135</td>\n",
       "      <td>0.213275</td>\n",
       "      <td>6.498805</td>\n",
       "      <td>...</td>\n",
       "      <td>2.130686</td>\n",
       "      <td>1</td>\n",
       "      <td>0</td>\n",
       "      <td>0</td>\n",
       "      <td>0</td>\n",
       "      <td>1</td>\n",
       "      <td>0</td>\n",
       "      <td>1</td>\n",
       "      <td>1</td>\n",
       "      <td>DrXXXConfid</td>\n",
       "    </tr>\n",
       "    <tr>\n",
       "      <th>3</th>\n",
       "      <td>3061</td>\n",
       "      <td>52</td>\n",
       "      <td>0</td>\n",
       "      <td>0</td>\n",
       "      <td>0</td>\n",
       "      <td>15.454557</td>\n",
       "      <td>0</td>\n",
       "      <td>5.997788</td>\n",
       "      <td>1.375045</td>\n",
       "      <td>6.715033</td>\n",
       "      <td>...</td>\n",
       "      <td>3.391288</td>\n",
       "      <td>1</td>\n",
       "      <td>1</td>\n",
       "      <td>1</td>\n",
       "      <td>0</td>\n",
       "      <td>0</td>\n",
       "      <td>0</td>\n",
       "      <td>1</td>\n",
       "      <td>1</td>\n",
       "      <td>DrXXXConfid</td>\n",
       "    </tr>\n",
       "    <tr>\n",
       "      <th>4</th>\n",
       "      <td>3062</td>\n",
       "      <td>87</td>\n",
       "      <td>0</td>\n",
       "      <td>0</td>\n",
       "      <td>1</td>\n",
       "      <td>18.616042</td>\n",
       "      <td>0</td>\n",
       "      <td>9.775243</td>\n",
       "      <td>1.188607</td>\n",
       "      <td>4.657572</td>\n",
       "      <td>...</td>\n",
       "      <td>3.200969</td>\n",
       "      <td>0</td>\n",
       "      <td>0</td>\n",
       "      <td>0</td>\n",
       "      <td>1</td>\n",
       "      <td>0</td>\n",
       "      <td>1</td>\n",
       "      <td>0</td>\n",
       "      <td>0</td>\n",
       "      <td>DrXXXConfid</td>\n",
       "    </tr>\n",
       "    <tr>\n",
       "      <th>...</th>\n",
       "      <td>...</td>\n",
       "      <td>...</td>\n",
       "      <td>...</td>\n",
       "      <td>...</td>\n",
       "      <td>...</td>\n",
       "      <td>...</td>\n",
       "      <td>...</td>\n",
       "      <td>...</td>\n",
       "      <td>...</td>\n",
       "      <td>...</td>\n",
       "      <td>...</td>\n",
       "      <td>...</td>\n",
       "      <td>...</td>\n",
       "      <td>...</td>\n",
       "      <td>...</td>\n",
       "      <td>...</td>\n",
       "      <td>...</td>\n",
       "      <td>...</td>\n",
       "      <td>...</td>\n",
       "      <td>...</td>\n",
       "      <td>...</td>\n",
       "    </tr>\n",
       "    <tr>\n",
       "      <th>2100</th>\n",
       "      <td>5158</td>\n",
       "      <td>87</td>\n",
       "      <td>1</td>\n",
       "      <td>0</td>\n",
       "      <td>2</td>\n",
       "      <td>38.483841</td>\n",
       "      <td>0</td>\n",
       "      <td>12.674393</td>\n",
       "      <td>5.325900</td>\n",
       "      <td>5.947278</td>\n",
       "      <td>...</td>\n",
       "      <td>8.076254</td>\n",
       "      <td>1</td>\n",
       "      <td>0</td>\n",
       "      <td>0</td>\n",
       "      <td>0</td>\n",
       "      <td>1</td>\n",
       "      <td>1</td>\n",
       "      <td>0</td>\n",
       "      <td>0</td>\n",
       "      <td>DrXXXConfid</td>\n",
       "    </tr>\n",
       "    <tr>\n",
       "      <th>2101</th>\n",
       "      <td>5159</td>\n",
       "      <td>67</td>\n",
       "      <td>0</td>\n",
       "      <td>0</td>\n",
       "      <td>1</td>\n",
       "      <td>33.694396</td>\n",
       "      <td>1</td>\n",
       "      <td>0.977018</td>\n",
       "      <td>0.108599</td>\n",
       "      <td>4.825187</td>\n",
       "      <td>...</td>\n",
       "      <td>1.665751</td>\n",
       "      <td>0</td>\n",
       "      <td>0</td>\n",
       "      <td>0</td>\n",
       "      <td>1</td>\n",
       "      <td>0</td>\n",
       "      <td>1</td>\n",
       "      <td>1</td>\n",
       "      <td>1</td>\n",
       "      <td>DrXXXConfid</td>\n",
       "    </tr>\n",
       "    <tr>\n",
       "      <th>2102</th>\n",
       "      <td>5160</td>\n",
       "      <td>65</td>\n",
       "      <td>0</td>\n",
       "      <td>0</td>\n",
       "      <td>2</td>\n",
       "      <td>22.829631</td>\n",
       "      <td>0</td>\n",
       "      <td>6.152286</td>\n",
       "      <td>5.775103</td>\n",
       "      <td>0.334244</td>\n",
       "      <td>...</td>\n",
       "      <td>4.785614</td>\n",
       "      <td>0</td>\n",
       "      <td>0</td>\n",
       "      <td>0</td>\n",
       "      <td>0</td>\n",
       "      <td>1</td>\n",
       "      <td>1</td>\n",
       "      <td>0</td>\n",
       "      <td>1</td>\n",
       "      <td>DrXXXConfid</td>\n",
       "    </tr>\n",
       "    <tr>\n",
       "      <th>2103</th>\n",
       "      <td>5161</td>\n",
       "      <td>61</td>\n",
       "      <td>1</td>\n",
       "      <td>0</td>\n",
       "      <td>0</td>\n",
       "      <td>16.871030</td>\n",
       "      <td>1</td>\n",
       "      <td>0.292094</td>\n",
       "      <td>2.280475</td>\n",
       "      <td>9.598513</td>\n",
       "      <td>...</td>\n",
       "      <td>8.378979</td>\n",
       "      <td>1</td>\n",
       "      <td>0</td>\n",
       "      <td>1</td>\n",
       "      <td>0</td>\n",
       "      <td>0</td>\n",
       "      <td>1</td>\n",
       "      <td>1</td>\n",
       "      <td>1</td>\n",
       "      <td>DrXXXConfid</td>\n",
       "    </tr>\n",
       "    <tr>\n",
       "      <th>2104</th>\n",
       "      <td>5162</td>\n",
       "      <td>56</td>\n",
       "      <td>0</td>\n",
       "      <td>0</td>\n",
       "      <td>2</td>\n",
       "      <td>16.569934</td>\n",
       "      <td>0</td>\n",
       "      <td>1.985084</td>\n",
       "      <td>1.400441</td>\n",
       "      <td>9.883835</td>\n",
       "      <td>...</td>\n",
       "      <td>5.015131</td>\n",
       "      <td>0</td>\n",
       "      <td>0</td>\n",
       "      <td>0</td>\n",
       "      <td>0</td>\n",
       "      <td>1</td>\n",
       "      <td>0</td>\n",
       "      <td>1</td>\n",
       "      <td>0</td>\n",
       "      <td>DrXXXConfid</td>\n",
       "    </tr>\n",
       "  </tbody>\n",
       "</table>\n",
       "<p>2105 rows × 35 columns</p>\n",
       "</div>"
      ],
      "text/plain": [
       "      PatientID  Age  Gender  Ethnicity  EducationLevel        BMI  Smoking  \\\n",
       "0          3058   85       0          3               1  19.619878        0   \n",
       "1          3059   75       0          0               2  16.247339        1   \n",
       "2          3060   70       1          0               0  15.368239        0   \n",
       "3          3061   52       0          0               0  15.454557        0   \n",
       "4          3062   87       0          0               1  18.616042        0   \n",
       "...         ...  ...     ...        ...             ...        ...      ...   \n",
       "2100       5158   87       1          0               2  38.483841        0   \n",
       "2101       5159   67       0          0               1  33.694396        1   \n",
       "2102       5160   65       0          0               2  22.829631        0   \n",
       "2103       5161   61       1          0               0  16.871030        1   \n",
       "2104       5162   56       0          0               2  16.569934        0   \n",
       "\n",
       "      AlcoholConsumption  PhysicalActivity  DietQuality  ...  \\\n",
       "0               5.108241          1.380660     3.893969  ...   \n",
       "1               6.027648          8.409804     8.513428  ...   \n",
       "2               2.242135          0.213275     6.498805  ...   \n",
       "3               5.997788          1.375045     6.715033  ...   \n",
       "4               9.775243          1.188607     4.657572  ...   \n",
       "...                  ...               ...          ...  ...   \n",
       "2100           12.674393          5.325900     5.947278  ...   \n",
       "2101            0.977018          0.108599     4.825187  ...   \n",
       "2102            6.152286          5.775103     0.334244  ...   \n",
       "2103            0.292094          2.280475     9.598513  ...   \n",
       "2104            1.985084          1.400441     9.883835  ...   \n",
       "\n",
       "      FunctionalAssessment  Tremor  Rigidity  Bradykinesia  \\\n",
       "0                 1.572427       1         0             0   \n",
       "1                 4.787551       0         1             0   \n",
       "2                 2.130686       1         0             0   \n",
       "3                 3.391288       1         1             1   \n",
       "4                 3.200969       0         0             0   \n",
       "...                    ...     ...       ...           ...   \n",
       "2100              8.076254       1         0             0   \n",
       "2101              1.665751       0         0             0   \n",
       "2102              4.785614       0         0             0   \n",
       "2103              8.378979       1         0             1   \n",
       "2104              5.015131       0         0             0   \n",
       "\n",
       "      PosturalInstability  SpeechProblems  SleepDisorders  Constipation  \\\n",
       "0                       0               0               0             0   \n",
       "1                       1               0               1             0   \n",
       "2                       0               1               0             1   \n",
       "3                       0               0               0             1   \n",
       "4                       1               0               1             0   \n",
       "...                   ...             ...             ...           ...   \n",
       "2100                    0               1               1             0   \n",
       "2101                    1               0               1             1   \n",
       "2102                    0               1               1             0   \n",
       "2103                    0               0               1             1   \n",
       "2104                    0               1               0             1   \n",
       "\n",
       "      Diagnosis  DoctorInCharge  \n",
       "0             0     DrXXXConfid  \n",
       "1             1     DrXXXConfid  \n",
       "2             1     DrXXXConfid  \n",
       "3             1     DrXXXConfid  \n",
       "4             0     DrXXXConfid  \n",
       "...         ...             ...  \n",
       "2100          0     DrXXXConfid  \n",
       "2101          1     DrXXXConfid  \n",
       "2102          1     DrXXXConfid  \n",
       "2103          1     DrXXXConfid  \n",
       "2104          0     DrXXXConfid  \n",
       "\n",
       "[2105 rows x 35 columns]"
      ]
     },
     "metadata": {},
     "output_type": "display_data"
    }
   ],
   "source": [
    "# Menampilkan judul dari Tabel\n",
    "display(HTML('<center><b><h3>Data Pasien Lanjut Usia</h3></b></center>'))\n",
    "# Menampilkan dataframe original\n",
    "display(df_org)"
   ]
  },
  {
   "cell_type": "markdown",
   "metadata": {},
   "source": [
    "<div style='text-align justify'>Berdasarkan informasi pada tabel <em>dataframe</em> yang telah ditampilkan bahwa data pasien lanjut usia terdiri dari 2105 pasien dengan 35 informasi detail rincian pasien tersebut dalam bentuk kolom. </div>"
   ]
  },
  {
   "cell_type": "code",
   "execution_count": 3,
   "metadata": {},
   "outputs": [
    {
     "name": "stdout",
     "output_type": "stream",
     "text": [
      "<class 'pandas.core.frame.DataFrame'>\n",
      "RangeIndex: 2105 entries, 0 to 2104\n",
      "Data columns (total 35 columns):\n",
      " #   Column                    Non-Null Count  Dtype  \n",
      "---  ------                    --------------  -----  \n",
      " 0   PatientID                 2105 non-null   int64  \n",
      " 1   Age                       2105 non-null   int64  \n",
      " 2   Gender                    2105 non-null   int64  \n",
      " 3   Ethnicity                 2105 non-null   int64  \n",
      " 4   EducationLevel            2105 non-null   int64  \n",
      " 5   BMI                       2105 non-null   float64\n",
      " 6   Smoking                   2105 non-null   int64  \n",
      " 7   AlcoholConsumption        2105 non-null   float64\n",
      " 8   PhysicalActivity          2105 non-null   float64\n",
      " 9   DietQuality               2105 non-null   float64\n",
      " 10  SleepQuality              2105 non-null   float64\n",
      " 11  FamilyHistoryParkinsons   2105 non-null   int64  \n",
      " 12  TraumaticBrainInjury      2105 non-null   int64  \n",
      " 13  Hypertension              2105 non-null   int64  \n",
      " 14  Diabetes                  2105 non-null   int64  \n",
      " 15  Depression                2105 non-null   int64  \n",
      " 16  Stroke                    2105 non-null   int64  \n",
      " 17  SystolicBP                2105 non-null   int64  \n",
      " 18  DiastolicBP               2105 non-null   int64  \n",
      " 19  CholesterolTotal          2105 non-null   float64\n",
      " 20  CholesterolLDL            2105 non-null   float64\n",
      " 21  CholesterolHDL            2105 non-null   float64\n",
      " 22  CholesterolTriglycerides  2105 non-null   float64\n",
      " 23  UPDRS                     2105 non-null   float64\n",
      " 24  MoCA                      2105 non-null   float64\n",
      " 25  FunctionalAssessment      2105 non-null   float64\n",
      " 26  Tremor                    2105 non-null   int64  \n",
      " 27  Rigidity                  2105 non-null   int64  \n",
      " 28  Bradykinesia              2105 non-null   int64  \n",
      " 29  PosturalInstability       2105 non-null   int64  \n",
      " 30  SpeechProblems            2105 non-null   int64  \n",
      " 31  SleepDisorders            2105 non-null   int64  \n",
      " 32  Constipation              2105 non-null   int64  \n",
      " 33  Diagnosis                 2105 non-null   int64  \n",
      " 34  DoctorInCharge            2105 non-null   object \n",
      "dtypes: float64(12), int64(22), object(1)\n",
      "memory usage: 575.7+ KB\n"
     ]
    }
   ],
   "source": [
    "# Menampilkan informasi umum mengenai dataframe\n",
    "df_org.info()"
   ]
  },
  {
   "cell_type": "markdown",
   "metadata": {},
   "source": [
    "<div style=\"text-align: justify\">Berdasarkan informasi di atas terlihat bahwa sebagian besar tipe data pada kolom yang berada pada <em>dataframe</em> pasien lanjut usia telat memiliki bentuk numerik, bentuk numerik dari berbagai kolom seperti <em>gender</em>, <em>Ethnicity</em> dan <em>education level</em> telah dilakukan proses <em>encoding</em> sehingga menghasilkan bentuk <em>integer</em> yang melambangkan kelompok tertentu. Pada <em>dataframe</em> ini secara umum tidak memiliki <em>missing value</em>. Detail kolom yang akan digunakan adalah sebagai berikut.</div>\n",
    "\n",
    "#### _Unique Indentifier_\n",
    "\n",
    "- **PatientID**: Merupakan bentuk _primary key_ dari _dataframe_ pasien lanjut usia yang melambangkan nomor unik dari pasien tersebut.\n",
    "\n",
    "#### _Demographic Details_\n",
    "\n",
    "- **Age**: Merupakan umur dari pasien pada Rumah Sakit A yang berkisar dari 50 sampai 90 Tahun\n",
    "- **Gender**: Merupakan representasi jenis kelamin dari pasien yang dilambangkan sebagai berikut.\n",
    "    - 0 : Pria\n",
    "    - 1 : Wanita\n",
    "- **Ethnicity**: Merupakan representasi dari latar belakang etnis atau ras pasien tersebut, yang dapat dilambangkan sebagai berikut.\n",
    "    - 0 : Kaukasia\n",
    "    - 1 : Afrika Amerika\n",
    "    - 2 : Asian\n",
    "    - 3 : Lainnya\n",
    "- **EducationLevel**: Merupakan tingkat pendidikan dari pasien tersebut, yang dapat dilambangkan sebagai berikut.\n",
    "    - 0 : Di bawah SMA Sederajat\n",
    "    - 1 : SMA Sederajat\n",
    "    - 2 : Sarjana\n",
    "    - 3 : Di atas Sarjana\n",
    "\n",
    "#### _Medical History_\n",
    "\n",
    "- **FamilyHistoryParkinsons**: Merupakan kondisi _boolean_ pasien yang terindikasi memiliki riwayat penyakit Parkinson yang diderita oleh keluarga pasien.\n",
    "- **TraumaticBrainInjury**: Merupakan kondisi _boolean_ pasien yang terindikasi memiliki riwayat cidera otak.\n",
    "- **Hypertension**: Merupakan kondisi _boolean_ pasien yang terindikasi memiliki riwayat hipertensi.\n",
    "- **Diabetes**: Merupakan kondisi _boolean_ pasien yang terindikasi memiliki riwayat diabetes.\n",
    "- **Depression**: Merupakan kondisi _boolean_ pasien yang terindikasi mengalami riwayat penyakit depresi.\n",
    "- **Stroke**: Merupakan kondisi _boolean_ pasien yang terindikasi memiliki riwayat penyakit stroke.\n",
    "\n",
    "\n",
    "#### _Lifestyle Factors_\n",
    "\n",
    "- **BMI**: Merupakan perkiraan lemak tubuh yang didasarkan pada tinggi dan berat badan, yang memiliki rentang dari 15 sampai 40.\n",
    "- **Smoking**: Merupakan kondisi _boolean_ pasien yang terindikasi merokok.\n",
    "- **AlcoholConsumption**: Merupakan jumlah konsumsi alkohol pada satu minggu dalam satuan gelas yang memiliki rentang dari 0 sampai 20.\n",
    "- **PhysicalActivity**: Merupakan jumlah waktu aktivitas yang berhubungan dengan fisik dalam satuan jam yang memiliki rentang dari 0 sampai 10.\n",
    "- **DietQuality**: Merupakan kualitas diet yang dilakukan oleh pasien yang memiliki rentang dari 0 sampai 10.\n",
    "- **SleepQuality**: Merupakan kualitas tidur oleh pasien yang memiliki rentang dari 4 sampai 10.\n",
    "\n",
    "#### _Clinical Measurements_\n",
    "\n",
    "- **SystolicBP**: Merupakan tekanan darah Systolic.\n",
    "- **DiastolicBP**: Merupakan tekanan darah Diastolic.\n",
    "- **CholesterolTotal**: Merupakan jumlah keseluruhan kolesterol.\n",
    "- **CholesterolLDL**: Merupakan jumlah kolesterol jahat atau kolesterol dengan kepadatan rendah.\n",
    "- **CholesterolHDL**: Merupakan jumlah kolesterol baik atau kolesterol dengan kepadatan tinggi.\n",
    "- **CholesterolTriglycerides**: Merupakan tingkat Triglycerides dalam tubuh. \n",
    "\n",
    "#### _Cognitive and Functional Assessments_\n",
    "\n",
    "- **UPDRS** (_Unified Parkinson's Disease Ratinng Scale_): Merupakan skor tingkat keparahan penyakit Parkinson yang berkisar dari 0 sampai 199, semakin tinggi skor UPDRS maka semakin parah tingkat keparahan penyakit Parkinson, penilaian ini dilakukan oleh pihak medis.\n",
    "- **MoCA** (_Montreal Cognitive Assessment Score_): Merupakan tingkat kemampuan berpikir yang berkisar dari 0 sampai 30, semakin kecil skor MoCA maka semakin parah gangguan pemikiran yang dialami pasien, penilaian ini dilakukan oleh pihak medis.\n",
    "- **FunctionalAssessment**: Merupakan tingkat kemampuan pasien dalam melakukan aktivitas sehari-hari yang berkisar antara 0 sampai 10, semakin kecil skor FunctionalAssessment maka semakin parah gangguan aktivitas sehari-hari yang dialami oleh pasien, penilaian ini dilakukan oleh pihak medis.\n",
    "\n",
    "#### _Symptoms_\n",
    "\n",
    "- **Tremor**: Merupakan kondisi _boolean_ pasien yang terindikasi mengalami tremor.\n",
    "- **Rigidity**: Merupakan kondisi _boolean_ pasien yang terindikasi mengalami kekakuan otot.\n",
    "- **Bradykinesia**: Merupakan kondisi _boolean_ pasien yang terindikasi mengalami pergerakan yang lambat.\n",
    "- **PosturalInstability**: Merupakan kondisi _boolean_ pasien yang terindikasi mengalami gangguan keseimbangan tubuh.\n",
    "- **SpeechProblems**: Merupakan kondisi _boolean_ pasien yang terindikasi mengalami gangguan berbicara.\n",
    "- **SleepDisorders**: Merupakan kondisi _boolean_ pasien yang terindikasi mengalami gangguan tidur.\n",
    "- **Constipation**: Merupakan kondisi _boolean_ pasien yang terindikasi mengalami gangguan buang air besar.\n",
    "\n",
    "#### _Diagnosis Information_\n",
    "\n",
    "- **Diagnosis**: Merupakan kondisi _boolean_ pasien dengan  nilai 1 terindikasi terkena penyakit Parkinson dan nilai 0 tidak berindikasi terkena penyakit Parkinson.\n",
    "\n",
    "#### _Confidential Information_\n",
    "\n",
    "- **DoctorInCharge**: Merupakan informasi dokter yang menangani pasien tersebut."
   ]
  },
  {
   "cell_type": "markdown",
   "metadata": {},
   "source": [
    "## **D. Data Cleaning**\n",
    "\n",
    "<div style=\"text-align: justify\"> Proses pada tahap ini berfokus pada pengolahan data yang berguna untuk membuat data dapat diproses menggunakan pengujian dan analisis dengan menggunakan tipe data yang tepat, <em>format</em> data yang tepat serta pengisian <em>missing value</em> pada setiap kolom pada <em>dataframe</em>.</div>"
   ]
  },
  {
   "cell_type": "code",
   "execution_count": 4,
   "metadata": {},
   "outputs": [],
   "source": [
    "# Persalinan dataframe menjadi dataframe tahap data cleaning\n",
    "df_clean = df_org.copy()"
   ]
  },
  {
   "cell_type": "markdown",
   "metadata": {},
   "source": [
    "### 1. Pengecekan _missing value_"
   ]
  },
  {
   "cell_type": "code",
   "execution_count": 5,
   "metadata": {},
   "outputs": [
    {
     "name": "stdout",
     "output_type": "stream",
     "text": [
      "Jumlah missing value pada keseluruhan kolom: 0\n"
     ]
    }
   ],
   "source": [
    "# Pembuatan list berisi jumlah pengecekan missing value pada setiap baris \n",
    "column_list_null = list(df_clean.isnull().sum())\n",
    "\n",
    "# Penjumlahan setiap baris pada variabel column list null\n",
    "print(f'Jumlah missing value pada keseluruhan kolom: {sum(column_list_null)}')"
   ]
  },
  {
   "cell_type": "markdown",
   "metadata": {},
   "source": [
    "<div style=\"text-align: justify\">Berdasarkan informasi di atas terlihat bahwa dari semua kolom, tidak terdapat <em>missing value</em> yang didasarkan pada tidak adanya nilai <em>True</em> pada penjumlahan setiap isi <em>list</em> variabel <strong>column_list_null</strong> sehingga nilai jumlah <em>missing value</em> bernilai 0. Maka dari itu, tidak akan dibutuhkan pengisian <em>missing value</em>.</div>"
   ]
  },
  {
   "cell_type": "markdown",
   "metadata": {},
   "source": [
    "### 2. Pengecekan data duplikasi"
   ]
  },
  {
   "cell_type": "code",
   "execution_count": 6,
   "metadata": {},
   "outputs": [
    {
     "name": "stdout",
     "output_type": "stream",
     "text": [
      "Jumlah duplikasi data pada dataframe: 0\n"
     ]
    }
   ],
   "source": [
    "# Pengecekan jumlah data yang terduplikasi pada dataframe \n",
    "print(f'Jumlah duplikasi data pada dataframe: {df_clean.duplicated().sum()}')"
   ]
  },
  {
   "cell_type": "markdown",
   "metadata": {},
   "source": [
    "<div style='text-align: justify'>Berdasarkan informasi di atas bahwa tidak ada data yang sama pada masing-masing baris yang ada pada <em>dataframe</em> <strong>df_clean</strong>, hal ini dapat dilihat dengan jumlah data duplikasi sebesar 0. Melihat hal ini tidak dibutuhkan pengolahan penghapusan data duplikat.</div>"
   ]
  },
  {
   "cell_type": "markdown",
   "metadata": {},
   "source": [
    "### 3. Penghapusan Kolom"
   ]
  },
  {
   "cell_type": "code",
   "execution_count": 7,
   "metadata": {},
   "outputs": [
    {
     "data": {
      "text/plain": [
       "array(['DrXXXConfid'], dtype=object)"
      ]
     },
     "execution_count": 7,
     "metadata": {},
     "output_type": "execute_result"
    }
   ],
   "source": [
    "# Pengecekan unique value dari kolom dokter yang menangani pasien\n",
    "df_clean['DoctorInCharge'].unique()"
   ]
  },
  {
   "cell_type": "code",
   "execution_count": 8,
   "metadata": {},
   "outputs": [],
   "source": [
    "# Pembuatan list kolom yang akan dihapus\n",
    "deleted_columns = [\n",
    "    'SystolicBP',\n",
    "    'DiastolicBP',\n",
    "    'CholesterolTotal',\n",
    "    'CholesterolLDL',\n",
    "    'CholesterolHDL',\n",
    "    'CholesterolTriglycerides',\n",
    "    'UPDRS',\n",
    "    'MoCA',\n",
    "    'FunctionalAssessment',\n",
    "    'DoctorInCharge'\n",
    "]\n",
    "\n",
    "# Penghapusan kolom berdasarkan variabel list yang telah dibuat pada dataframe\n",
    "df_clean.drop(columns=deleted_columns, inplace=True)"
   ]
  },
  {
   "cell_type": "markdown",
   "metadata": {},
   "source": [
    "<div style='text-align: justify'>Berdasarkan pengecekan <em>unique value</em> dari kolom <strong>DoctorInCharge</strong> terlihat bahwa isi dari kolom tersebut hanya terdiri dari satu <em>value</em>, maka dari itu untuk mengurangi penggunaan data berulang dikarenakan hanya berisi satu value yang sama maka dapat dihilangkan pada <em>dataframe</em> dan juga tidak memberikan informasi yang relevan terkait dengan informasi identifikasi penyakit Parkinson. Sementara kolom lain yang dihilangkan adalah keseluruhan bagian dari <em>clinical measurement</em> dan <em>Cognitive and Functional Assessments</em>, hal ini dikarenakan kurangnya latar belakang penulis dalam bidang kesehatan terkait hasil data pengukuran klinis sehingga dapat mengakibatkan interpretasi data yang salah atau kurang tepat.<div> "
   ]
  },
  {
   "cell_type": "markdown",
   "metadata": {},
   "source": [
    "### 4. Pengecekan tipe kolom"
   ]
  },
  {
   "cell_type": "code",
   "execution_count": 9,
   "metadata": {},
   "outputs": [
    {
     "name": "stdout",
     "output_type": "stream",
     "text": [
      "Tipe-tipe data pada dataframe adalah sebagai berikut: {dtype('int64'), dtype('float64')}\n"
     ]
    }
   ],
   "source": [
    "# Pembuatan list kosong sebagai variabel pengisi tipe\n",
    "column_set = []\n",
    "\n",
    "# Pembuatan for loop untuk setiap kolom pada dataframe\n",
    "for column in df_clean.columns:\n",
    "    # Memasukkan tipe dari kolom ke dalam variabel\n",
    "    column_set.append(df_clean[column].dtypes)\n",
    "\n",
    "# Menampilkan informasi tipe data yang ada pada variabel berisi tipe kolom \n",
    "print(f'Tipe-tipe data pada dataframe adalah sebagai berikut: {set(column_set)}')"
   ]
  },
  {
   "cell_type": "markdown",
   "metadata": {},
   "source": [
    "<div style='text-align: justify'>Berdasarkan informasi di atas dapat diketahui bahwa tidak ada tipe data kolom yang memiliki jenis <em>object</em>, maka dari itu pada tahap pengolahan analisis akan dipermudah dengan penggunaan data berbentuk numerik sebagai lambang kategorikal dari suatu <em>object</em>. Sehingga tidak dibutuhkan pengolahan pengubahan tipe kolom pada tahap <em>data cleaning</em></div>"
   ]
  },
  {
   "cell_type": "markdown",
   "metadata": {},
   "source": [
    "### 5. Pergantian Nama Kolom"
   ]
  },
  {
   "cell_type": "code",
   "execution_count": 11,
   "metadata": {},
   "outputs": [
    {
     "data": {
      "text/plain": [
       "Index(['Pasien ID', 'Umur', 'Gender', 'Etnis', 'Tingkat Pendidikan', 'BMI',\n",
       "       'Perokok Aktif', 'Konsumsi Alkohol per Minggu',\n",
       "       'Jam Aktivitas Fisik per Minggu', 'Kualitas Diet', 'Kualitas Tidur',\n",
       "       'Riwayat Keluarga Parkinson', 'Riwayat Cidera Otak',\n",
       "       'Riwayat Hipertensi', 'Riwayat Diabetes', 'Riwayat Depresi',\n",
       "       'Riwayat Stroke', 'Gejala Tremor', 'Gejala Otot Kaku',\n",
       "       'Gejala Lambatnya Gerakan Tubuh', 'Gejala Ketidakstabilan Tubuh',\n",
       "       'Gejala Masalah Bicara', 'Gejala Gangguan Tidur',\n",
       "       'Gejala Gangguan Buang Air Besar', 'Diagnosis'],\n",
       "      dtype='object')"
      ]
     },
     "execution_count": 11,
     "metadata": {},
     "output_type": "execute_result"
    }
   ],
   "source": [
    "# Pembuatan dictionary berisi nama kolom lama sebagai key dan nama kolom baru sebagai value\n",
    "rename_dict = {\n",
    "    'PatientID'             : 'Pasien ID',\n",
    "    'Age'                   : 'Umur',\n",
    "    'Ethnicity'             : 'Etnis',\n",
    "    'EducationLevel'        : 'Tingkat Pendidikan',\n",
    "    'Smoking'               : 'Perokok Aktif',\n",
    "    'AlcoholConsumption'    : 'Konsumsi Alkohol per Minggu',\n",
    "    'PhysicalActivity'      : 'Jam Aktivitas Fisik per Minggu',\n",
    "    'DietQuality'           : 'Kualitas Diet',\n",
    "    'SleepQuality'          : 'Kualitas Tidur',\n",
    "    'FamilyHistoryParkinsons': 'Riwayat Keluarga Parkinson',\n",
    "    'TraumaticBrainInjury'  : 'Riwayat Cidera Otak',\n",
    "    'Hypertension'          : 'Riwayat Hipertensi',\n",
    "    'Diabetes'              : 'Riwayat Diabetes',\n",
    "    'Depression'            : 'Riwayat Depresi',\n",
    "    'Stroke'                : 'Riwayat Stroke',\n",
    "    'Tremor'                : 'Gejala Tremor',\n",
    "    'Rigidity'              : 'Gejala Otot Kaku',\n",
    "    'Bradykinesia'          : 'Gejala Lambatnya Gerakan Tubuh',\n",
    "    'PosturalInstability'   : 'Gejala Ketidakstabilan Tubuh',\n",
    "    'SpeechProblems'        : 'Gejala Masalah Bicara',\n",
    "    'SleepDisorders'        : 'Gejala Gangguan Tidur',\n",
    "    'Constipation'          : 'Gejala Gangguan Buang Air Besar'\n",
    "}\n",
    "\n",
    "# Proses pergantian nama berdasarkan variabel dictionary yang telah dibuat\n",
    "df_clean.rename(columns=rename_dict, inplace=True)\n",
    "\n",
    "# Menampilkan nama kolom dari dataframe\n",
    "df_clean.columns"
   ]
  },
  {
   "cell_type": "markdown",
   "metadata": {},
   "source": [
    "<div style='text-align: justify'>Terlihat bahwa pemberian nama kolom baru dilakukan untuk mempermudah pengolahan data dalam Bahasa Indonesia dan lebih mudah dalam identifikasi isi kolom berdasarkan nama kolom. Terlihat dari nama kolom dari <em>dataframe</em> telah berhasil diganti berdasarkan variabel pada <strong>rename_dict</strong>.</div>"
   ]
  },
  {
   "cell_type": "code",
   "execution_count": 12,
   "metadata": {},
   "outputs": [
    {
     "data": {
      "text/html": [
       "<center><b><h3>Data Pasien Lanjut Usia</h3></b></center>"
      ],
      "text/plain": [
       "<IPython.core.display.HTML object>"
      ]
     },
     "metadata": {},
     "output_type": "display_data"
    },
    {
     "data": {
      "text/html": [
       "<div>\n",
       "<style scoped>\n",
       "    .dataframe tbody tr th:only-of-type {\n",
       "        vertical-align: middle;\n",
       "    }\n",
       "\n",
       "    .dataframe tbody tr th {\n",
       "        vertical-align: top;\n",
       "    }\n",
       "\n",
       "    .dataframe thead th {\n",
       "        text-align: right;\n",
       "    }\n",
       "</style>\n",
       "<table border=\"1\" class=\"dataframe\">\n",
       "  <thead>\n",
       "    <tr style=\"text-align: right;\">\n",
       "      <th></th>\n",
       "      <th>Pasien ID</th>\n",
       "      <th>Umur</th>\n",
       "      <th>Gender</th>\n",
       "      <th>Etnis</th>\n",
       "      <th>Tingkat Pendidikan</th>\n",
       "      <th>BMI</th>\n",
       "      <th>Perokok Aktif</th>\n",
       "      <th>Konsumsi Alkohol per Minggu</th>\n",
       "      <th>Jam Aktivitas Fisik per Minggu</th>\n",
       "      <th>Kualitas Diet</th>\n",
       "      <th>...</th>\n",
       "      <th>Riwayat Depresi</th>\n",
       "      <th>Riwayat Stroke</th>\n",
       "      <th>Gejala Tremor</th>\n",
       "      <th>Gejala Otot Kaku</th>\n",
       "      <th>Gejala Lambatnya Gerakan Tubuh</th>\n",
       "      <th>Gejala Ketidakstabilan Tubuh</th>\n",
       "      <th>Gejala Masalah Bicara</th>\n",
       "      <th>Gejala Gangguan Tidur</th>\n",
       "      <th>Gejala Gangguan Buang Air Besar</th>\n",
       "      <th>Diagnosis</th>\n",
       "    </tr>\n",
       "  </thead>\n",
       "  <tbody>\n",
       "    <tr>\n",
       "      <th>0</th>\n",
       "      <td>3058</td>\n",
       "      <td>85</td>\n",
       "      <td>0</td>\n",
       "      <td>3</td>\n",
       "      <td>1</td>\n",
       "      <td>19.619878</td>\n",
       "      <td>0</td>\n",
       "      <td>5.108241</td>\n",
       "      <td>1.380660</td>\n",
       "      <td>3.893969</td>\n",
       "      <td>...</td>\n",
       "      <td>0</td>\n",
       "      <td>0</td>\n",
       "      <td>1</td>\n",
       "      <td>0</td>\n",
       "      <td>0</td>\n",
       "      <td>0</td>\n",
       "      <td>0</td>\n",
       "      <td>0</td>\n",
       "      <td>0</td>\n",
       "      <td>0</td>\n",
       "    </tr>\n",
       "    <tr>\n",
       "      <th>1</th>\n",
       "      <td>3059</td>\n",
       "      <td>75</td>\n",
       "      <td>0</td>\n",
       "      <td>0</td>\n",
       "      <td>2</td>\n",
       "      <td>16.247339</td>\n",
       "      <td>1</td>\n",
       "      <td>6.027648</td>\n",
       "      <td>8.409804</td>\n",
       "      <td>8.513428</td>\n",
       "      <td>...</td>\n",
       "      <td>0</td>\n",
       "      <td>0</td>\n",
       "      <td>0</td>\n",
       "      <td>1</td>\n",
       "      <td>0</td>\n",
       "      <td>1</td>\n",
       "      <td>0</td>\n",
       "      <td>1</td>\n",
       "      <td>0</td>\n",
       "      <td>1</td>\n",
       "    </tr>\n",
       "    <tr>\n",
       "      <th>2</th>\n",
       "      <td>3060</td>\n",
       "      <td>70</td>\n",
       "      <td>1</td>\n",
       "      <td>0</td>\n",
       "      <td>0</td>\n",
       "      <td>15.368239</td>\n",
       "      <td>0</td>\n",
       "      <td>2.242135</td>\n",
       "      <td>0.213275</td>\n",
       "      <td>6.498805</td>\n",
       "      <td>...</td>\n",
       "      <td>0</td>\n",
       "      <td>0</td>\n",
       "      <td>1</td>\n",
       "      <td>0</td>\n",
       "      <td>0</td>\n",
       "      <td>0</td>\n",
       "      <td>1</td>\n",
       "      <td>0</td>\n",
       "      <td>1</td>\n",
       "      <td>1</td>\n",
       "    </tr>\n",
       "    <tr>\n",
       "      <th>3</th>\n",
       "      <td>3061</td>\n",
       "      <td>52</td>\n",
       "      <td>0</td>\n",
       "      <td>0</td>\n",
       "      <td>0</td>\n",
       "      <td>15.454557</td>\n",
       "      <td>0</td>\n",
       "      <td>5.997788</td>\n",
       "      <td>1.375045</td>\n",
       "      <td>6.715033</td>\n",
       "      <td>...</td>\n",
       "      <td>0</td>\n",
       "      <td>0</td>\n",
       "      <td>1</td>\n",
       "      <td>1</td>\n",
       "      <td>1</td>\n",
       "      <td>0</td>\n",
       "      <td>0</td>\n",
       "      <td>0</td>\n",
       "      <td>1</td>\n",
       "      <td>1</td>\n",
       "    </tr>\n",
       "    <tr>\n",
       "      <th>4</th>\n",
       "      <td>3062</td>\n",
       "      <td>87</td>\n",
       "      <td>0</td>\n",
       "      <td>0</td>\n",
       "      <td>1</td>\n",
       "      <td>18.616042</td>\n",
       "      <td>0</td>\n",
       "      <td>9.775243</td>\n",
       "      <td>1.188607</td>\n",
       "      <td>4.657572</td>\n",
       "      <td>...</td>\n",
       "      <td>0</td>\n",
       "      <td>0</td>\n",
       "      <td>0</td>\n",
       "      <td>0</td>\n",
       "      <td>0</td>\n",
       "      <td>1</td>\n",
       "      <td>0</td>\n",
       "      <td>1</td>\n",
       "      <td>0</td>\n",
       "      <td>0</td>\n",
       "    </tr>\n",
       "  </tbody>\n",
       "</table>\n",
       "<p>5 rows × 25 columns</p>\n",
       "</div>"
      ],
      "text/plain": [
       "   Pasien ID  Umur  Gender  Etnis  Tingkat Pendidikan        BMI  \\\n",
       "0       3058    85       0      3                   1  19.619878   \n",
       "1       3059    75       0      0                   2  16.247339   \n",
       "2       3060    70       1      0                   0  15.368239   \n",
       "3       3061    52       0      0                   0  15.454557   \n",
       "4       3062    87       0      0                   1  18.616042   \n",
       "\n",
       "   Perokok Aktif  Konsumsi Alkohol per Minggu  Jam Aktivitas Fisik per Minggu  \\\n",
       "0              0                     5.108241                        1.380660   \n",
       "1              1                     6.027648                        8.409804   \n",
       "2              0                     2.242135                        0.213275   \n",
       "3              0                     5.997788                        1.375045   \n",
       "4              0                     9.775243                        1.188607   \n",
       "\n",
       "   Kualitas Diet  ...  Riwayat Depresi  Riwayat Stroke  Gejala Tremor  \\\n",
       "0       3.893969  ...                0               0              1   \n",
       "1       8.513428  ...                0               0              0   \n",
       "2       6.498805  ...                0               0              1   \n",
       "3       6.715033  ...                0               0              1   \n",
       "4       4.657572  ...                0               0              0   \n",
       "\n",
       "   Gejala Otot Kaku  Gejala Lambatnya Gerakan Tubuh  \\\n",
       "0                 0                               0   \n",
       "1                 1                               0   \n",
       "2                 0                               0   \n",
       "3                 1                               1   \n",
       "4                 0                               0   \n",
       "\n",
       "   Gejala Ketidakstabilan Tubuh  Gejala Masalah Bicara  Gejala Gangguan Tidur  \\\n",
       "0                             0                      0                      0   \n",
       "1                             1                      0                      1   \n",
       "2                             0                      1                      0   \n",
       "3                             0                      0                      0   \n",
       "4                             1                      0                      1   \n",
       "\n",
       "   Gejala Gangguan Buang Air Besar  Diagnosis  \n",
       "0                                0          0  \n",
       "1                                0          1  \n",
       "2                                1          1  \n",
       "3                                1          1  \n",
       "4                                0          0  \n",
       "\n",
       "[5 rows x 25 columns]"
      ]
     },
     "execution_count": 12,
     "metadata": {},
     "output_type": "execute_result"
    }
   ],
   "source": [
    "# Menampilkan judul dari Tabel\n",
    "display(HTML('<center><b><h3>Data Pasien Lanjut Usia</h3></b></center>'))\n",
    "\n",
    "# Menampilkan hasil akhir dari tahap data cleaning\n",
    "df_clean.head()"
   ]
  },
  {
   "cell_type": "markdown",
   "metadata": {},
   "source": [
    "### 6. Penambahan Kolom"
   ]
  },
  {
   "cell_type": "code",
   "execution_count": 13,
   "metadata": {},
   "outputs": [
    {
     "data": {
      "text/html": [
       "<center><b><h3>Data Pasien Lanjut Usia</h3></b></center>"
      ],
      "text/plain": [
       "<IPython.core.display.HTML object>"
      ]
     },
     "metadata": {},
     "output_type": "display_data"
    },
    {
     "data": {
      "text/html": [
       "<div>\n",
       "<style scoped>\n",
       "    .dataframe tbody tr th:only-of-type {\n",
       "        vertical-align: middle;\n",
       "    }\n",
       "\n",
       "    .dataframe tbody tr th {\n",
       "        vertical-align: top;\n",
       "    }\n",
       "\n",
       "    .dataframe thead th {\n",
       "        text-align: right;\n",
       "    }\n",
       "</style>\n",
       "<table border=\"1\" class=\"dataframe\">\n",
       "  <thead>\n",
       "    <tr style=\"text-align: right;\">\n",
       "      <th></th>\n",
       "      <th>Pasien ID</th>\n",
       "      <th>Umur</th>\n",
       "      <th>Gender</th>\n",
       "      <th>Etnis</th>\n",
       "      <th>Tingkat Pendidikan</th>\n",
       "      <th>BMI</th>\n",
       "      <th>Perokok Aktif</th>\n",
       "      <th>Konsumsi Alkohol per Minggu</th>\n",
       "      <th>Jam Aktivitas Fisik per Minggu</th>\n",
       "      <th>Kualitas Diet</th>\n",
       "      <th>...</th>\n",
       "      <th>Gejala Lambatnya Gerakan Tubuh</th>\n",
       "      <th>Gejala Ketidakstabilan Tubuh</th>\n",
       "      <th>Gejala Masalah Bicara</th>\n",
       "      <th>Gejala Gangguan Tidur</th>\n",
       "      <th>Gejala Gangguan Buang Air Besar</th>\n",
       "      <th>Diagnosis</th>\n",
       "      <th>Gender label</th>\n",
       "      <th>Etnis label</th>\n",
       "      <th>Tingkat Pendidikan label</th>\n",
       "      <th>Diagnosis label</th>\n",
       "    </tr>\n",
       "  </thead>\n",
       "  <tbody>\n",
       "    <tr>\n",
       "      <th>0</th>\n",
       "      <td>3058</td>\n",
       "      <td>85</td>\n",
       "      <td>0</td>\n",
       "      <td>3</td>\n",
       "      <td>1</td>\n",
       "      <td>19.619878</td>\n",
       "      <td>0</td>\n",
       "      <td>5.108241</td>\n",
       "      <td>1.380660</td>\n",
       "      <td>3.893969</td>\n",
       "      <td>...</td>\n",
       "      <td>0</td>\n",
       "      <td>0</td>\n",
       "      <td>0</td>\n",
       "      <td>0</td>\n",
       "      <td>0</td>\n",
       "      <td>0</td>\n",
       "      <td>Pria</td>\n",
       "      <td>Lainnya</td>\n",
       "      <td>SMA Sederajat</td>\n",
       "      <td>Negatif Parkinson</td>\n",
       "    </tr>\n",
       "    <tr>\n",
       "      <th>1</th>\n",
       "      <td>3059</td>\n",
       "      <td>75</td>\n",
       "      <td>0</td>\n",
       "      <td>0</td>\n",
       "      <td>2</td>\n",
       "      <td>16.247339</td>\n",
       "      <td>1</td>\n",
       "      <td>6.027648</td>\n",
       "      <td>8.409804</td>\n",
       "      <td>8.513428</td>\n",
       "      <td>...</td>\n",
       "      <td>0</td>\n",
       "      <td>1</td>\n",
       "      <td>0</td>\n",
       "      <td>1</td>\n",
       "      <td>0</td>\n",
       "      <td>1</td>\n",
       "      <td>Pria</td>\n",
       "      <td>Kaukasia</td>\n",
       "      <td>Sarjana</td>\n",
       "      <td>Positif Parkinson</td>\n",
       "    </tr>\n",
       "    <tr>\n",
       "      <th>2</th>\n",
       "      <td>3060</td>\n",
       "      <td>70</td>\n",
       "      <td>1</td>\n",
       "      <td>0</td>\n",
       "      <td>0</td>\n",
       "      <td>15.368239</td>\n",
       "      <td>0</td>\n",
       "      <td>2.242135</td>\n",
       "      <td>0.213275</td>\n",
       "      <td>6.498805</td>\n",
       "      <td>...</td>\n",
       "      <td>0</td>\n",
       "      <td>0</td>\n",
       "      <td>1</td>\n",
       "      <td>0</td>\n",
       "      <td>1</td>\n",
       "      <td>1</td>\n",
       "      <td>Wanita</td>\n",
       "      <td>Kaukasia</td>\n",
       "      <td>Di bawah SMA Sederajat</td>\n",
       "      <td>Positif Parkinson</td>\n",
       "    </tr>\n",
       "    <tr>\n",
       "      <th>3</th>\n",
       "      <td>3061</td>\n",
       "      <td>52</td>\n",
       "      <td>0</td>\n",
       "      <td>0</td>\n",
       "      <td>0</td>\n",
       "      <td>15.454557</td>\n",
       "      <td>0</td>\n",
       "      <td>5.997788</td>\n",
       "      <td>1.375045</td>\n",
       "      <td>6.715033</td>\n",
       "      <td>...</td>\n",
       "      <td>1</td>\n",
       "      <td>0</td>\n",
       "      <td>0</td>\n",
       "      <td>0</td>\n",
       "      <td>1</td>\n",
       "      <td>1</td>\n",
       "      <td>Pria</td>\n",
       "      <td>Kaukasia</td>\n",
       "      <td>Di bawah SMA Sederajat</td>\n",
       "      <td>Positif Parkinson</td>\n",
       "    </tr>\n",
       "    <tr>\n",
       "      <th>4</th>\n",
       "      <td>3062</td>\n",
       "      <td>87</td>\n",
       "      <td>0</td>\n",
       "      <td>0</td>\n",
       "      <td>1</td>\n",
       "      <td>18.616042</td>\n",
       "      <td>0</td>\n",
       "      <td>9.775243</td>\n",
       "      <td>1.188607</td>\n",
       "      <td>4.657572</td>\n",
       "      <td>...</td>\n",
       "      <td>0</td>\n",
       "      <td>1</td>\n",
       "      <td>0</td>\n",
       "      <td>1</td>\n",
       "      <td>0</td>\n",
       "      <td>0</td>\n",
       "      <td>Pria</td>\n",
       "      <td>Kaukasia</td>\n",
       "      <td>SMA Sederajat</td>\n",
       "      <td>Negatif Parkinson</td>\n",
       "    </tr>\n",
       "  </tbody>\n",
       "</table>\n",
       "<p>5 rows × 29 columns</p>\n",
       "</div>"
      ],
      "text/plain": [
       "   Pasien ID  Umur  Gender  Etnis  Tingkat Pendidikan        BMI  \\\n",
       "0       3058    85       0      3                   1  19.619878   \n",
       "1       3059    75       0      0                   2  16.247339   \n",
       "2       3060    70       1      0                   0  15.368239   \n",
       "3       3061    52       0      0                   0  15.454557   \n",
       "4       3062    87       0      0                   1  18.616042   \n",
       "\n",
       "   Perokok Aktif  Konsumsi Alkohol per Minggu  Jam Aktivitas Fisik per Minggu  \\\n",
       "0              0                     5.108241                        1.380660   \n",
       "1              1                     6.027648                        8.409804   \n",
       "2              0                     2.242135                        0.213275   \n",
       "3              0                     5.997788                        1.375045   \n",
       "4              0                     9.775243                        1.188607   \n",
       "\n",
       "   Kualitas Diet  ...  Gejala Lambatnya Gerakan Tubuh  \\\n",
       "0       3.893969  ...                               0   \n",
       "1       8.513428  ...                               0   \n",
       "2       6.498805  ...                               0   \n",
       "3       6.715033  ...                               1   \n",
       "4       4.657572  ...                               0   \n",
       "\n",
       "   Gejala Ketidakstabilan Tubuh  Gejala Masalah Bicara  Gejala Gangguan Tidur  \\\n",
       "0                             0                      0                      0   \n",
       "1                             1                      0                      1   \n",
       "2                             0                      1                      0   \n",
       "3                             0                      0                      0   \n",
       "4                             1                      0                      1   \n",
       "\n",
       "   Gejala Gangguan Buang Air Besar  Diagnosis  Gender label  Etnis label  \\\n",
       "0                                0          0          Pria      Lainnya   \n",
       "1                                0          1          Pria     Kaukasia   \n",
       "2                                1          1        Wanita     Kaukasia   \n",
       "3                                1          1          Pria     Kaukasia   \n",
       "4                                0          0          Pria     Kaukasia   \n",
       "\n",
       "   Tingkat Pendidikan label    Diagnosis label  \n",
       "0             SMA Sederajat  Negatif Parkinson  \n",
       "1                   Sarjana  Positif Parkinson  \n",
       "2    Di bawah SMA Sederajat  Positif Parkinson  \n",
       "3    Di bawah SMA Sederajat  Positif Parkinson  \n",
       "4             SMA Sederajat  Negatif Parkinson  \n",
       "\n",
       "[5 rows x 29 columns]"
      ]
     },
     "execution_count": 13,
     "metadata": {},
     "output_type": "execute_result"
    }
   ],
   "source": [
    "# Pembuatan kolom baru\n",
    "df_clean['Gender label'] = ''\n",
    "df_clean['Etnis label'] = ''\n",
    "df_clean['Tingkat Pendidikan label'] = ''\n",
    "df_clean['Diagnosis label'] = ''\n",
    "\n",
    "# Pengulangan setiap baris unttuk pengisian kolom\n",
    "for index, row in df_clean.iterrows():\n",
    "    # Penyesuaian isi kolom gender label \n",
    "    if row['Gender'] == 0:\n",
    "        df_clean.loc[index, 'Gender label'] = 'Pria'\n",
    "    else:\n",
    "        df_clean.loc[index, 'Gender label'] = 'Wanita'\n",
    "    \n",
    "    # Penyesuaian isi kolom etnis label\n",
    "    if row['Etnis'] == 0:\n",
    "        df_clean.loc[index, 'Etnis label'] = 'Kaukasia'\n",
    "    elif row['Etnis'] == 1:\n",
    "        df_clean.loc[index, 'Etnis label'] = 'Afrika Amerika'\n",
    "    elif row['Etnis'] == 2:\n",
    "        df_clean.loc[index, 'Etnis label'] = 'Asian'\n",
    "    else:\n",
    "        df_clean.loc[index, 'Etnis label'] = 'Lainnya'\n",
    "        \n",
    "    # Penyesuaian isi kolom tingkat pendidikan label\n",
    "    if row['Tingkat Pendidikan'] == 0:\n",
    "        df_clean.loc[index, 'Tingkat Pendidikan label'] = 'Di bawah SMA Sederajat'\n",
    "    elif row['Tingkat Pendidikan'] == 1:\n",
    "        df_clean.loc[index, 'Tingkat Pendidikan label'] = 'SMA Sederajat'\n",
    "    elif row['Tingkat Pendidikan'] == 2:\n",
    "        df_clean.loc[index, 'Tingkat Pendidikan label'] = 'Sarjana'\n",
    "    else:\n",
    "        df_clean.loc[index, 'Tingkat Pendidikan label'] = 'Di atas Sarjana'\n",
    "        \n",
    "     # Penyesuaian isi kolom tingkat pendidikan label\n",
    "    if row['Diagnosis'] == 0:\n",
    "        df_clean.loc[index, 'Diagnosis label'] = 'Negatif Parkinson'\n",
    "    else:\n",
    "        df_clean.loc[index, 'Diagnosis label'] = 'Positif Parkinson'\n",
    "\n",
    "# Menampilkan judul dari Tabel\n",
    "display(HTML('<center><b><h3>Data Pasien Lanjut Usia</h3></b></center>'))\n",
    "\n",
    "# Menampilkan dataframe        \n",
    "df_clean.head()\n",
    "    "
   ]
  },
  {
   "cell_type": "markdown",
   "metadata": {},
   "source": [
    "## **E. Analysis dan Perhitungan**"
   ]
  },
  {
   "cell_type": "markdown",
   "metadata": {},
   "source": [
    "<div style='text-align: justify'>Pada tahap ini dilakukan analisis untuk menjawab permasalahan yang berada pada <em>problem statement</em> dengan menggunakan visualisasi data, penggunaan statistik deskriptif dan statistik inferensial.</div>"
   ]
  },
  {
   "cell_type": "code",
   "execution_count": 14,
   "metadata": {},
   "outputs": [],
   "source": [
    "# Persalinan dataframe df_clean menjadi df_analysis\n",
    "df_analysis = df_clean.copy()"
   ]
  },
  {
   "cell_type": "markdown",
   "metadata": {},
   "source": [
    "#### 1. Analisis Umur Pasien Lanjut Usia"
   ]
  },
  {
   "cell_type": "code",
   "execution_count": 15,
   "metadata": {},
   "outputs": [
    {
     "data": {
      "application/vnd.plotly.v1+json": {
       "config": {
        "plotlyServerURL": "https://plot.ly"
       },
       "data": [
        {
         "alignmentgroup": "True",
         "bingroup": "x",
         "histfunc": "sum",
         "hovertemplate": "Diagnosis label=Negatif Parkinson<br>Umur=%{x}<br>sum of Pasien ID=%{y}<extra></extra>",
         "legendgroup": "Negatif Parkinson",
         "marker": {
          "color": "#636efa",
          "pattern": {
           "shape": ""
          }
         },
         "name": "Negatif Parkinson",
         "nbinsx": 15,
         "offsetgroup": "Negatif Parkinson",
         "orientation": "v",
         "showlegend": true,
         "texttemplate": "%{value}",
         "type": "histogram",
         "x": [
          50,
          51,
          52,
          53,
          54,
          55,
          56,
          57,
          58,
          59,
          60,
          61,
          62,
          63,
          64,
          65,
          66,
          67,
          68,
          69,
          70,
          71,
          72,
          73,
          74,
          75,
          76,
          77,
          78,
          79,
          80,
          81,
          82,
          83,
          84,
          85,
          86,
          87,
          88,
          89
         ],
         "xaxis": "x",
         "y": [
          23,
          25,
          26,
          30,
          30,
          13,
          25,
          21,
          28,
          22,
          19,
          11,
          13,
          26,
          14,
          23,
          22,
          17,
          15,
          16,
          15,
          25,
          17,
          21,
          20,
          21,
          25,
          14,
          17,
          15,
          21,
          18,
          11,
          15,
          28,
          13,
          22,
          19,
          23,
          22
         ],
         "yaxis": "y"
        },
        {
         "alignmentgroup": "True",
         "bingroup": "x",
         "histfunc": "sum",
         "hovertemplate": "Diagnosis label=Positif Parkinson<br>Umur=%{x}<br>sum of Pasien ID=%{y}<extra></extra>",
         "legendgroup": "Positif Parkinson",
         "marker": {
          "color": "#EF553B",
          "pattern": {
           "shape": ""
          }
         },
         "name": "Positif Parkinson",
         "nbinsx": 15,
         "offsetgroup": "Positif Parkinson",
         "orientation": "v",
         "showlegend": true,
         "texttemplate": "%{value}",
         "type": "histogram",
         "x": [
          50,
          51,
          52,
          53,
          54,
          55,
          56,
          57,
          58,
          59,
          60,
          61,
          62,
          63,
          64,
          65,
          66,
          67,
          68,
          69,
          70,
          71,
          72,
          73,
          74,
          75,
          76,
          77,
          78,
          79,
          80,
          81,
          82,
          83,
          84,
          85,
          86,
          87,
          88,
          89
         ],
         "xaxis": "x",
         "y": [
          34,
          32,
          28,
          27,
          33,
          26,
          28,
          25,
          25,
          24,
          29,
          28,
          33,
          24,
          38,
          37,
          35,
          35,
          28,
          37,
          43,
          42,
          29,
          43,
          27,
          45,
          30,
          32,
          39,
          32,
          29,
          37,
          32,
          34,
          40,
          34,
          35,
          31,
          32,
          32
         ],
         "yaxis": "y"
        }
       ],
       "layout": {
        "bargap": 0.2,
        "barmode": "relative",
        "legend": {
         "title": {
          "text": "Diagnosis label"
         },
         "tracegroupgap": 0
        },
        "template": {
         "data": {
          "bar": [
           {
            "error_x": {
             "color": "#2a3f5f"
            },
            "error_y": {
             "color": "#2a3f5f"
            },
            "marker": {
             "line": {
              "color": "#E5ECF6",
              "width": 0.5
             },
             "pattern": {
              "fillmode": "overlay",
              "size": 10,
              "solidity": 0.2
             }
            },
            "type": "bar"
           }
          ],
          "barpolar": [
           {
            "marker": {
             "line": {
              "color": "#E5ECF6",
              "width": 0.5
             },
             "pattern": {
              "fillmode": "overlay",
              "size": 10,
              "solidity": 0.2
             }
            },
            "type": "barpolar"
           }
          ],
          "carpet": [
           {
            "aaxis": {
             "endlinecolor": "#2a3f5f",
             "gridcolor": "white",
             "linecolor": "white",
             "minorgridcolor": "white",
             "startlinecolor": "#2a3f5f"
            },
            "baxis": {
             "endlinecolor": "#2a3f5f",
             "gridcolor": "white",
             "linecolor": "white",
             "minorgridcolor": "white",
             "startlinecolor": "#2a3f5f"
            },
            "type": "carpet"
           }
          ],
          "choropleth": [
           {
            "colorbar": {
             "outlinewidth": 0,
             "ticks": ""
            },
            "type": "choropleth"
           }
          ],
          "contour": [
           {
            "colorbar": {
             "outlinewidth": 0,
             "ticks": ""
            },
            "colorscale": [
             [
              0,
              "#0d0887"
             ],
             [
              0.1111111111111111,
              "#46039f"
             ],
             [
              0.2222222222222222,
              "#7201a8"
             ],
             [
              0.3333333333333333,
              "#9c179e"
             ],
             [
              0.4444444444444444,
              "#bd3786"
             ],
             [
              0.5555555555555556,
              "#d8576b"
             ],
             [
              0.6666666666666666,
              "#ed7953"
             ],
             [
              0.7777777777777778,
              "#fb9f3a"
             ],
             [
              0.8888888888888888,
              "#fdca26"
             ],
             [
              1,
              "#f0f921"
             ]
            ],
            "type": "contour"
           }
          ],
          "contourcarpet": [
           {
            "colorbar": {
             "outlinewidth": 0,
             "ticks": ""
            },
            "type": "contourcarpet"
           }
          ],
          "heatmap": [
           {
            "colorbar": {
             "outlinewidth": 0,
             "ticks": ""
            },
            "colorscale": [
             [
              0,
              "#0d0887"
             ],
             [
              0.1111111111111111,
              "#46039f"
             ],
             [
              0.2222222222222222,
              "#7201a8"
             ],
             [
              0.3333333333333333,
              "#9c179e"
             ],
             [
              0.4444444444444444,
              "#bd3786"
             ],
             [
              0.5555555555555556,
              "#d8576b"
             ],
             [
              0.6666666666666666,
              "#ed7953"
             ],
             [
              0.7777777777777778,
              "#fb9f3a"
             ],
             [
              0.8888888888888888,
              "#fdca26"
             ],
             [
              1,
              "#f0f921"
             ]
            ],
            "type": "heatmap"
           }
          ],
          "heatmapgl": [
           {
            "colorbar": {
             "outlinewidth": 0,
             "ticks": ""
            },
            "colorscale": [
             [
              0,
              "#0d0887"
             ],
             [
              0.1111111111111111,
              "#46039f"
             ],
             [
              0.2222222222222222,
              "#7201a8"
             ],
             [
              0.3333333333333333,
              "#9c179e"
             ],
             [
              0.4444444444444444,
              "#bd3786"
             ],
             [
              0.5555555555555556,
              "#d8576b"
             ],
             [
              0.6666666666666666,
              "#ed7953"
             ],
             [
              0.7777777777777778,
              "#fb9f3a"
             ],
             [
              0.8888888888888888,
              "#fdca26"
             ],
             [
              1,
              "#f0f921"
             ]
            ],
            "type": "heatmapgl"
           }
          ],
          "histogram": [
           {
            "marker": {
             "pattern": {
              "fillmode": "overlay",
              "size": 10,
              "solidity": 0.2
             }
            },
            "type": "histogram"
           }
          ],
          "histogram2d": [
           {
            "colorbar": {
             "outlinewidth": 0,
             "ticks": ""
            },
            "colorscale": [
             [
              0,
              "#0d0887"
             ],
             [
              0.1111111111111111,
              "#46039f"
             ],
             [
              0.2222222222222222,
              "#7201a8"
             ],
             [
              0.3333333333333333,
              "#9c179e"
             ],
             [
              0.4444444444444444,
              "#bd3786"
             ],
             [
              0.5555555555555556,
              "#d8576b"
             ],
             [
              0.6666666666666666,
              "#ed7953"
             ],
             [
              0.7777777777777778,
              "#fb9f3a"
             ],
             [
              0.8888888888888888,
              "#fdca26"
             ],
             [
              1,
              "#f0f921"
             ]
            ],
            "type": "histogram2d"
           }
          ],
          "histogram2dcontour": [
           {
            "colorbar": {
             "outlinewidth": 0,
             "ticks": ""
            },
            "colorscale": [
             [
              0,
              "#0d0887"
             ],
             [
              0.1111111111111111,
              "#46039f"
             ],
             [
              0.2222222222222222,
              "#7201a8"
             ],
             [
              0.3333333333333333,
              "#9c179e"
             ],
             [
              0.4444444444444444,
              "#bd3786"
             ],
             [
              0.5555555555555556,
              "#d8576b"
             ],
             [
              0.6666666666666666,
              "#ed7953"
             ],
             [
              0.7777777777777778,
              "#fb9f3a"
             ],
             [
              0.8888888888888888,
              "#fdca26"
             ],
             [
              1,
              "#f0f921"
             ]
            ],
            "type": "histogram2dcontour"
           }
          ],
          "mesh3d": [
           {
            "colorbar": {
             "outlinewidth": 0,
             "ticks": ""
            },
            "type": "mesh3d"
           }
          ],
          "parcoords": [
           {
            "line": {
             "colorbar": {
              "outlinewidth": 0,
              "ticks": ""
             }
            },
            "type": "parcoords"
           }
          ],
          "pie": [
           {
            "automargin": true,
            "type": "pie"
           }
          ],
          "scatter": [
           {
            "fillpattern": {
             "fillmode": "overlay",
             "size": 10,
             "solidity": 0.2
            },
            "type": "scatter"
           }
          ],
          "scatter3d": [
           {
            "line": {
             "colorbar": {
              "outlinewidth": 0,
              "ticks": ""
             }
            },
            "marker": {
             "colorbar": {
              "outlinewidth": 0,
              "ticks": ""
             }
            },
            "type": "scatter3d"
           }
          ],
          "scattercarpet": [
           {
            "marker": {
             "colorbar": {
              "outlinewidth": 0,
              "ticks": ""
             }
            },
            "type": "scattercarpet"
           }
          ],
          "scattergeo": [
           {
            "marker": {
             "colorbar": {
              "outlinewidth": 0,
              "ticks": ""
             }
            },
            "type": "scattergeo"
           }
          ],
          "scattergl": [
           {
            "marker": {
             "colorbar": {
              "outlinewidth": 0,
              "ticks": ""
             }
            },
            "type": "scattergl"
           }
          ],
          "scattermapbox": [
           {
            "marker": {
             "colorbar": {
              "outlinewidth": 0,
              "ticks": ""
             }
            },
            "type": "scattermapbox"
           }
          ],
          "scatterpolar": [
           {
            "marker": {
             "colorbar": {
              "outlinewidth": 0,
              "ticks": ""
             }
            },
            "type": "scatterpolar"
           }
          ],
          "scatterpolargl": [
           {
            "marker": {
             "colorbar": {
              "outlinewidth": 0,
              "ticks": ""
             }
            },
            "type": "scatterpolargl"
           }
          ],
          "scatterternary": [
           {
            "marker": {
             "colorbar": {
              "outlinewidth": 0,
              "ticks": ""
             }
            },
            "type": "scatterternary"
           }
          ],
          "surface": [
           {
            "colorbar": {
             "outlinewidth": 0,
             "ticks": ""
            },
            "colorscale": [
             [
              0,
              "#0d0887"
             ],
             [
              0.1111111111111111,
              "#46039f"
             ],
             [
              0.2222222222222222,
              "#7201a8"
             ],
             [
              0.3333333333333333,
              "#9c179e"
             ],
             [
              0.4444444444444444,
              "#bd3786"
             ],
             [
              0.5555555555555556,
              "#d8576b"
             ],
             [
              0.6666666666666666,
              "#ed7953"
             ],
             [
              0.7777777777777778,
              "#fb9f3a"
             ],
             [
              0.8888888888888888,
              "#fdca26"
             ],
             [
              1,
              "#f0f921"
             ]
            ],
            "type": "surface"
           }
          ],
          "table": [
           {
            "cells": {
             "fill": {
              "color": "#EBF0F8"
             },
             "line": {
              "color": "white"
             }
            },
            "header": {
             "fill": {
              "color": "#C8D4E3"
             },
             "line": {
              "color": "white"
             }
            },
            "type": "table"
           }
          ]
         },
         "layout": {
          "annotationdefaults": {
           "arrowcolor": "#2a3f5f",
           "arrowhead": 0,
           "arrowwidth": 1
          },
          "autotypenumbers": "strict",
          "coloraxis": {
           "colorbar": {
            "outlinewidth": 0,
            "ticks": ""
           }
          },
          "colorscale": {
           "diverging": [
            [
             0,
             "#8e0152"
            ],
            [
             0.1,
             "#c51b7d"
            ],
            [
             0.2,
             "#de77ae"
            ],
            [
             0.3,
             "#f1b6da"
            ],
            [
             0.4,
             "#fde0ef"
            ],
            [
             0.5,
             "#f7f7f7"
            ],
            [
             0.6,
             "#e6f5d0"
            ],
            [
             0.7,
             "#b8e186"
            ],
            [
             0.8,
             "#7fbc41"
            ],
            [
             0.9,
             "#4d9221"
            ],
            [
             1,
             "#276419"
            ]
           ],
           "sequential": [
            [
             0,
             "#0d0887"
            ],
            [
             0.1111111111111111,
             "#46039f"
            ],
            [
             0.2222222222222222,
             "#7201a8"
            ],
            [
             0.3333333333333333,
             "#9c179e"
            ],
            [
             0.4444444444444444,
             "#bd3786"
            ],
            [
             0.5555555555555556,
             "#d8576b"
            ],
            [
             0.6666666666666666,
             "#ed7953"
            ],
            [
             0.7777777777777778,
             "#fb9f3a"
            ],
            [
             0.8888888888888888,
             "#fdca26"
            ],
            [
             1,
             "#f0f921"
            ]
           ],
           "sequentialminus": [
            [
             0,
             "#0d0887"
            ],
            [
             0.1111111111111111,
             "#46039f"
            ],
            [
             0.2222222222222222,
             "#7201a8"
            ],
            [
             0.3333333333333333,
             "#9c179e"
            ],
            [
             0.4444444444444444,
             "#bd3786"
            ],
            [
             0.5555555555555556,
             "#d8576b"
            ],
            [
             0.6666666666666666,
             "#ed7953"
            ],
            [
             0.7777777777777778,
             "#fb9f3a"
            ],
            [
             0.8888888888888888,
             "#fdca26"
            ],
            [
             1,
             "#f0f921"
            ]
           ]
          },
          "colorway": [
           "#636efa",
           "#EF553B",
           "#00cc96",
           "#ab63fa",
           "#FFA15A",
           "#19d3f3",
           "#FF6692",
           "#B6E880",
           "#FF97FF",
           "#FECB52"
          ],
          "font": {
           "color": "#2a3f5f"
          },
          "geo": {
           "bgcolor": "white",
           "lakecolor": "white",
           "landcolor": "#E5ECF6",
           "showlakes": true,
           "showland": true,
           "subunitcolor": "white"
          },
          "hoverlabel": {
           "align": "left"
          },
          "hovermode": "closest",
          "mapbox": {
           "style": "light"
          },
          "paper_bgcolor": "white",
          "plot_bgcolor": "#E5ECF6",
          "polar": {
           "angularaxis": {
            "gridcolor": "white",
            "linecolor": "white",
            "ticks": ""
           },
           "bgcolor": "#E5ECF6",
           "radialaxis": {
            "gridcolor": "white",
            "linecolor": "white",
            "ticks": ""
           }
          },
          "scene": {
           "xaxis": {
            "backgroundcolor": "#E5ECF6",
            "gridcolor": "white",
            "gridwidth": 2,
            "linecolor": "white",
            "showbackground": true,
            "ticks": "",
            "zerolinecolor": "white"
           },
           "yaxis": {
            "backgroundcolor": "#E5ECF6",
            "gridcolor": "white",
            "gridwidth": 2,
            "linecolor": "white",
            "showbackground": true,
            "ticks": "",
            "zerolinecolor": "white"
           },
           "zaxis": {
            "backgroundcolor": "#E5ECF6",
            "gridcolor": "white",
            "gridwidth": 2,
            "linecolor": "white",
            "showbackground": true,
            "ticks": "",
            "zerolinecolor": "white"
           }
          },
          "shapedefaults": {
           "line": {
            "color": "#2a3f5f"
           }
          },
          "ternary": {
           "aaxis": {
            "gridcolor": "white",
            "linecolor": "white",
            "ticks": ""
           },
           "baxis": {
            "gridcolor": "white",
            "linecolor": "white",
            "ticks": ""
           },
           "bgcolor": "#E5ECF6",
           "caxis": {
            "gridcolor": "white",
            "linecolor": "white",
            "ticks": ""
           }
          },
          "title": {
           "x": 0.05
          },
          "xaxis": {
           "automargin": true,
           "gridcolor": "white",
           "linecolor": "white",
           "ticks": "",
           "title": {
            "standoff": 15
           },
           "zerolinecolor": "white",
           "zerolinewidth": 2
          },
          "yaxis": {
           "automargin": true,
           "gridcolor": "white",
           "linecolor": "white",
           "ticks": "",
           "title": {
            "standoff": 15
           },
           "zerolinecolor": "white",
           "zerolinewidth": 2
          }
         }
        },
        "title": {
         "text": "Grafik 1.0 Jumlah Pasien Berdasarkan Umur",
         "x": 0.5
        },
        "xaxis": {
         "anchor": "y",
         "domain": [
          0,
          1
         ],
         "title": {
          "text": "Umur"
         }
        },
        "yaxis": {
         "anchor": "x",
         "domain": [
          0,
          1
         ],
         "title": {
          "text": "Jumlah Pasien"
         }
        }
       }
      }
     },
     "metadata": {},
     "output_type": "display_data"
    },
    {
     "data": {
      "application/vnd.plotly.v1+json": {
       "config": {
        "plotlyServerURL": "https://plot.ly"
       },
       "data": [
        {
         "alignmentgroup": "True",
         "bingroup": "x",
         "histfunc": "sum",
         "hovertemplate": "Diagnosis label=Positif Parkinson<br>Umur=%{x}<br>sum of Pasien ID=%{y}<extra></extra>",
         "legendgroup": "Positif Parkinson",
         "marker": {
          "color": "#ef553b",
          "pattern": {
           "shape": ""
          }
         },
         "name": "Positif Parkinson",
         "nbinsx": 40,
         "offsetgroup": "Positif Parkinson",
         "orientation": "v",
         "showlegend": true,
         "texttemplate": "%{value}",
         "type": "histogram",
         "x": [
          50,
          51,
          52,
          53,
          54,
          55,
          56,
          57,
          58,
          59,
          60,
          61,
          62,
          63,
          64,
          65,
          66,
          67,
          68,
          69,
          70,
          71,
          72,
          73,
          74,
          75,
          76,
          77,
          78,
          79,
          80,
          81,
          82,
          83,
          84,
          85,
          86,
          87,
          88,
          89
         ],
         "xaxis": "x",
         "y": [
          34,
          32,
          28,
          27,
          33,
          26,
          28,
          25,
          25,
          24,
          29,
          28,
          33,
          24,
          38,
          37,
          35,
          35,
          28,
          37,
          43,
          42,
          29,
          43,
          27,
          45,
          30,
          32,
          39,
          32,
          29,
          37,
          32,
          34,
          40,
          34,
          35,
          31,
          32,
          32
         ],
         "yaxis": "y"
        }
       ],
       "layout": {
        "barmode": "relative",
        "legend": {
         "title": {
          "text": "Diagnosis label"
         },
         "tracegroupgap": 0
        },
        "template": {
         "data": {
          "bar": [
           {
            "error_x": {
             "color": "#2a3f5f"
            },
            "error_y": {
             "color": "#2a3f5f"
            },
            "marker": {
             "line": {
              "color": "#E5ECF6",
              "width": 0.5
             },
             "pattern": {
              "fillmode": "overlay",
              "size": 10,
              "solidity": 0.2
             }
            },
            "type": "bar"
           }
          ],
          "barpolar": [
           {
            "marker": {
             "line": {
              "color": "#E5ECF6",
              "width": 0.5
             },
             "pattern": {
              "fillmode": "overlay",
              "size": 10,
              "solidity": 0.2
             }
            },
            "type": "barpolar"
           }
          ],
          "carpet": [
           {
            "aaxis": {
             "endlinecolor": "#2a3f5f",
             "gridcolor": "white",
             "linecolor": "white",
             "minorgridcolor": "white",
             "startlinecolor": "#2a3f5f"
            },
            "baxis": {
             "endlinecolor": "#2a3f5f",
             "gridcolor": "white",
             "linecolor": "white",
             "minorgridcolor": "white",
             "startlinecolor": "#2a3f5f"
            },
            "type": "carpet"
           }
          ],
          "choropleth": [
           {
            "colorbar": {
             "outlinewidth": 0,
             "ticks": ""
            },
            "type": "choropleth"
           }
          ],
          "contour": [
           {
            "colorbar": {
             "outlinewidth": 0,
             "ticks": ""
            },
            "colorscale": [
             [
              0,
              "#0d0887"
             ],
             [
              0.1111111111111111,
              "#46039f"
             ],
             [
              0.2222222222222222,
              "#7201a8"
             ],
             [
              0.3333333333333333,
              "#9c179e"
             ],
             [
              0.4444444444444444,
              "#bd3786"
             ],
             [
              0.5555555555555556,
              "#d8576b"
             ],
             [
              0.6666666666666666,
              "#ed7953"
             ],
             [
              0.7777777777777778,
              "#fb9f3a"
             ],
             [
              0.8888888888888888,
              "#fdca26"
             ],
             [
              1,
              "#f0f921"
             ]
            ],
            "type": "contour"
           }
          ],
          "contourcarpet": [
           {
            "colorbar": {
             "outlinewidth": 0,
             "ticks": ""
            },
            "type": "contourcarpet"
           }
          ],
          "heatmap": [
           {
            "colorbar": {
             "outlinewidth": 0,
             "ticks": ""
            },
            "colorscale": [
             [
              0,
              "#0d0887"
             ],
             [
              0.1111111111111111,
              "#46039f"
             ],
             [
              0.2222222222222222,
              "#7201a8"
             ],
             [
              0.3333333333333333,
              "#9c179e"
             ],
             [
              0.4444444444444444,
              "#bd3786"
             ],
             [
              0.5555555555555556,
              "#d8576b"
             ],
             [
              0.6666666666666666,
              "#ed7953"
             ],
             [
              0.7777777777777778,
              "#fb9f3a"
             ],
             [
              0.8888888888888888,
              "#fdca26"
             ],
             [
              1,
              "#f0f921"
             ]
            ],
            "type": "heatmap"
           }
          ],
          "heatmapgl": [
           {
            "colorbar": {
             "outlinewidth": 0,
             "ticks": ""
            },
            "colorscale": [
             [
              0,
              "#0d0887"
             ],
             [
              0.1111111111111111,
              "#46039f"
             ],
             [
              0.2222222222222222,
              "#7201a8"
             ],
             [
              0.3333333333333333,
              "#9c179e"
             ],
             [
              0.4444444444444444,
              "#bd3786"
             ],
             [
              0.5555555555555556,
              "#d8576b"
             ],
             [
              0.6666666666666666,
              "#ed7953"
             ],
             [
              0.7777777777777778,
              "#fb9f3a"
             ],
             [
              0.8888888888888888,
              "#fdca26"
             ],
             [
              1,
              "#f0f921"
             ]
            ],
            "type": "heatmapgl"
           }
          ],
          "histogram": [
           {
            "marker": {
             "pattern": {
              "fillmode": "overlay",
              "size": 10,
              "solidity": 0.2
             }
            },
            "type": "histogram"
           }
          ],
          "histogram2d": [
           {
            "colorbar": {
             "outlinewidth": 0,
             "ticks": ""
            },
            "colorscale": [
             [
              0,
              "#0d0887"
             ],
             [
              0.1111111111111111,
              "#46039f"
             ],
             [
              0.2222222222222222,
              "#7201a8"
             ],
             [
              0.3333333333333333,
              "#9c179e"
             ],
             [
              0.4444444444444444,
              "#bd3786"
             ],
             [
              0.5555555555555556,
              "#d8576b"
             ],
             [
              0.6666666666666666,
              "#ed7953"
             ],
             [
              0.7777777777777778,
              "#fb9f3a"
             ],
             [
              0.8888888888888888,
              "#fdca26"
             ],
             [
              1,
              "#f0f921"
             ]
            ],
            "type": "histogram2d"
           }
          ],
          "histogram2dcontour": [
           {
            "colorbar": {
             "outlinewidth": 0,
             "ticks": ""
            },
            "colorscale": [
             [
              0,
              "#0d0887"
             ],
             [
              0.1111111111111111,
              "#46039f"
             ],
             [
              0.2222222222222222,
              "#7201a8"
             ],
             [
              0.3333333333333333,
              "#9c179e"
             ],
             [
              0.4444444444444444,
              "#bd3786"
             ],
             [
              0.5555555555555556,
              "#d8576b"
             ],
             [
              0.6666666666666666,
              "#ed7953"
             ],
             [
              0.7777777777777778,
              "#fb9f3a"
             ],
             [
              0.8888888888888888,
              "#fdca26"
             ],
             [
              1,
              "#f0f921"
             ]
            ],
            "type": "histogram2dcontour"
           }
          ],
          "mesh3d": [
           {
            "colorbar": {
             "outlinewidth": 0,
             "ticks": ""
            },
            "type": "mesh3d"
           }
          ],
          "parcoords": [
           {
            "line": {
             "colorbar": {
              "outlinewidth": 0,
              "ticks": ""
             }
            },
            "type": "parcoords"
           }
          ],
          "pie": [
           {
            "automargin": true,
            "type": "pie"
           }
          ],
          "scatter": [
           {
            "fillpattern": {
             "fillmode": "overlay",
             "size": 10,
             "solidity": 0.2
            },
            "type": "scatter"
           }
          ],
          "scatter3d": [
           {
            "line": {
             "colorbar": {
              "outlinewidth": 0,
              "ticks": ""
             }
            },
            "marker": {
             "colorbar": {
              "outlinewidth": 0,
              "ticks": ""
             }
            },
            "type": "scatter3d"
           }
          ],
          "scattercarpet": [
           {
            "marker": {
             "colorbar": {
              "outlinewidth": 0,
              "ticks": ""
             }
            },
            "type": "scattercarpet"
           }
          ],
          "scattergeo": [
           {
            "marker": {
             "colorbar": {
              "outlinewidth": 0,
              "ticks": ""
             }
            },
            "type": "scattergeo"
           }
          ],
          "scattergl": [
           {
            "marker": {
             "colorbar": {
              "outlinewidth": 0,
              "ticks": ""
             }
            },
            "type": "scattergl"
           }
          ],
          "scattermapbox": [
           {
            "marker": {
             "colorbar": {
              "outlinewidth": 0,
              "ticks": ""
             }
            },
            "type": "scattermapbox"
           }
          ],
          "scatterpolar": [
           {
            "marker": {
             "colorbar": {
              "outlinewidth": 0,
              "ticks": ""
             }
            },
            "type": "scatterpolar"
           }
          ],
          "scatterpolargl": [
           {
            "marker": {
             "colorbar": {
              "outlinewidth": 0,
              "ticks": ""
             }
            },
            "type": "scatterpolargl"
           }
          ],
          "scatterternary": [
           {
            "marker": {
             "colorbar": {
              "outlinewidth": 0,
              "ticks": ""
             }
            },
            "type": "scatterternary"
           }
          ],
          "surface": [
           {
            "colorbar": {
             "outlinewidth": 0,
             "ticks": ""
            },
            "colorscale": [
             [
              0,
              "#0d0887"
             ],
             [
              0.1111111111111111,
              "#46039f"
             ],
             [
              0.2222222222222222,
              "#7201a8"
             ],
             [
              0.3333333333333333,
              "#9c179e"
             ],
             [
              0.4444444444444444,
              "#bd3786"
             ],
             [
              0.5555555555555556,
              "#d8576b"
             ],
             [
              0.6666666666666666,
              "#ed7953"
             ],
             [
              0.7777777777777778,
              "#fb9f3a"
             ],
             [
              0.8888888888888888,
              "#fdca26"
             ],
             [
              1,
              "#f0f921"
             ]
            ],
            "type": "surface"
           }
          ],
          "table": [
           {
            "cells": {
             "fill": {
              "color": "#EBF0F8"
             },
             "line": {
              "color": "white"
             }
            },
            "header": {
             "fill": {
              "color": "#C8D4E3"
             },
             "line": {
              "color": "white"
             }
            },
            "type": "table"
           }
          ]
         },
         "layout": {
          "annotationdefaults": {
           "arrowcolor": "#2a3f5f",
           "arrowhead": 0,
           "arrowwidth": 1
          },
          "autotypenumbers": "strict",
          "coloraxis": {
           "colorbar": {
            "outlinewidth": 0,
            "ticks": ""
           }
          },
          "colorscale": {
           "diverging": [
            [
             0,
             "#8e0152"
            ],
            [
             0.1,
             "#c51b7d"
            ],
            [
             0.2,
             "#de77ae"
            ],
            [
             0.3,
             "#f1b6da"
            ],
            [
             0.4,
             "#fde0ef"
            ],
            [
             0.5,
             "#f7f7f7"
            ],
            [
             0.6,
             "#e6f5d0"
            ],
            [
             0.7,
             "#b8e186"
            ],
            [
             0.8,
             "#7fbc41"
            ],
            [
             0.9,
             "#4d9221"
            ],
            [
             1,
             "#276419"
            ]
           ],
           "sequential": [
            [
             0,
             "#0d0887"
            ],
            [
             0.1111111111111111,
             "#46039f"
            ],
            [
             0.2222222222222222,
             "#7201a8"
            ],
            [
             0.3333333333333333,
             "#9c179e"
            ],
            [
             0.4444444444444444,
             "#bd3786"
            ],
            [
             0.5555555555555556,
             "#d8576b"
            ],
            [
             0.6666666666666666,
             "#ed7953"
            ],
            [
             0.7777777777777778,
             "#fb9f3a"
            ],
            [
             0.8888888888888888,
             "#fdca26"
            ],
            [
             1,
             "#f0f921"
            ]
           ],
           "sequentialminus": [
            [
             0,
             "#0d0887"
            ],
            [
             0.1111111111111111,
             "#46039f"
            ],
            [
             0.2222222222222222,
             "#7201a8"
            ],
            [
             0.3333333333333333,
             "#9c179e"
            ],
            [
             0.4444444444444444,
             "#bd3786"
            ],
            [
             0.5555555555555556,
             "#d8576b"
            ],
            [
             0.6666666666666666,
             "#ed7953"
            ],
            [
             0.7777777777777778,
             "#fb9f3a"
            ],
            [
             0.8888888888888888,
             "#fdca26"
            ],
            [
             1,
             "#f0f921"
            ]
           ]
          },
          "colorway": [
           "#636efa",
           "#EF553B",
           "#00cc96",
           "#ab63fa",
           "#FFA15A",
           "#19d3f3",
           "#FF6692",
           "#B6E880",
           "#FF97FF",
           "#FECB52"
          ],
          "font": {
           "color": "#2a3f5f"
          },
          "geo": {
           "bgcolor": "white",
           "lakecolor": "white",
           "landcolor": "#E5ECF6",
           "showlakes": true,
           "showland": true,
           "subunitcolor": "white"
          },
          "hoverlabel": {
           "align": "left"
          },
          "hovermode": "closest",
          "mapbox": {
           "style": "light"
          },
          "paper_bgcolor": "white",
          "plot_bgcolor": "#E5ECF6",
          "polar": {
           "angularaxis": {
            "gridcolor": "white",
            "linecolor": "white",
            "ticks": ""
           },
           "bgcolor": "#E5ECF6",
           "radialaxis": {
            "gridcolor": "white",
            "linecolor": "white",
            "ticks": ""
           }
          },
          "scene": {
           "xaxis": {
            "backgroundcolor": "#E5ECF6",
            "gridcolor": "white",
            "gridwidth": 2,
            "linecolor": "white",
            "showbackground": true,
            "ticks": "",
            "zerolinecolor": "white"
           },
           "yaxis": {
            "backgroundcolor": "#E5ECF6",
            "gridcolor": "white",
            "gridwidth": 2,
            "linecolor": "white",
            "showbackground": true,
            "ticks": "",
            "zerolinecolor": "white"
           },
           "zaxis": {
            "backgroundcolor": "#E5ECF6",
            "gridcolor": "white",
            "gridwidth": 2,
            "linecolor": "white",
            "showbackground": true,
            "ticks": "",
            "zerolinecolor": "white"
           }
          },
          "shapedefaults": {
           "line": {
            "color": "#2a3f5f"
           }
          },
          "ternary": {
           "aaxis": {
            "gridcolor": "white",
            "linecolor": "white",
            "ticks": ""
           },
           "baxis": {
            "gridcolor": "white",
            "linecolor": "white",
            "ticks": ""
           },
           "bgcolor": "#E5ECF6",
           "caxis": {
            "gridcolor": "white",
            "linecolor": "white",
            "ticks": ""
           }
          },
          "title": {
           "x": 0.05
          },
          "xaxis": {
           "automargin": true,
           "gridcolor": "white",
           "linecolor": "white",
           "ticks": "",
           "title": {
            "standoff": 15
           },
           "zerolinecolor": "white",
           "zerolinewidth": 2
          },
          "yaxis": {
           "automargin": true,
           "gridcolor": "white",
           "linecolor": "white",
           "ticks": "",
           "title": {
            "standoff": 15
           },
           "zerolinecolor": "white",
           "zerolinewidth": 2
          }
         }
        },
        "title": {
         "text": "Grafik 1.1 Detail Jumlah Pasien Terdiagnosa Parkinson berdasarkan Umur",
         "x": 0.5
        },
        "xaxis": {
         "anchor": "y",
         "domain": [
          0,
          1
         ],
         "title": {
          "text": "Umur"
         }
        },
        "yaxis": {
         "anchor": "x",
         "domain": [
          0,
          1
         ],
         "title": {
          "text": "Jumlah Pasien"
         }
        }
       }
      }
     },
     "metadata": {},
     "output_type": "display_data"
    },
    {
     "data": {
      "application/vnd.plotly.v1+json": {
       "config": {
        "plotlyServerURL": "https://plot.ly"
       },
       "data": [
        {
         "alignmentgroup": "True",
         "bingroup": "x",
         "histfunc": "sum",
         "hovertemplate": "Diagnosis label=Negatif Parkinson<br>Umur=%{x}<br>sum of Pasien ID=%{y}<extra></extra>",
         "legendgroup": "Negatif Parkinson",
         "marker": {
          "color": "#636efa",
          "pattern": {
           "shape": ""
          }
         },
         "name": "Negatif Parkinson",
         "nbinsx": 40,
         "offsetgroup": "Negatif Parkinson",
         "orientation": "v",
         "showlegend": true,
         "texttemplate": "%{value}",
         "type": "histogram",
         "x": [
          50,
          51,
          52,
          53,
          54,
          55,
          56,
          57,
          58,
          59,
          60,
          61,
          62,
          63,
          64,
          65,
          66,
          67,
          68,
          69,
          70,
          71,
          72,
          73,
          74,
          75,
          76,
          77,
          78,
          79,
          80,
          81,
          82,
          83,
          84,
          85,
          86,
          87,
          88,
          89
         ],
         "xaxis": "x",
         "y": [
          23,
          25,
          26,
          30,
          30,
          13,
          25,
          21,
          28,
          22,
          19,
          11,
          13,
          26,
          14,
          23,
          22,
          17,
          15,
          16,
          15,
          25,
          17,
          21,
          20,
          21,
          25,
          14,
          17,
          15,
          21,
          18,
          11,
          15,
          28,
          13,
          22,
          19,
          23,
          22
         ],
         "yaxis": "y"
        }
       ],
       "layout": {
        "barmode": "relative",
        "legend": {
         "title": {
          "text": "Diagnosis label"
         },
         "tracegroupgap": 0
        },
        "template": {
         "data": {
          "bar": [
           {
            "error_x": {
             "color": "#2a3f5f"
            },
            "error_y": {
             "color": "#2a3f5f"
            },
            "marker": {
             "line": {
              "color": "#E5ECF6",
              "width": 0.5
             },
             "pattern": {
              "fillmode": "overlay",
              "size": 10,
              "solidity": 0.2
             }
            },
            "type": "bar"
           }
          ],
          "barpolar": [
           {
            "marker": {
             "line": {
              "color": "#E5ECF6",
              "width": 0.5
             },
             "pattern": {
              "fillmode": "overlay",
              "size": 10,
              "solidity": 0.2
             }
            },
            "type": "barpolar"
           }
          ],
          "carpet": [
           {
            "aaxis": {
             "endlinecolor": "#2a3f5f",
             "gridcolor": "white",
             "linecolor": "white",
             "minorgridcolor": "white",
             "startlinecolor": "#2a3f5f"
            },
            "baxis": {
             "endlinecolor": "#2a3f5f",
             "gridcolor": "white",
             "linecolor": "white",
             "minorgridcolor": "white",
             "startlinecolor": "#2a3f5f"
            },
            "type": "carpet"
           }
          ],
          "choropleth": [
           {
            "colorbar": {
             "outlinewidth": 0,
             "ticks": ""
            },
            "type": "choropleth"
           }
          ],
          "contour": [
           {
            "colorbar": {
             "outlinewidth": 0,
             "ticks": ""
            },
            "colorscale": [
             [
              0,
              "#0d0887"
             ],
             [
              0.1111111111111111,
              "#46039f"
             ],
             [
              0.2222222222222222,
              "#7201a8"
             ],
             [
              0.3333333333333333,
              "#9c179e"
             ],
             [
              0.4444444444444444,
              "#bd3786"
             ],
             [
              0.5555555555555556,
              "#d8576b"
             ],
             [
              0.6666666666666666,
              "#ed7953"
             ],
             [
              0.7777777777777778,
              "#fb9f3a"
             ],
             [
              0.8888888888888888,
              "#fdca26"
             ],
             [
              1,
              "#f0f921"
             ]
            ],
            "type": "contour"
           }
          ],
          "contourcarpet": [
           {
            "colorbar": {
             "outlinewidth": 0,
             "ticks": ""
            },
            "type": "contourcarpet"
           }
          ],
          "heatmap": [
           {
            "colorbar": {
             "outlinewidth": 0,
             "ticks": ""
            },
            "colorscale": [
             [
              0,
              "#0d0887"
             ],
             [
              0.1111111111111111,
              "#46039f"
             ],
             [
              0.2222222222222222,
              "#7201a8"
             ],
             [
              0.3333333333333333,
              "#9c179e"
             ],
             [
              0.4444444444444444,
              "#bd3786"
             ],
             [
              0.5555555555555556,
              "#d8576b"
             ],
             [
              0.6666666666666666,
              "#ed7953"
             ],
             [
              0.7777777777777778,
              "#fb9f3a"
             ],
             [
              0.8888888888888888,
              "#fdca26"
             ],
             [
              1,
              "#f0f921"
             ]
            ],
            "type": "heatmap"
           }
          ],
          "heatmapgl": [
           {
            "colorbar": {
             "outlinewidth": 0,
             "ticks": ""
            },
            "colorscale": [
             [
              0,
              "#0d0887"
             ],
             [
              0.1111111111111111,
              "#46039f"
             ],
             [
              0.2222222222222222,
              "#7201a8"
             ],
             [
              0.3333333333333333,
              "#9c179e"
             ],
             [
              0.4444444444444444,
              "#bd3786"
             ],
             [
              0.5555555555555556,
              "#d8576b"
             ],
             [
              0.6666666666666666,
              "#ed7953"
             ],
             [
              0.7777777777777778,
              "#fb9f3a"
             ],
             [
              0.8888888888888888,
              "#fdca26"
             ],
             [
              1,
              "#f0f921"
             ]
            ],
            "type": "heatmapgl"
           }
          ],
          "histogram": [
           {
            "marker": {
             "pattern": {
              "fillmode": "overlay",
              "size": 10,
              "solidity": 0.2
             }
            },
            "type": "histogram"
           }
          ],
          "histogram2d": [
           {
            "colorbar": {
             "outlinewidth": 0,
             "ticks": ""
            },
            "colorscale": [
             [
              0,
              "#0d0887"
             ],
             [
              0.1111111111111111,
              "#46039f"
             ],
             [
              0.2222222222222222,
              "#7201a8"
             ],
             [
              0.3333333333333333,
              "#9c179e"
             ],
             [
              0.4444444444444444,
              "#bd3786"
             ],
             [
              0.5555555555555556,
              "#d8576b"
             ],
             [
              0.6666666666666666,
              "#ed7953"
             ],
             [
              0.7777777777777778,
              "#fb9f3a"
             ],
             [
              0.8888888888888888,
              "#fdca26"
             ],
             [
              1,
              "#f0f921"
             ]
            ],
            "type": "histogram2d"
           }
          ],
          "histogram2dcontour": [
           {
            "colorbar": {
             "outlinewidth": 0,
             "ticks": ""
            },
            "colorscale": [
             [
              0,
              "#0d0887"
             ],
             [
              0.1111111111111111,
              "#46039f"
             ],
             [
              0.2222222222222222,
              "#7201a8"
             ],
             [
              0.3333333333333333,
              "#9c179e"
             ],
             [
              0.4444444444444444,
              "#bd3786"
             ],
             [
              0.5555555555555556,
              "#d8576b"
             ],
             [
              0.6666666666666666,
              "#ed7953"
             ],
             [
              0.7777777777777778,
              "#fb9f3a"
             ],
             [
              0.8888888888888888,
              "#fdca26"
             ],
             [
              1,
              "#f0f921"
             ]
            ],
            "type": "histogram2dcontour"
           }
          ],
          "mesh3d": [
           {
            "colorbar": {
             "outlinewidth": 0,
             "ticks": ""
            },
            "type": "mesh3d"
           }
          ],
          "parcoords": [
           {
            "line": {
             "colorbar": {
              "outlinewidth": 0,
              "ticks": ""
             }
            },
            "type": "parcoords"
           }
          ],
          "pie": [
           {
            "automargin": true,
            "type": "pie"
           }
          ],
          "scatter": [
           {
            "fillpattern": {
             "fillmode": "overlay",
             "size": 10,
             "solidity": 0.2
            },
            "type": "scatter"
           }
          ],
          "scatter3d": [
           {
            "line": {
             "colorbar": {
              "outlinewidth": 0,
              "ticks": ""
             }
            },
            "marker": {
             "colorbar": {
              "outlinewidth": 0,
              "ticks": ""
             }
            },
            "type": "scatter3d"
           }
          ],
          "scattercarpet": [
           {
            "marker": {
             "colorbar": {
              "outlinewidth": 0,
              "ticks": ""
             }
            },
            "type": "scattercarpet"
           }
          ],
          "scattergeo": [
           {
            "marker": {
             "colorbar": {
              "outlinewidth": 0,
              "ticks": ""
             }
            },
            "type": "scattergeo"
           }
          ],
          "scattergl": [
           {
            "marker": {
             "colorbar": {
              "outlinewidth": 0,
              "ticks": ""
             }
            },
            "type": "scattergl"
           }
          ],
          "scattermapbox": [
           {
            "marker": {
             "colorbar": {
              "outlinewidth": 0,
              "ticks": ""
             }
            },
            "type": "scattermapbox"
           }
          ],
          "scatterpolar": [
           {
            "marker": {
             "colorbar": {
              "outlinewidth": 0,
              "ticks": ""
             }
            },
            "type": "scatterpolar"
           }
          ],
          "scatterpolargl": [
           {
            "marker": {
             "colorbar": {
              "outlinewidth": 0,
              "ticks": ""
             }
            },
            "type": "scatterpolargl"
           }
          ],
          "scatterternary": [
           {
            "marker": {
             "colorbar": {
              "outlinewidth": 0,
              "ticks": ""
             }
            },
            "type": "scatterternary"
           }
          ],
          "surface": [
           {
            "colorbar": {
             "outlinewidth": 0,
             "ticks": ""
            },
            "colorscale": [
             [
              0,
              "#0d0887"
             ],
             [
              0.1111111111111111,
              "#46039f"
             ],
             [
              0.2222222222222222,
              "#7201a8"
             ],
             [
              0.3333333333333333,
              "#9c179e"
             ],
             [
              0.4444444444444444,
              "#bd3786"
             ],
             [
              0.5555555555555556,
              "#d8576b"
             ],
             [
              0.6666666666666666,
              "#ed7953"
             ],
             [
              0.7777777777777778,
              "#fb9f3a"
             ],
             [
              0.8888888888888888,
              "#fdca26"
             ],
             [
              1,
              "#f0f921"
             ]
            ],
            "type": "surface"
           }
          ],
          "table": [
           {
            "cells": {
             "fill": {
              "color": "#EBF0F8"
             },
             "line": {
              "color": "white"
             }
            },
            "header": {
             "fill": {
              "color": "#C8D4E3"
             },
             "line": {
              "color": "white"
             }
            },
            "type": "table"
           }
          ]
         },
         "layout": {
          "annotationdefaults": {
           "arrowcolor": "#2a3f5f",
           "arrowhead": 0,
           "arrowwidth": 1
          },
          "autotypenumbers": "strict",
          "coloraxis": {
           "colorbar": {
            "outlinewidth": 0,
            "ticks": ""
           }
          },
          "colorscale": {
           "diverging": [
            [
             0,
             "#8e0152"
            ],
            [
             0.1,
             "#c51b7d"
            ],
            [
             0.2,
             "#de77ae"
            ],
            [
             0.3,
             "#f1b6da"
            ],
            [
             0.4,
             "#fde0ef"
            ],
            [
             0.5,
             "#f7f7f7"
            ],
            [
             0.6,
             "#e6f5d0"
            ],
            [
             0.7,
             "#b8e186"
            ],
            [
             0.8,
             "#7fbc41"
            ],
            [
             0.9,
             "#4d9221"
            ],
            [
             1,
             "#276419"
            ]
           ],
           "sequential": [
            [
             0,
             "#0d0887"
            ],
            [
             0.1111111111111111,
             "#46039f"
            ],
            [
             0.2222222222222222,
             "#7201a8"
            ],
            [
             0.3333333333333333,
             "#9c179e"
            ],
            [
             0.4444444444444444,
             "#bd3786"
            ],
            [
             0.5555555555555556,
             "#d8576b"
            ],
            [
             0.6666666666666666,
             "#ed7953"
            ],
            [
             0.7777777777777778,
             "#fb9f3a"
            ],
            [
             0.8888888888888888,
             "#fdca26"
            ],
            [
             1,
             "#f0f921"
            ]
           ],
           "sequentialminus": [
            [
             0,
             "#0d0887"
            ],
            [
             0.1111111111111111,
             "#46039f"
            ],
            [
             0.2222222222222222,
             "#7201a8"
            ],
            [
             0.3333333333333333,
             "#9c179e"
            ],
            [
             0.4444444444444444,
             "#bd3786"
            ],
            [
             0.5555555555555556,
             "#d8576b"
            ],
            [
             0.6666666666666666,
             "#ed7953"
            ],
            [
             0.7777777777777778,
             "#fb9f3a"
            ],
            [
             0.8888888888888888,
             "#fdca26"
            ],
            [
             1,
             "#f0f921"
            ]
           ]
          },
          "colorway": [
           "#636efa",
           "#EF553B",
           "#00cc96",
           "#ab63fa",
           "#FFA15A",
           "#19d3f3",
           "#FF6692",
           "#B6E880",
           "#FF97FF",
           "#FECB52"
          ],
          "font": {
           "color": "#2a3f5f"
          },
          "geo": {
           "bgcolor": "white",
           "lakecolor": "white",
           "landcolor": "#E5ECF6",
           "showlakes": true,
           "showland": true,
           "subunitcolor": "white"
          },
          "hoverlabel": {
           "align": "left"
          },
          "hovermode": "closest",
          "mapbox": {
           "style": "light"
          },
          "paper_bgcolor": "white",
          "plot_bgcolor": "#E5ECF6",
          "polar": {
           "angularaxis": {
            "gridcolor": "white",
            "linecolor": "white",
            "ticks": ""
           },
           "bgcolor": "#E5ECF6",
           "radialaxis": {
            "gridcolor": "white",
            "linecolor": "white",
            "ticks": ""
           }
          },
          "scene": {
           "xaxis": {
            "backgroundcolor": "#E5ECF6",
            "gridcolor": "white",
            "gridwidth": 2,
            "linecolor": "white",
            "showbackground": true,
            "ticks": "",
            "zerolinecolor": "white"
           },
           "yaxis": {
            "backgroundcolor": "#E5ECF6",
            "gridcolor": "white",
            "gridwidth": 2,
            "linecolor": "white",
            "showbackground": true,
            "ticks": "",
            "zerolinecolor": "white"
           },
           "zaxis": {
            "backgroundcolor": "#E5ECF6",
            "gridcolor": "white",
            "gridwidth": 2,
            "linecolor": "white",
            "showbackground": true,
            "ticks": "",
            "zerolinecolor": "white"
           }
          },
          "shapedefaults": {
           "line": {
            "color": "#2a3f5f"
           }
          },
          "ternary": {
           "aaxis": {
            "gridcolor": "white",
            "linecolor": "white",
            "ticks": ""
           },
           "baxis": {
            "gridcolor": "white",
            "linecolor": "white",
            "ticks": ""
           },
           "bgcolor": "#E5ECF6",
           "caxis": {
            "gridcolor": "white",
            "linecolor": "white",
            "ticks": ""
           }
          },
          "title": {
           "x": 0.05
          },
          "xaxis": {
           "automargin": true,
           "gridcolor": "white",
           "linecolor": "white",
           "ticks": "",
           "title": {
            "standoff": 15
           },
           "zerolinecolor": "white",
           "zerolinewidth": 2
          },
          "yaxis": {
           "automargin": true,
           "gridcolor": "white",
           "linecolor": "white",
           "ticks": "",
           "title": {
            "standoff": 15
           },
           "zerolinecolor": "white",
           "zerolinewidth": 2
          }
         }
        },
        "title": {
         "text": "Grafik 1.2 Detail Jumlah Pasien tidak Terdiagnosa Parkinson berdasarkan Umur",
         "x": 0.5
        },
        "xaxis": {
         "anchor": "y",
         "domain": [
          0,
          1
         ],
         "title": {
          "text": "Umur"
         }
        },
        "yaxis": {
         "anchor": "x",
         "domain": [
          0,
          1
         ],
         "title": {
          "text": "Jumlah Pasien"
         }
        }
       }
      }
     },
     "metadata": {},
     "output_type": "display_data"
    }
   ],
   "source": [
    "# Pembuatan figure berisi historgram ngelompokkan identifikasi diagnosis berdasarkan umur pasien\n",
    "fig_1_0 = px.histogram(df_analysis.groupby(['Umur','Diagnosis label'])['Pasien ID'].count().reset_index(), \n",
    "             x = 'Umur', \n",
    "             y = 'Pasien ID',\n",
    "             title = 'Grafik 1.0 Jumlah Pasien Berdasarkan Umur',\n",
    "             nbins = 15,\n",
    "             text_auto = True,\n",
    "             color = 'Diagnosis label'\n",
    "             )\n",
    "fig_1_0.update_layout(bargap = 0.2, yaxis_title = 'Jumlah Pasien', title_x = 0.5)\n",
    "fig_1_0.show()\n",
    "\n",
    "# Pembuatan ngelompokan dataframe berdasarkan kondisi diagnosis\n",
    "df_analysis_diagnosis_0 = df_analysis[df_analysis['Diagnosis'] == 0]\n",
    "df_analysis_diagnosis_1 = df_analysis[df_analysis['Diagnosis'] == 1]\n",
    "\n",
    "# Pembuatan figure berisi grafik bar untuk melihat jumlah pasien pada setiap umur yang terkena penyakit Parkinson\n",
    "df_analysis_1_diagnosis = df_analysis_diagnosis_1.groupby(['Umur','Diagnosis label'])['Pasien ID'].count().reset_index()\n",
    "fig_1_1 = px.histogram(df_analysis_1_diagnosis, \n",
    "             x='Umur', \n",
    "             y='Pasien ID',\n",
    "             title='Grafik 1.1 Detail Jumlah Pasien Terdiagnosa Parkinson berdasarkan Umur',\n",
    "             nbins = 40,\n",
    "             text_auto = True,\n",
    "             color='Diagnosis label',\n",
    "             color_discrete_sequence=['#ef553b']\n",
    "             )\n",
    "fig_1_1.update_layout(yaxis_title='Jumlah Pasien',title_x = 0.5)\n",
    "fig_1_1.show()\n",
    "\n",
    "# Pembuatan figure berisi grafik bar untuk melihat jumlah pasien pada setiap umur yang tidak terkena penyakit Parkinson\n",
    "df_analysis_1_no_diagnosis = df_analysis_diagnosis_0.groupby(['Umur','Diagnosis label'])['Pasien ID'].count().reset_index()\n",
    "fig_1_2 = px.histogram(df_analysis_1_no_diagnosis, \n",
    "             x='Umur', \n",
    "             y='Pasien ID',\n",
    "             title='Grafik 1.2 Detail Jumlah Pasien tidak Terdiagnosa Parkinson berdasarkan Umur',\n",
    "             nbins = 40,\n",
    "             text_auto = True,\n",
    "             color='Diagnosis label',\n",
    "             )\n",
    "fig_1_2.update_layout(yaxis_title='Jumlah Pasien',title_x = 0.5)\n",
    "fig_1_2.show()"
   ]
  },
  {
   "cell_type": "markdown",
   "metadata": {},
   "source": [
    "<div style = 'text-align: justify'>Berdasarkan informasi grafik 1.0 diketahui bahwa penyebaran umur pasien sangatlah merata melihat tidak adanya umur yang memiliki jumlah pasien yang signifikan lebih banyak dari pada umur lainnya, namun untuk kelompok umur dengan jumlah pasien terbanyak berada pada rentang umur 50 sampai 54 Tahun dengan 288 pasien. Namun ketika melihat penyebaran kondisi diagnosis, terlihat bahwa rentang umur 70 sampai 75 tahun paling banyak terkena penyakit parkinson dibandingkan dengan rentang umur lain. Sementara ketika melihat penyebaran kondisi tidak terdiagnosis penyakit, terlihat bahwa rentang umur 50 sampai 54 tahun paling banyak tidak terkena penyakit parkinson. </div><br>\n",
    "\n",
    "<div style = 'text-align: justify'>Berdasarkan histogram yang dihasilkan terlihat bahwa pasien lanjut usia dengan umur yang lebih muda yakni pada awal 50 tahun memiliki jumlah pasien yang tidak terkena Parkinson paling tinggi dibandingkan dengan umur pasien lain, secara detail terlihat bahwa sebanyak 30 pasien berumur 53 dan 54 tahun. Sementara jumlah pasien yang paling banyak terkena penyakit Parkinson secara detail berada pada usia 75, 73 dan 70. Jumlah penyakit Parkinson pada usia awal lanjut usia yang minim dapat diakibatkan karena pengaruh umur yang masih bisa melakukan berbagai aktivitas, apabila dibandingkan dengan pasien yang berumur 70 tahun ke atas maka lebih dibutuhkan bantuan terkait aktivitas sehari-hari (aktivitas fisik) sehingga susah untuk berolahraga, maka dari itu tergolong lebih rentan terhadap penyakit pada usia-usia yang lebih tua <a href='https://www.google.com/url?sa=t&source=web&rct=j&opi=89978449&url=https://journal.uny.ac.id/index.php/jorpres/article/download/5725/4943&ved=2ahUKEwjvpJLRl4qHAxXJSmwGHRGDAmEQFnoECCQQAQ&usg=AOvVaw1l-vvJ2A6y0UNwlSZ7KVS6'>[5]</a>."
   ]
  },
  {
   "cell_type": "markdown",
   "metadata": {},
   "source": [
    "### 2. Analisis Etnis Pasien Lanjut Usia"
   ]
  },
  {
   "cell_type": "code",
   "execution_count": 16,
   "metadata": {},
   "outputs": [
    {
     "data": {
      "application/vnd.plotly.v1+json": {
       "config": {
        "plotlyServerURL": "https://plot.ly"
       },
       "data": [
        {
         "customdata": [
          [
           "Afrika Amerika"
          ],
          [
           "Asian"
          ],
          [
           "Kaukasia"
          ],
          [
           "Lainnya"
          ]
         ],
         "domain": {
          "x": [
           0,
           1
          ],
          "y": [
           0,
           1
          ]
         },
         "hovertemplate": "Etnis label=%{customdata[0]}<br>Pasien ID=%{value}<extra></extra>",
         "labels": [
          "Afrika Amerika",
          "Asian",
          "Kaukasia",
          "Lainnya"
         ],
         "legendgroup": "",
         "marker": {
          "colors": [
           "#636efa",
           "#EF553B",
           "#00cc96",
           "#ab63fa"
          ]
         },
         "name": "",
         "showlegend": true,
         "type": "pie",
         "values": [
          425,
          197,
          1270,
          213
         ]
        }
       ],
       "layout": {
        "legend": {
         "tracegroupgap": 0
        },
        "template": {
         "data": {
          "bar": [
           {
            "error_x": {
             "color": "#2a3f5f"
            },
            "error_y": {
             "color": "#2a3f5f"
            },
            "marker": {
             "line": {
              "color": "#E5ECF6",
              "width": 0.5
             },
             "pattern": {
              "fillmode": "overlay",
              "size": 10,
              "solidity": 0.2
             }
            },
            "type": "bar"
           }
          ],
          "barpolar": [
           {
            "marker": {
             "line": {
              "color": "#E5ECF6",
              "width": 0.5
             },
             "pattern": {
              "fillmode": "overlay",
              "size": 10,
              "solidity": 0.2
             }
            },
            "type": "barpolar"
           }
          ],
          "carpet": [
           {
            "aaxis": {
             "endlinecolor": "#2a3f5f",
             "gridcolor": "white",
             "linecolor": "white",
             "minorgridcolor": "white",
             "startlinecolor": "#2a3f5f"
            },
            "baxis": {
             "endlinecolor": "#2a3f5f",
             "gridcolor": "white",
             "linecolor": "white",
             "minorgridcolor": "white",
             "startlinecolor": "#2a3f5f"
            },
            "type": "carpet"
           }
          ],
          "choropleth": [
           {
            "colorbar": {
             "outlinewidth": 0,
             "ticks": ""
            },
            "type": "choropleth"
           }
          ],
          "contour": [
           {
            "colorbar": {
             "outlinewidth": 0,
             "ticks": ""
            },
            "colorscale": [
             [
              0,
              "#0d0887"
             ],
             [
              0.1111111111111111,
              "#46039f"
             ],
             [
              0.2222222222222222,
              "#7201a8"
             ],
             [
              0.3333333333333333,
              "#9c179e"
             ],
             [
              0.4444444444444444,
              "#bd3786"
             ],
             [
              0.5555555555555556,
              "#d8576b"
             ],
             [
              0.6666666666666666,
              "#ed7953"
             ],
             [
              0.7777777777777778,
              "#fb9f3a"
             ],
             [
              0.8888888888888888,
              "#fdca26"
             ],
             [
              1,
              "#f0f921"
             ]
            ],
            "type": "contour"
           }
          ],
          "contourcarpet": [
           {
            "colorbar": {
             "outlinewidth": 0,
             "ticks": ""
            },
            "type": "contourcarpet"
           }
          ],
          "heatmap": [
           {
            "colorbar": {
             "outlinewidth": 0,
             "ticks": ""
            },
            "colorscale": [
             [
              0,
              "#0d0887"
             ],
             [
              0.1111111111111111,
              "#46039f"
             ],
             [
              0.2222222222222222,
              "#7201a8"
             ],
             [
              0.3333333333333333,
              "#9c179e"
             ],
             [
              0.4444444444444444,
              "#bd3786"
             ],
             [
              0.5555555555555556,
              "#d8576b"
             ],
             [
              0.6666666666666666,
              "#ed7953"
             ],
             [
              0.7777777777777778,
              "#fb9f3a"
             ],
             [
              0.8888888888888888,
              "#fdca26"
             ],
             [
              1,
              "#f0f921"
             ]
            ],
            "type": "heatmap"
           }
          ],
          "heatmapgl": [
           {
            "colorbar": {
             "outlinewidth": 0,
             "ticks": ""
            },
            "colorscale": [
             [
              0,
              "#0d0887"
             ],
             [
              0.1111111111111111,
              "#46039f"
             ],
             [
              0.2222222222222222,
              "#7201a8"
             ],
             [
              0.3333333333333333,
              "#9c179e"
             ],
             [
              0.4444444444444444,
              "#bd3786"
             ],
             [
              0.5555555555555556,
              "#d8576b"
             ],
             [
              0.6666666666666666,
              "#ed7953"
             ],
             [
              0.7777777777777778,
              "#fb9f3a"
             ],
             [
              0.8888888888888888,
              "#fdca26"
             ],
             [
              1,
              "#f0f921"
             ]
            ],
            "type": "heatmapgl"
           }
          ],
          "histogram": [
           {
            "marker": {
             "pattern": {
              "fillmode": "overlay",
              "size": 10,
              "solidity": 0.2
             }
            },
            "type": "histogram"
           }
          ],
          "histogram2d": [
           {
            "colorbar": {
             "outlinewidth": 0,
             "ticks": ""
            },
            "colorscale": [
             [
              0,
              "#0d0887"
             ],
             [
              0.1111111111111111,
              "#46039f"
             ],
             [
              0.2222222222222222,
              "#7201a8"
             ],
             [
              0.3333333333333333,
              "#9c179e"
             ],
             [
              0.4444444444444444,
              "#bd3786"
             ],
             [
              0.5555555555555556,
              "#d8576b"
             ],
             [
              0.6666666666666666,
              "#ed7953"
             ],
             [
              0.7777777777777778,
              "#fb9f3a"
             ],
             [
              0.8888888888888888,
              "#fdca26"
             ],
             [
              1,
              "#f0f921"
             ]
            ],
            "type": "histogram2d"
           }
          ],
          "histogram2dcontour": [
           {
            "colorbar": {
             "outlinewidth": 0,
             "ticks": ""
            },
            "colorscale": [
             [
              0,
              "#0d0887"
             ],
             [
              0.1111111111111111,
              "#46039f"
             ],
             [
              0.2222222222222222,
              "#7201a8"
             ],
             [
              0.3333333333333333,
              "#9c179e"
             ],
             [
              0.4444444444444444,
              "#bd3786"
             ],
             [
              0.5555555555555556,
              "#d8576b"
             ],
             [
              0.6666666666666666,
              "#ed7953"
             ],
             [
              0.7777777777777778,
              "#fb9f3a"
             ],
             [
              0.8888888888888888,
              "#fdca26"
             ],
             [
              1,
              "#f0f921"
             ]
            ],
            "type": "histogram2dcontour"
           }
          ],
          "mesh3d": [
           {
            "colorbar": {
             "outlinewidth": 0,
             "ticks": ""
            },
            "type": "mesh3d"
           }
          ],
          "parcoords": [
           {
            "line": {
             "colorbar": {
              "outlinewidth": 0,
              "ticks": ""
             }
            },
            "type": "parcoords"
           }
          ],
          "pie": [
           {
            "automargin": true,
            "type": "pie"
           }
          ],
          "scatter": [
           {
            "fillpattern": {
             "fillmode": "overlay",
             "size": 10,
             "solidity": 0.2
            },
            "type": "scatter"
           }
          ],
          "scatter3d": [
           {
            "line": {
             "colorbar": {
              "outlinewidth": 0,
              "ticks": ""
             }
            },
            "marker": {
             "colorbar": {
              "outlinewidth": 0,
              "ticks": ""
             }
            },
            "type": "scatter3d"
           }
          ],
          "scattercarpet": [
           {
            "marker": {
             "colorbar": {
              "outlinewidth": 0,
              "ticks": ""
             }
            },
            "type": "scattercarpet"
           }
          ],
          "scattergeo": [
           {
            "marker": {
             "colorbar": {
              "outlinewidth": 0,
              "ticks": ""
             }
            },
            "type": "scattergeo"
           }
          ],
          "scattergl": [
           {
            "marker": {
             "colorbar": {
              "outlinewidth": 0,
              "ticks": ""
             }
            },
            "type": "scattergl"
           }
          ],
          "scattermapbox": [
           {
            "marker": {
             "colorbar": {
              "outlinewidth": 0,
              "ticks": ""
             }
            },
            "type": "scattermapbox"
           }
          ],
          "scatterpolar": [
           {
            "marker": {
             "colorbar": {
              "outlinewidth": 0,
              "ticks": ""
             }
            },
            "type": "scatterpolar"
           }
          ],
          "scatterpolargl": [
           {
            "marker": {
             "colorbar": {
              "outlinewidth": 0,
              "ticks": ""
             }
            },
            "type": "scatterpolargl"
           }
          ],
          "scatterternary": [
           {
            "marker": {
             "colorbar": {
              "outlinewidth": 0,
              "ticks": ""
             }
            },
            "type": "scatterternary"
           }
          ],
          "surface": [
           {
            "colorbar": {
             "outlinewidth": 0,
             "ticks": ""
            },
            "colorscale": [
             [
              0,
              "#0d0887"
             ],
             [
              0.1111111111111111,
              "#46039f"
             ],
             [
              0.2222222222222222,
              "#7201a8"
             ],
             [
              0.3333333333333333,
              "#9c179e"
             ],
             [
              0.4444444444444444,
              "#bd3786"
             ],
             [
              0.5555555555555556,
              "#d8576b"
             ],
             [
              0.6666666666666666,
              "#ed7953"
             ],
             [
              0.7777777777777778,
              "#fb9f3a"
             ],
             [
              0.8888888888888888,
              "#fdca26"
             ],
             [
              1,
              "#f0f921"
             ]
            ],
            "type": "surface"
           }
          ],
          "table": [
           {
            "cells": {
             "fill": {
              "color": "#EBF0F8"
             },
             "line": {
              "color": "white"
             }
            },
            "header": {
             "fill": {
              "color": "#C8D4E3"
             },
             "line": {
              "color": "white"
             }
            },
            "type": "table"
           }
          ]
         },
         "layout": {
          "annotationdefaults": {
           "arrowcolor": "#2a3f5f",
           "arrowhead": 0,
           "arrowwidth": 1
          },
          "autotypenumbers": "strict",
          "coloraxis": {
           "colorbar": {
            "outlinewidth": 0,
            "ticks": ""
           }
          },
          "colorscale": {
           "diverging": [
            [
             0,
             "#8e0152"
            ],
            [
             0.1,
             "#c51b7d"
            ],
            [
             0.2,
             "#de77ae"
            ],
            [
             0.3,
             "#f1b6da"
            ],
            [
             0.4,
             "#fde0ef"
            ],
            [
             0.5,
             "#f7f7f7"
            ],
            [
             0.6,
             "#e6f5d0"
            ],
            [
             0.7,
             "#b8e186"
            ],
            [
             0.8,
             "#7fbc41"
            ],
            [
             0.9,
             "#4d9221"
            ],
            [
             1,
             "#276419"
            ]
           ],
           "sequential": [
            [
             0,
             "#0d0887"
            ],
            [
             0.1111111111111111,
             "#46039f"
            ],
            [
             0.2222222222222222,
             "#7201a8"
            ],
            [
             0.3333333333333333,
             "#9c179e"
            ],
            [
             0.4444444444444444,
             "#bd3786"
            ],
            [
             0.5555555555555556,
             "#d8576b"
            ],
            [
             0.6666666666666666,
             "#ed7953"
            ],
            [
             0.7777777777777778,
             "#fb9f3a"
            ],
            [
             0.8888888888888888,
             "#fdca26"
            ],
            [
             1,
             "#f0f921"
            ]
           ],
           "sequentialminus": [
            [
             0,
             "#0d0887"
            ],
            [
             0.1111111111111111,
             "#46039f"
            ],
            [
             0.2222222222222222,
             "#7201a8"
            ],
            [
             0.3333333333333333,
             "#9c179e"
            ],
            [
             0.4444444444444444,
             "#bd3786"
            ],
            [
             0.5555555555555556,
             "#d8576b"
            ],
            [
             0.6666666666666666,
             "#ed7953"
            ],
            [
             0.7777777777777778,
             "#fb9f3a"
            ],
            [
             0.8888888888888888,
             "#fdca26"
            ],
            [
             1,
             "#f0f921"
            ]
           ]
          },
          "colorway": [
           "#636efa",
           "#EF553B",
           "#00cc96",
           "#ab63fa",
           "#FFA15A",
           "#19d3f3",
           "#FF6692",
           "#B6E880",
           "#FF97FF",
           "#FECB52"
          ],
          "font": {
           "color": "#2a3f5f"
          },
          "geo": {
           "bgcolor": "white",
           "lakecolor": "white",
           "landcolor": "#E5ECF6",
           "showlakes": true,
           "showland": true,
           "subunitcolor": "white"
          },
          "hoverlabel": {
           "align": "left"
          },
          "hovermode": "closest",
          "mapbox": {
           "style": "light"
          },
          "paper_bgcolor": "white",
          "plot_bgcolor": "#E5ECF6",
          "polar": {
           "angularaxis": {
            "gridcolor": "white",
            "linecolor": "white",
            "ticks": ""
           },
           "bgcolor": "#E5ECF6",
           "radialaxis": {
            "gridcolor": "white",
            "linecolor": "white",
            "ticks": ""
           }
          },
          "scene": {
           "xaxis": {
            "backgroundcolor": "#E5ECF6",
            "gridcolor": "white",
            "gridwidth": 2,
            "linecolor": "white",
            "showbackground": true,
            "ticks": "",
            "zerolinecolor": "white"
           },
           "yaxis": {
            "backgroundcolor": "#E5ECF6",
            "gridcolor": "white",
            "gridwidth": 2,
            "linecolor": "white",
            "showbackground": true,
            "ticks": "",
            "zerolinecolor": "white"
           },
           "zaxis": {
            "backgroundcolor": "#E5ECF6",
            "gridcolor": "white",
            "gridwidth": 2,
            "linecolor": "white",
            "showbackground": true,
            "ticks": "",
            "zerolinecolor": "white"
           }
          },
          "shapedefaults": {
           "line": {
            "color": "#2a3f5f"
           }
          },
          "ternary": {
           "aaxis": {
            "gridcolor": "white",
            "linecolor": "white",
            "ticks": ""
           },
           "baxis": {
            "gridcolor": "white",
            "linecolor": "white",
            "ticks": ""
           },
           "bgcolor": "#E5ECF6",
           "caxis": {
            "gridcolor": "white",
            "linecolor": "white",
            "ticks": ""
           }
          },
          "title": {
           "x": 0.05
          },
          "xaxis": {
           "automargin": true,
           "gridcolor": "white",
           "linecolor": "white",
           "ticks": "",
           "title": {
            "standoff": 15
           },
           "zerolinecolor": "white",
           "zerolinewidth": 2
          },
          "yaxis": {
           "automargin": true,
           "gridcolor": "white",
           "linecolor": "white",
           "ticks": "",
           "title": {
            "standoff": 15
           },
           "zerolinecolor": "white",
           "zerolinewidth": 2
          }
         }
        },
        "title": {
         "text": "Grafik 2.0 Persentase pasien pada tiap Etnis",
         "x": 0.5
        },
        "xaxis": {
         "title": {
          "text": "Etnis"
         }
        },
        "yaxis": {
         "title": {
          "text": "Jumlah Pasien"
         }
        }
       }
      }
     },
     "metadata": {},
     "output_type": "display_data"
    },
    {
     "data": {
      "application/vnd.plotly.v1+json": {
       "config": {
        "plotlyServerURL": "https://plot.ly"
       },
       "data": [
        {
         "alignmentgroup": "True",
         "hovertemplate": "Diagnosis Legend=Negatif Parkinson<br>Etnis label=%{x}<br>Pasien ID=%{y}<extra></extra>",
         "legendgroup": "Negatif Parkinson",
         "marker": {
          "color": "#636efa",
          "pattern": {
           "shape": ""
          }
         },
         "name": "Negatif Parkinson",
         "offsetgroup": "Negatif Parkinson",
         "orientation": "v",
         "showlegend": true,
         "textposition": "auto",
         "texttemplate": "%{y}",
         "type": "bar",
         "x": [
          "Afrika Amerika",
          "Asian",
          "Kaukasia",
          "Lainnya"
         ],
         "xaxis": "x",
         "y": [
          150,
          73,
          490,
          88
         ],
         "yaxis": "y"
        },
        {
         "alignmentgroup": "True",
         "hovertemplate": "Diagnosis Legend=Positif Parkinson<br>Etnis label=%{x}<br>Pasien ID=%{y}<extra></extra>",
         "legendgroup": "Positif Parkinson",
         "marker": {
          "color": "#EF553B",
          "pattern": {
           "shape": ""
          }
         },
         "name": "Positif Parkinson",
         "offsetgroup": "Positif Parkinson",
         "orientation": "v",
         "showlegend": true,
         "textposition": "auto",
         "texttemplate": "%{y}",
         "type": "bar",
         "x": [
          "Afrika Amerika",
          "Asian",
          "Kaukasia",
          "Lainnya"
         ],
         "xaxis": "x",
         "y": [
          275,
          124,
          780,
          125
         ],
         "yaxis": "y"
        }
       ],
       "layout": {
        "barmode": "relative",
        "legend": {
         "title": {
          "text": "Diagnosis Legend"
         },
         "tracegroupgap": 0
        },
        "template": {
         "data": {
          "bar": [
           {
            "error_x": {
             "color": "#2a3f5f"
            },
            "error_y": {
             "color": "#2a3f5f"
            },
            "marker": {
             "line": {
              "color": "#E5ECF6",
              "width": 0.5
             },
             "pattern": {
              "fillmode": "overlay",
              "size": 10,
              "solidity": 0.2
             }
            },
            "type": "bar"
           }
          ],
          "barpolar": [
           {
            "marker": {
             "line": {
              "color": "#E5ECF6",
              "width": 0.5
             },
             "pattern": {
              "fillmode": "overlay",
              "size": 10,
              "solidity": 0.2
             }
            },
            "type": "barpolar"
           }
          ],
          "carpet": [
           {
            "aaxis": {
             "endlinecolor": "#2a3f5f",
             "gridcolor": "white",
             "linecolor": "white",
             "minorgridcolor": "white",
             "startlinecolor": "#2a3f5f"
            },
            "baxis": {
             "endlinecolor": "#2a3f5f",
             "gridcolor": "white",
             "linecolor": "white",
             "minorgridcolor": "white",
             "startlinecolor": "#2a3f5f"
            },
            "type": "carpet"
           }
          ],
          "choropleth": [
           {
            "colorbar": {
             "outlinewidth": 0,
             "ticks": ""
            },
            "type": "choropleth"
           }
          ],
          "contour": [
           {
            "colorbar": {
             "outlinewidth": 0,
             "ticks": ""
            },
            "colorscale": [
             [
              0,
              "#0d0887"
             ],
             [
              0.1111111111111111,
              "#46039f"
             ],
             [
              0.2222222222222222,
              "#7201a8"
             ],
             [
              0.3333333333333333,
              "#9c179e"
             ],
             [
              0.4444444444444444,
              "#bd3786"
             ],
             [
              0.5555555555555556,
              "#d8576b"
             ],
             [
              0.6666666666666666,
              "#ed7953"
             ],
             [
              0.7777777777777778,
              "#fb9f3a"
             ],
             [
              0.8888888888888888,
              "#fdca26"
             ],
             [
              1,
              "#f0f921"
             ]
            ],
            "type": "contour"
           }
          ],
          "contourcarpet": [
           {
            "colorbar": {
             "outlinewidth": 0,
             "ticks": ""
            },
            "type": "contourcarpet"
           }
          ],
          "heatmap": [
           {
            "colorbar": {
             "outlinewidth": 0,
             "ticks": ""
            },
            "colorscale": [
             [
              0,
              "#0d0887"
             ],
             [
              0.1111111111111111,
              "#46039f"
             ],
             [
              0.2222222222222222,
              "#7201a8"
             ],
             [
              0.3333333333333333,
              "#9c179e"
             ],
             [
              0.4444444444444444,
              "#bd3786"
             ],
             [
              0.5555555555555556,
              "#d8576b"
             ],
             [
              0.6666666666666666,
              "#ed7953"
             ],
             [
              0.7777777777777778,
              "#fb9f3a"
             ],
             [
              0.8888888888888888,
              "#fdca26"
             ],
             [
              1,
              "#f0f921"
             ]
            ],
            "type": "heatmap"
           }
          ],
          "heatmapgl": [
           {
            "colorbar": {
             "outlinewidth": 0,
             "ticks": ""
            },
            "colorscale": [
             [
              0,
              "#0d0887"
             ],
             [
              0.1111111111111111,
              "#46039f"
             ],
             [
              0.2222222222222222,
              "#7201a8"
             ],
             [
              0.3333333333333333,
              "#9c179e"
             ],
             [
              0.4444444444444444,
              "#bd3786"
             ],
             [
              0.5555555555555556,
              "#d8576b"
             ],
             [
              0.6666666666666666,
              "#ed7953"
             ],
             [
              0.7777777777777778,
              "#fb9f3a"
             ],
             [
              0.8888888888888888,
              "#fdca26"
             ],
             [
              1,
              "#f0f921"
             ]
            ],
            "type": "heatmapgl"
           }
          ],
          "histogram": [
           {
            "marker": {
             "pattern": {
              "fillmode": "overlay",
              "size": 10,
              "solidity": 0.2
             }
            },
            "type": "histogram"
           }
          ],
          "histogram2d": [
           {
            "colorbar": {
             "outlinewidth": 0,
             "ticks": ""
            },
            "colorscale": [
             [
              0,
              "#0d0887"
             ],
             [
              0.1111111111111111,
              "#46039f"
             ],
             [
              0.2222222222222222,
              "#7201a8"
             ],
             [
              0.3333333333333333,
              "#9c179e"
             ],
             [
              0.4444444444444444,
              "#bd3786"
             ],
             [
              0.5555555555555556,
              "#d8576b"
             ],
             [
              0.6666666666666666,
              "#ed7953"
             ],
             [
              0.7777777777777778,
              "#fb9f3a"
             ],
             [
              0.8888888888888888,
              "#fdca26"
             ],
             [
              1,
              "#f0f921"
             ]
            ],
            "type": "histogram2d"
           }
          ],
          "histogram2dcontour": [
           {
            "colorbar": {
             "outlinewidth": 0,
             "ticks": ""
            },
            "colorscale": [
             [
              0,
              "#0d0887"
             ],
             [
              0.1111111111111111,
              "#46039f"
             ],
             [
              0.2222222222222222,
              "#7201a8"
             ],
             [
              0.3333333333333333,
              "#9c179e"
             ],
             [
              0.4444444444444444,
              "#bd3786"
             ],
             [
              0.5555555555555556,
              "#d8576b"
             ],
             [
              0.6666666666666666,
              "#ed7953"
             ],
             [
              0.7777777777777778,
              "#fb9f3a"
             ],
             [
              0.8888888888888888,
              "#fdca26"
             ],
             [
              1,
              "#f0f921"
             ]
            ],
            "type": "histogram2dcontour"
           }
          ],
          "mesh3d": [
           {
            "colorbar": {
             "outlinewidth": 0,
             "ticks": ""
            },
            "type": "mesh3d"
           }
          ],
          "parcoords": [
           {
            "line": {
             "colorbar": {
              "outlinewidth": 0,
              "ticks": ""
             }
            },
            "type": "parcoords"
           }
          ],
          "pie": [
           {
            "automargin": true,
            "type": "pie"
           }
          ],
          "scatter": [
           {
            "fillpattern": {
             "fillmode": "overlay",
             "size": 10,
             "solidity": 0.2
            },
            "type": "scatter"
           }
          ],
          "scatter3d": [
           {
            "line": {
             "colorbar": {
              "outlinewidth": 0,
              "ticks": ""
             }
            },
            "marker": {
             "colorbar": {
              "outlinewidth": 0,
              "ticks": ""
             }
            },
            "type": "scatter3d"
           }
          ],
          "scattercarpet": [
           {
            "marker": {
             "colorbar": {
              "outlinewidth": 0,
              "ticks": ""
             }
            },
            "type": "scattercarpet"
           }
          ],
          "scattergeo": [
           {
            "marker": {
             "colorbar": {
              "outlinewidth": 0,
              "ticks": ""
             }
            },
            "type": "scattergeo"
           }
          ],
          "scattergl": [
           {
            "marker": {
             "colorbar": {
              "outlinewidth": 0,
              "ticks": ""
             }
            },
            "type": "scattergl"
           }
          ],
          "scattermapbox": [
           {
            "marker": {
             "colorbar": {
              "outlinewidth": 0,
              "ticks": ""
             }
            },
            "type": "scattermapbox"
           }
          ],
          "scatterpolar": [
           {
            "marker": {
             "colorbar": {
              "outlinewidth": 0,
              "ticks": ""
             }
            },
            "type": "scatterpolar"
           }
          ],
          "scatterpolargl": [
           {
            "marker": {
             "colorbar": {
              "outlinewidth": 0,
              "ticks": ""
             }
            },
            "type": "scatterpolargl"
           }
          ],
          "scatterternary": [
           {
            "marker": {
             "colorbar": {
              "outlinewidth": 0,
              "ticks": ""
             }
            },
            "type": "scatterternary"
           }
          ],
          "surface": [
           {
            "colorbar": {
             "outlinewidth": 0,
             "ticks": ""
            },
            "colorscale": [
             [
              0,
              "#0d0887"
             ],
             [
              0.1111111111111111,
              "#46039f"
             ],
             [
              0.2222222222222222,
              "#7201a8"
             ],
             [
              0.3333333333333333,
              "#9c179e"
             ],
             [
              0.4444444444444444,
              "#bd3786"
             ],
             [
              0.5555555555555556,
              "#d8576b"
             ],
             [
              0.6666666666666666,
              "#ed7953"
             ],
             [
              0.7777777777777778,
              "#fb9f3a"
             ],
             [
              0.8888888888888888,
              "#fdca26"
             ],
             [
              1,
              "#f0f921"
             ]
            ],
            "type": "surface"
           }
          ],
          "table": [
           {
            "cells": {
             "fill": {
              "color": "#EBF0F8"
             },
             "line": {
              "color": "white"
             }
            },
            "header": {
             "fill": {
              "color": "#C8D4E3"
             },
             "line": {
              "color": "white"
             }
            },
            "type": "table"
           }
          ]
         },
         "layout": {
          "annotationdefaults": {
           "arrowcolor": "#2a3f5f",
           "arrowhead": 0,
           "arrowwidth": 1
          },
          "autotypenumbers": "strict",
          "coloraxis": {
           "colorbar": {
            "outlinewidth": 0,
            "ticks": ""
           }
          },
          "colorscale": {
           "diverging": [
            [
             0,
             "#8e0152"
            ],
            [
             0.1,
             "#c51b7d"
            ],
            [
             0.2,
             "#de77ae"
            ],
            [
             0.3,
             "#f1b6da"
            ],
            [
             0.4,
             "#fde0ef"
            ],
            [
             0.5,
             "#f7f7f7"
            ],
            [
             0.6,
             "#e6f5d0"
            ],
            [
             0.7,
             "#b8e186"
            ],
            [
             0.8,
             "#7fbc41"
            ],
            [
             0.9,
             "#4d9221"
            ],
            [
             1,
             "#276419"
            ]
           ],
           "sequential": [
            [
             0,
             "#0d0887"
            ],
            [
             0.1111111111111111,
             "#46039f"
            ],
            [
             0.2222222222222222,
             "#7201a8"
            ],
            [
             0.3333333333333333,
             "#9c179e"
            ],
            [
             0.4444444444444444,
             "#bd3786"
            ],
            [
             0.5555555555555556,
             "#d8576b"
            ],
            [
             0.6666666666666666,
             "#ed7953"
            ],
            [
             0.7777777777777778,
             "#fb9f3a"
            ],
            [
             0.8888888888888888,
             "#fdca26"
            ],
            [
             1,
             "#f0f921"
            ]
           ],
           "sequentialminus": [
            [
             0,
             "#0d0887"
            ],
            [
             0.1111111111111111,
             "#46039f"
            ],
            [
             0.2222222222222222,
             "#7201a8"
            ],
            [
             0.3333333333333333,
             "#9c179e"
            ],
            [
             0.4444444444444444,
             "#bd3786"
            ],
            [
             0.5555555555555556,
             "#d8576b"
            ],
            [
             0.6666666666666666,
             "#ed7953"
            ],
            [
             0.7777777777777778,
             "#fb9f3a"
            ],
            [
             0.8888888888888888,
             "#fdca26"
            ],
            [
             1,
             "#f0f921"
            ]
           ]
          },
          "colorway": [
           "#636efa",
           "#EF553B",
           "#00cc96",
           "#ab63fa",
           "#FFA15A",
           "#19d3f3",
           "#FF6692",
           "#B6E880",
           "#FF97FF",
           "#FECB52"
          ],
          "font": {
           "color": "#2a3f5f"
          },
          "geo": {
           "bgcolor": "white",
           "lakecolor": "white",
           "landcolor": "#E5ECF6",
           "showlakes": true,
           "showland": true,
           "subunitcolor": "white"
          },
          "hoverlabel": {
           "align": "left"
          },
          "hovermode": "closest",
          "mapbox": {
           "style": "light"
          },
          "paper_bgcolor": "white",
          "plot_bgcolor": "#E5ECF6",
          "polar": {
           "angularaxis": {
            "gridcolor": "white",
            "linecolor": "white",
            "ticks": ""
           },
           "bgcolor": "#E5ECF6",
           "radialaxis": {
            "gridcolor": "white",
            "linecolor": "white",
            "ticks": ""
           }
          },
          "scene": {
           "xaxis": {
            "backgroundcolor": "#E5ECF6",
            "gridcolor": "white",
            "gridwidth": 2,
            "linecolor": "white",
            "showbackground": true,
            "ticks": "",
            "zerolinecolor": "white"
           },
           "yaxis": {
            "backgroundcolor": "#E5ECF6",
            "gridcolor": "white",
            "gridwidth": 2,
            "linecolor": "white",
            "showbackground": true,
            "ticks": "",
            "zerolinecolor": "white"
           },
           "zaxis": {
            "backgroundcolor": "#E5ECF6",
            "gridcolor": "white",
            "gridwidth": 2,
            "linecolor": "white",
            "showbackground": true,
            "ticks": "",
            "zerolinecolor": "white"
           }
          },
          "shapedefaults": {
           "line": {
            "color": "#2a3f5f"
           }
          },
          "ternary": {
           "aaxis": {
            "gridcolor": "white",
            "linecolor": "white",
            "ticks": ""
           },
           "baxis": {
            "gridcolor": "white",
            "linecolor": "white",
            "ticks": ""
           },
           "bgcolor": "#E5ECF6",
           "caxis": {
            "gridcolor": "white",
            "linecolor": "white",
            "ticks": ""
           }
          },
          "title": {
           "x": 0.05
          },
          "xaxis": {
           "automargin": true,
           "gridcolor": "white",
           "linecolor": "white",
           "ticks": "",
           "title": {
            "standoff": 15
           },
           "zerolinecolor": "white",
           "zerolinewidth": 2
          },
          "yaxis": {
           "automargin": true,
           "gridcolor": "white",
           "linecolor": "white",
           "ticks": "",
           "title": {
            "standoff": 15
           },
           "zerolinecolor": "white",
           "zerolinewidth": 2
          }
         }
        },
        "title": {
         "text": "Grafik 2.1 Jumlah pasien dengan kondisi diagnosis pada tiap Etnis",
         "x": 0.5
        },
        "xaxis": {
         "anchor": "y",
         "domain": [
          0,
          1
         ],
         "title": {
          "text": "Etnis"
         }
        },
        "yaxis": {
         "anchor": "x",
         "domain": [
          0,
          1
         ],
         "title": {
          "text": "Jumlah Pasien"
         }
        }
       }
      }
     },
     "metadata": {},
     "output_type": "display_data"
    },
    {
     "name": "stdout",
     "output_type": "stream",
     "text": [
      "Sebanyak 64.71% dari Pasien beretnis Afrika Amerika terkena Parkinson\n",
      "Sebanyak 62.94% dari Pasien beretnis Asian terkena Parkinson\n",
      "Sebanyak 61.42% dari Pasien beretnis Kaukasia terkena Parkinson\n",
      "Sebanyak 58.69% dari Pasien beretnis Lainnya terkena Parkinson\n"
     ]
    }
   ],
   "source": [
    "# Pembuatan dataframe khusus berisi jumlah pasien berdasarkan etnis\n",
    "df_analysis_2_1 = df_analysis.groupby(['Etnis label'])['Pasien ID'].count().reset_index()\n",
    "\n",
    "# Pembuatan grafik pie menggunakan variabel dataframe\n",
    "fig_2_0 = px.pie(df_analysis_2_1, \n",
    "             names='Etnis label', \n",
    "             values='Pasien ID', \n",
    "             title='Grafik 2.0 Persentase pasien pada tiap Etnis',\n",
    "             color='Etnis label',\n",
    "             )\n",
    "fig_2_0.update_layout(xaxis_title='Etnis',yaxis_title = 'Jumlah Pasien', title_x=0.5)\n",
    "fig_2_0.show()\n",
    "\n",
    "# Pembuatan dataframe khusus berisi jumlah pasien berdasarkan etnis dan diagnosis\n",
    "df_analysis_2_1 = df_analysis.groupby(['Etnis label', 'Diagnosis label'])['Pasien ID'].count().reset_index()\n",
    "\n",
    "# Pembuatan grafik batang menggunakan variabel dataframe\n",
    "fig_2_1 = px.bar(df_analysis_2_1, \n",
    "             x='Etnis label', \n",
    "             y='Pasien ID', \n",
    "             title='Grafik 2.1 Jumlah pasien dengan kondisi diagnosis pada tiap Etnis',\n",
    "             text_auto=True,\n",
    "             color='Diagnosis label',\n",
    "             labels={'Diagnosis label': 'Diagnosis Legend'}\n",
    "             )\n",
    "fig_2_1.update_layout(xaxis_title='Etnis',yaxis_title = 'Jumlah Pasien', title_x=0.5)\n",
    "fig_2_1.show()\n",
    "\n",
    "# Perhitungan persentase penyakit Parkinson untuk setiap etnis\n",
    "print(f\"Sebanyak {((df_analysis_2_1[(df_analysis_2_1['Diagnosis label'] == 'Positif Parkinson') & (df_analysis_2_1['Etnis label'] == 'Afrika Amerika')]['Pasien ID'][1])/df_analysis_2_1[df_analysis_2_1['Etnis label'] == 'Afrika Amerika']['Pasien ID'].sum())*100:.2f}% dari Pasien beretnis Afrika Amerika terkena Parkinson\")\n",
    "print(f\"Sebanyak {((df_analysis_2_1[(df_analysis_2_1['Diagnosis label'] == 'Positif Parkinson') & (df_analysis_2_1['Etnis label'] == 'Asian')]['Pasien ID'][3])/df_analysis_2_1[df_analysis_2_1['Etnis label'] == 'Asian']['Pasien ID'].sum())*100:.2f}% dari Pasien beretnis Asian terkena Parkinson\")\n",
    "print(f\"Sebanyak {((df_analysis_2_1[(df_analysis_2_1['Diagnosis label'] == 'Positif Parkinson') & (df_analysis_2_1['Etnis label'] == 'Kaukasia')]['Pasien ID'][5])/df_analysis_2_1[df_analysis_2_1['Etnis label'] == 'Kaukasia']['Pasien ID'].sum())*100:.2f}% dari Pasien beretnis Kaukasia terkena Parkinson\")\n",
    "print(f\"Sebanyak {((df_analysis_2_1[(df_analysis_2_1['Diagnosis label'] == 'Positif Parkinson') & (df_analysis_2_1['Etnis label'] == 'Lainnya')]['Pasien ID'][7])/df_analysis_2_1[df_analysis_2_1['Etnis label'] == 'Lainnya']['Pasien ID'].sum())*100:.2f}% dari Pasien beretnis Lainnya terkena Parkinson\")"
   ]
  },
  {
   "cell_type": "markdown",
   "metadata": {},
   "source": [
    "<div style='text-align: justify'>Berdasarkan informasi dari grafik di atas, terlihat bahwa secara jumlah etnis Kaukasia memiliki jumlah pasien paling banyak di Rumah Sakit A. Namun secara proporsional terlihat bahwa 64.71% pasien beretnis Afrika Amerika lebih banyak terkena penyakit Parkinson, sedangkan proporsional terkecil yakni 58% dari pasien beretnis lain yang terkena penyakit Parkinson. Kecenderungan proporsional ini terpisah oleh nilai rentang 58 sampai 64 persen, ketika melakukan perhitungan rata-rata keseluruhan maka akan mendapatkan 61% pasien lanjut usia yang berada di Rumah Sakit A mengalami penyakit Parkinson. </div><br>\n",
    "\n",
    "<div style='text-align: justify'>Etnis Kaukasia memiliki pasien yang paling banyak dapat dikarenakan kondisi lingkungan Rumah Sakit A yang dapat dikelilingi oleh masyarakat Kaukasia, maka dari itu sebagian besar pasien lanjut usia berasal dari masyarakat beretnis Kaukasia. Secara keseluruhan proporsional tidak terlihat perbedaan signifikan antara proporsional satu etnis dan etnis lain yang membuat suatu etnis dapat dikatakan lebih rentan terhadap penyakit Parkinson, namun untuk memastikan hal ini dibutuhkan analisa hubungan antarvariabel lebih lanjut.</div>"
   ]
  },
  {
   "cell_type": "markdown",
   "metadata": {},
   "source": [
    "### 3. Analisis Jenis Kelamin Pasien Lanjut Usia"
   ]
  },
  {
   "cell_type": "code",
   "execution_count": 17,
   "metadata": {},
   "outputs": [
    {
     "data": {
      "application/vnd.plotly.v1+json": {
       "config": {
        "plotlyServerURL": "https://plot.ly"
       },
       "data": [
        {
         "customdata": [
          [
           "Pria"
          ],
          [
           "Pria"
          ],
          [
           "Wanita"
          ],
          [
           "Wanita"
          ]
         ],
         "domain": {
          "x": [
           0,
           1
          ],
          "y": [
           0,
           1
          ]
         },
         "hovertemplate": "Gender label=%{customdata[0]}<br>Pasien ID=%{value}<extra></extra>",
         "labels": [
          "Pria",
          "Pria",
          "Wanita",
          "Wanita"
         ],
         "legendgroup": "",
         "marker": {
          "colors": [
           "#636efa",
           "#636efa",
           "#EF553B",
           "#EF553B"
          ]
         },
         "name": "",
         "showlegend": true,
         "type": "pie",
         "values": [
          415,
          653,
          386,
          651
         ]
        }
       ],
       "layout": {
        "legend": {
         "tracegroupgap": 0
        },
        "template": {
         "data": {
          "bar": [
           {
            "error_x": {
             "color": "#2a3f5f"
            },
            "error_y": {
             "color": "#2a3f5f"
            },
            "marker": {
             "line": {
              "color": "#E5ECF6",
              "width": 0.5
             },
             "pattern": {
              "fillmode": "overlay",
              "size": 10,
              "solidity": 0.2
             }
            },
            "type": "bar"
           }
          ],
          "barpolar": [
           {
            "marker": {
             "line": {
              "color": "#E5ECF6",
              "width": 0.5
             },
             "pattern": {
              "fillmode": "overlay",
              "size": 10,
              "solidity": 0.2
             }
            },
            "type": "barpolar"
           }
          ],
          "carpet": [
           {
            "aaxis": {
             "endlinecolor": "#2a3f5f",
             "gridcolor": "white",
             "linecolor": "white",
             "minorgridcolor": "white",
             "startlinecolor": "#2a3f5f"
            },
            "baxis": {
             "endlinecolor": "#2a3f5f",
             "gridcolor": "white",
             "linecolor": "white",
             "minorgridcolor": "white",
             "startlinecolor": "#2a3f5f"
            },
            "type": "carpet"
           }
          ],
          "choropleth": [
           {
            "colorbar": {
             "outlinewidth": 0,
             "ticks": ""
            },
            "type": "choropleth"
           }
          ],
          "contour": [
           {
            "colorbar": {
             "outlinewidth": 0,
             "ticks": ""
            },
            "colorscale": [
             [
              0,
              "#0d0887"
             ],
             [
              0.1111111111111111,
              "#46039f"
             ],
             [
              0.2222222222222222,
              "#7201a8"
             ],
             [
              0.3333333333333333,
              "#9c179e"
             ],
             [
              0.4444444444444444,
              "#bd3786"
             ],
             [
              0.5555555555555556,
              "#d8576b"
             ],
             [
              0.6666666666666666,
              "#ed7953"
             ],
             [
              0.7777777777777778,
              "#fb9f3a"
             ],
             [
              0.8888888888888888,
              "#fdca26"
             ],
             [
              1,
              "#f0f921"
             ]
            ],
            "type": "contour"
           }
          ],
          "contourcarpet": [
           {
            "colorbar": {
             "outlinewidth": 0,
             "ticks": ""
            },
            "type": "contourcarpet"
           }
          ],
          "heatmap": [
           {
            "colorbar": {
             "outlinewidth": 0,
             "ticks": ""
            },
            "colorscale": [
             [
              0,
              "#0d0887"
             ],
             [
              0.1111111111111111,
              "#46039f"
             ],
             [
              0.2222222222222222,
              "#7201a8"
             ],
             [
              0.3333333333333333,
              "#9c179e"
             ],
             [
              0.4444444444444444,
              "#bd3786"
             ],
             [
              0.5555555555555556,
              "#d8576b"
             ],
             [
              0.6666666666666666,
              "#ed7953"
             ],
             [
              0.7777777777777778,
              "#fb9f3a"
             ],
             [
              0.8888888888888888,
              "#fdca26"
             ],
             [
              1,
              "#f0f921"
             ]
            ],
            "type": "heatmap"
           }
          ],
          "heatmapgl": [
           {
            "colorbar": {
             "outlinewidth": 0,
             "ticks": ""
            },
            "colorscale": [
             [
              0,
              "#0d0887"
             ],
             [
              0.1111111111111111,
              "#46039f"
             ],
             [
              0.2222222222222222,
              "#7201a8"
             ],
             [
              0.3333333333333333,
              "#9c179e"
             ],
             [
              0.4444444444444444,
              "#bd3786"
             ],
             [
              0.5555555555555556,
              "#d8576b"
             ],
             [
              0.6666666666666666,
              "#ed7953"
             ],
             [
              0.7777777777777778,
              "#fb9f3a"
             ],
             [
              0.8888888888888888,
              "#fdca26"
             ],
             [
              1,
              "#f0f921"
             ]
            ],
            "type": "heatmapgl"
           }
          ],
          "histogram": [
           {
            "marker": {
             "pattern": {
              "fillmode": "overlay",
              "size": 10,
              "solidity": 0.2
             }
            },
            "type": "histogram"
           }
          ],
          "histogram2d": [
           {
            "colorbar": {
             "outlinewidth": 0,
             "ticks": ""
            },
            "colorscale": [
             [
              0,
              "#0d0887"
             ],
             [
              0.1111111111111111,
              "#46039f"
             ],
             [
              0.2222222222222222,
              "#7201a8"
             ],
             [
              0.3333333333333333,
              "#9c179e"
             ],
             [
              0.4444444444444444,
              "#bd3786"
             ],
             [
              0.5555555555555556,
              "#d8576b"
             ],
             [
              0.6666666666666666,
              "#ed7953"
             ],
             [
              0.7777777777777778,
              "#fb9f3a"
             ],
             [
              0.8888888888888888,
              "#fdca26"
             ],
             [
              1,
              "#f0f921"
             ]
            ],
            "type": "histogram2d"
           }
          ],
          "histogram2dcontour": [
           {
            "colorbar": {
             "outlinewidth": 0,
             "ticks": ""
            },
            "colorscale": [
             [
              0,
              "#0d0887"
             ],
             [
              0.1111111111111111,
              "#46039f"
             ],
             [
              0.2222222222222222,
              "#7201a8"
             ],
             [
              0.3333333333333333,
              "#9c179e"
             ],
             [
              0.4444444444444444,
              "#bd3786"
             ],
             [
              0.5555555555555556,
              "#d8576b"
             ],
             [
              0.6666666666666666,
              "#ed7953"
             ],
             [
              0.7777777777777778,
              "#fb9f3a"
             ],
             [
              0.8888888888888888,
              "#fdca26"
             ],
             [
              1,
              "#f0f921"
             ]
            ],
            "type": "histogram2dcontour"
           }
          ],
          "mesh3d": [
           {
            "colorbar": {
             "outlinewidth": 0,
             "ticks": ""
            },
            "type": "mesh3d"
           }
          ],
          "parcoords": [
           {
            "line": {
             "colorbar": {
              "outlinewidth": 0,
              "ticks": ""
             }
            },
            "type": "parcoords"
           }
          ],
          "pie": [
           {
            "automargin": true,
            "type": "pie"
           }
          ],
          "scatter": [
           {
            "fillpattern": {
             "fillmode": "overlay",
             "size": 10,
             "solidity": 0.2
            },
            "type": "scatter"
           }
          ],
          "scatter3d": [
           {
            "line": {
             "colorbar": {
              "outlinewidth": 0,
              "ticks": ""
             }
            },
            "marker": {
             "colorbar": {
              "outlinewidth": 0,
              "ticks": ""
             }
            },
            "type": "scatter3d"
           }
          ],
          "scattercarpet": [
           {
            "marker": {
             "colorbar": {
              "outlinewidth": 0,
              "ticks": ""
             }
            },
            "type": "scattercarpet"
           }
          ],
          "scattergeo": [
           {
            "marker": {
             "colorbar": {
              "outlinewidth": 0,
              "ticks": ""
             }
            },
            "type": "scattergeo"
           }
          ],
          "scattergl": [
           {
            "marker": {
             "colorbar": {
              "outlinewidth": 0,
              "ticks": ""
             }
            },
            "type": "scattergl"
           }
          ],
          "scattermapbox": [
           {
            "marker": {
             "colorbar": {
              "outlinewidth": 0,
              "ticks": ""
             }
            },
            "type": "scattermapbox"
           }
          ],
          "scatterpolar": [
           {
            "marker": {
             "colorbar": {
              "outlinewidth": 0,
              "ticks": ""
             }
            },
            "type": "scatterpolar"
           }
          ],
          "scatterpolargl": [
           {
            "marker": {
             "colorbar": {
              "outlinewidth": 0,
              "ticks": ""
             }
            },
            "type": "scatterpolargl"
           }
          ],
          "scatterternary": [
           {
            "marker": {
             "colorbar": {
              "outlinewidth": 0,
              "ticks": ""
             }
            },
            "type": "scatterternary"
           }
          ],
          "surface": [
           {
            "colorbar": {
             "outlinewidth": 0,
             "ticks": ""
            },
            "colorscale": [
             [
              0,
              "#0d0887"
             ],
             [
              0.1111111111111111,
              "#46039f"
             ],
             [
              0.2222222222222222,
              "#7201a8"
             ],
             [
              0.3333333333333333,
              "#9c179e"
             ],
             [
              0.4444444444444444,
              "#bd3786"
             ],
             [
              0.5555555555555556,
              "#d8576b"
             ],
             [
              0.6666666666666666,
              "#ed7953"
             ],
             [
              0.7777777777777778,
              "#fb9f3a"
             ],
             [
              0.8888888888888888,
              "#fdca26"
             ],
             [
              1,
              "#f0f921"
             ]
            ],
            "type": "surface"
           }
          ],
          "table": [
           {
            "cells": {
             "fill": {
              "color": "#EBF0F8"
             },
             "line": {
              "color": "white"
             }
            },
            "header": {
             "fill": {
              "color": "#C8D4E3"
             },
             "line": {
              "color": "white"
             }
            },
            "type": "table"
           }
          ]
         },
         "layout": {
          "annotationdefaults": {
           "arrowcolor": "#2a3f5f",
           "arrowhead": 0,
           "arrowwidth": 1
          },
          "autotypenumbers": "strict",
          "coloraxis": {
           "colorbar": {
            "outlinewidth": 0,
            "ticks": ""
           }
          },
          "colorscale": {
           "diverging": [
            [
             0,
             "#8e0152"
            ],
            [
             0.1,
             "#c51b7d"
            ],
            [
             0.2,
             "#de77ae"
            ],
            [
             0.3,
             "#f1b6da"
            ],
            [
             0.4,
             "#fde0ef"
            ],
            [
             0.5,
             "#f7f7f7"
            ],
            [
             0.6,
             "#e6f5d0"
            ],
            [
             0.7,
             "#b8e186"
            ],
            [
             0.8,
             "#7fbc41"
            ],
            [
             0.9,
             "#4d9221"
            ],
            [
             1,
             "#276419"
            ]
           ],
           "sequential": [
            [
             0,
             "#0d0887"
            ],
            [
             0.1111111111111111,
             "#46039f"
            ],
            [
             0.2222222222222222,
             "#7201a8"
            ],
            [
             0.3333333333333333,
             "#9c179e"
            ],
            [
             0.4444444444444444,
             "#bd3786"
            ],
            [
             0.5555555555555556,
             "#d8576b"
            ],
            [
             0.6666666666666666,
             "#ed7953"
            ],
            [
             0.7777777777777778,
             "#fb9f3a"
            ],
            [
             0.8888888888888888,
             "#fdca26"
            ],
            [
             1,
             "#f0f921"
            ]
           ],
           "sequentialminus": [
            [
             0,
             "#0d0887"
            ],
            [
             0.1111111111111111,
             "#46039f"
            ],
            [
             0.2222222222222222,
             "#7201a8"
            ],
            [
             0.3333333333333333,
             "#9c179e"
            ],
            [
             0.4444444444444444,
             "#bd3786"
            ],
            [
             0.5555555555555556,
             "#d8576b"
            ],
            [
             0.6666666666666666,
             "#ed7953"
            ],
            [
             0.7777777777777778,
             "#fb9f3a"
            ],
            [
             0.8888888888888888,
             "#fdca26"
            ],
            [
             1,
             "#f0f921"
            ]
           ]
          },
          "colorway": [
           "#636efa",
           "#EF553B",
           "#00cc96",
           "#ab63fa",
           "#FFA15A",
           "#19d3f3",
           "#FF6692",
           "#B6E880",
           "#FF97FF",
           "#FECB52"
          ],
          "font": {
           "color": "#2a3f5f"
          },
          "geo": {
           "bgcolor": "white",
           "lakecolor": "white",
           "landcolor": "#E5ECF6",
           "showlakes": true,
           "showland": true,
           "subunitcolor": "white"
          },
          "hoverlabel": {
           "align": "left"
          },
          "hovermode": "closest",
          "mapbox": {
           "style": "light"
          },
          "paper_bgcolor": "white",
          "plot_bgcolor": "#E5ECF6",
          "polar": {
           "angularaxis": {
            "gridcolor": "white",
            "linecolor": "white",
            "ticks": ""
           },
           "bgcolor": "#E5ECF6",
           "radialaxis": {
            "gridcolor": "white",
            "linecolor": "white",
            "ticks": ""
           }
          },
          "scene": {
           "xaxis": {
            "backgroundcolor": "#E5ECF6",
            "gridcolor": "white",
            "gridwidth": 2,
            "linecolor": "white",
            "showbackground": true,
            "ticks": "",
            "zerolinecolor": "white"
           },
           "yaxis": {
            "backgroundcolor": "#E5ECF6",
            "gridcolor": "white",
            "gridwidth": 2,
            "linecolor": "white",
            "showbackground": true,
            "ticks": "",
            "zerolinecolor": "white"
           },
           "zaxis": {
            "backgroundcolor": "#E5ECF6",
            "gridcolor": "white",
            "gridwidth": 2,
            "linecolor": "white",
            "showbackground": true,
            "ticks": "",
            "zerolinecolor": "white"
           }
          },
          "shapedefaults": {
           "line": {
            "color": "#2a3f5f"
           }
          },
          "ternary": {
           "aaxis": {
            "gridcolor": "white",
            "linecolor": "white",
            "ticks": ""
           },
           "baxis": {
            "gridcolor": "white",
            "linecolor": "white",
            "ticks": ""
           },
           "bgcolor": "#E5ECF6",
           "caxis": {
            "gridcolor": "white",
            "linecolor": "white",
            "ticks": ""
           }
          },
          "title": {
           "x": 0.05
          },
          "xaxis": {
           "automargin": true,
           "gridcolor": "white",
           "linecolor": "white",
           "ticks": "",
           "title": {
            "standoff": 15
           },
           "zerolinecolor": "white",
           "zerolinewidth": 2
          },
          "yaxis": {
           "automargin": true,
           "gridcolor": "white",
           "linecolor": "white",
           "ticks": "",
           "title": {
            "standoff": 15
           },
           "zerolinecolor": "white",
           "zerolinewidth": 2
          }
         }
        },
        "title": {
         "text": "Grafik 3.0 Persentase Jenis Kelamin pada Pasien Lanjut Usia",
         "x": 0.5
        }
       }
      }
     },
     "metadata": {},
     "output_type": "display_data"
    },
    {
     "data": {
      "application/vnd.plotly.v1+json": {
       "config": {
        "plotlyServerURL": "https://plot.ly"
       },
       "data": [
        {
         "alignmentgroup": "True",
         "hovertemplate": "Diagnosis Legend=Negatif Parkinson<br>Gender label=%{x}<br>Pasien ID=%{y}<extra></extra>",
         "legendgroup": "Negatif Parkinson",
         "marker": {
          "color": "#636efa",
          "pattern": {
           "shape": ""
          }
         },
         "name": "Negatif Parkinson",
         "offsetgroup": "Negatif Parkinson",
         "orientation": "v",
         "showlegend": true,
         "textposition": "auto",
         "texttemplate": "%{y}",
         "type": "bar",
         "x": [
          "Pria",
          "Wanita"
         ],
         "xaxis": "x",
         "y": [
          415,
          386
         ],
         "yaxis": "y"
        },
        {
         "alignmentgroup": "True",
         "hovertemplate": "Diagnosis Legend=Positif Parkinson<br>Gender label=%{x}<br>Pasien ID=%{y}<extra></extra>",
         "legendgroup": "Positif Parkinson",
         "marker": {
          "color": "#EF553B",
          "pattern": {
           "shape": ""
          }
         },
         "name": "Positif Parkinson",
         "offsetgroup": "Positif Parkinson",
         "orientation": "v",
         "showlegend": true,
         "textposition": "auto",
         "texttemplate": "%{y}",
         "type": "bar",
         "x": [
          "Pria",
          "Wanita"
         ],
         "xaxis": "x",
         "y": [
          653,
          651
         ],
         "yaxis": "y"
        }
       ],
       "layout": {
        "barmode": "relative",
        "legend": {
         "title": {
          "text": "Diagnosis Legend"
         },
         "tracegroupgap": 0
        },
        "template": {
         "data": {
          "bar": [
           {
            "error_x": {
             "color": "#2a3f5f"
            },
            "error_y": {
             "color": "#2a3f5f"
            },
            "marker": {
             "line": {
              "color": "#E5ECF6",
              "width": 0.5
             },
             "pattern": {
              "fillmode": "overlay",
              "size": 10,
              "solidity": 0.2
             }
            },
            "type": "bar"
           }
          ],
          "barpolar": [
           {
            "marker": {
             "line": {
              "color": "#E5ECF6",
              "width": 0.5
             },
             "pattern": {
              "fillmode": "overlay",
              "size": 10,
              "solidity": 0.2
             }
            },
            "type": "barpolar"
           }
          ],
          "carpet": [
           {
            "aaxis": {
             "endlinecolor": "#2a3f5f",
             "gridcolor": "white",
             "linecolor": "white",
             "minorgridcolor": "white",
             "startlinecolor": "#2a3f5f"
            },
            "baxis": {
             "endlinecolor": "#2a3f5f",
             "gridcolor": "white",
             "linecolor": "white",
             "minorgridcolor": "white",
             "startlinecolor": "#2a3f5f"
            },
            "type": "carpet"
           }
          ],
          "choropleth": [
           {
            "colorbar": {
             "outlinewidth": 0,
             "ticks": ""
            },
            "type": "choropleth"
           }
          ],
          "contour": [
           {
            "colorbar": {
             "outlinewidth": 0,
             "ticks": ""
            },
            "colorscale": [
             [
              0,
              "#0d0887"
             ],
             [
              0.1111111111111111,
              "#46039f"
             ],
             [
              0.2222222222222222,
              "#7201a8"
             ],
             [
              0.3333333333333333,
              "#9c179e"
             ],
             [
              0.4444444444444444,
              "#bd3786"
             ],
             [
              0.5555555555555556,
              "#d8576b"
             ],
             [
              0.6666666666666666,
              "#ed7953"
             ],
             [
              0.7777777777777778,
              "#fb9f3a"
             ],
             [
              0.8888888888888888,
              "#fdca26"
             ],
             [
              1,
              "#f0f921"
             ]
            ],
            "type": "contour"
           }
          ],
          "contourcarpet": [
           {
            "colorbar": {
             "outlinewidth": 0,
             "ticks": ""
            },
            "type": "contourcarpet"
           }
          ],
          "heatmap": [
           {
            "colorbar": {
             "outlinewidth": 0,
             "ticks": ""
            },
            "colorscale": [
             [
              0,
              "#0d0887"
             ],
             [
              0.1111111111111111,
              "#46039f"
             ],
             [
              0.2222222222222222,
              "#7201a8"
             ],
             [
              0.3333333333333333,
              "#9c179e"
             ],
             [
              0.4444444444444444,
              "#bd3786"
             ],
             [
              0.5555555555555556,
              "#d8576b"
             ],
             [
              0.6666666666666666,
              "#ed7953"
             ],
             [
              0.7777777777777778,
              "#fb9f3a"
             ],
             [
              0.8888888888888888,
              "#fdca26"
             ],
             [
              1,
              "#f0f921"
             ]
            ],
            "type": "heatmap"
           }
          ],
          "heatmapgl": [
           {
            "colorbar": {
             "outlinewidth": 0,
             "ticks": ""
            },
            "colorscale": [
             [
              0,
              "#0d0887"
             ],
             [
              0.1111111111111111,
              "#46039f"
             ],
             [
              0.2222222222222222,
              "#7201a8"
             ],
             [
              0.3333333333333333,
              "#9c179e"
             ],
             [
              0.4444444444444444,
              "#bd3786"
             ],
             [
              0.5555555555555556,
              "#d8576b"
             ],
             [
              0.6666666666666666,
              "#ed7953"
             ],
             [
              0.7777777777777778,
              "#fb9f3a"
             ],
             [
              0.8888888888888888,
              "#fdca26"
             ],
             [
              1,
              "#f0f921"
             ]
            ],
            "type": "heatmapgl"
           }
          ],
          "histogram": [
           {
            "marker": {
             "pattern": {
              "fillmode": "overlay",
              "size": 10,
              "solidity": 0.2
             }
            },
            "type": "histogram"
           }
          ],
          "histogram2d": [
           {
            "colorbar": {
             "outlinewidth": 0,
             "ticks": ""
            },
            "colorscale": [
             [
              0,
              "#0d0887"
             ],
             [
              0.1111111111111111,
              "#46039f"
             ],
             [
              0.2222222222222222,
              "#7201a8"
             ],
             [
              0.3333333333333333,
              "#9c179e"
             ],
             [
              0.4444444444444444,
              "#bd3786"
             ],
             [
              0.5555555555555556,
              "#d8576b"
             ],
             [
              0.6666666666666666,
              "#ed7953"
             ],
             [
              0.7777777777777778,
              "#fb9f3a"
             ],
             [
              0.8888888888888888,
              "#fdca26"
             ],
             [
              1,
              "#f0f921"
             ]
            ],
            "type": "histogram2d"
           }
          ],
          "histogram2dcontour": [
           {
            "colorbar": {
             "outlinewidth": 0,
             "ticks": ""
            },
            "colorscale": [
             [
              0,
              "#0d0887"
             ],
             [
              0.1111111111111111,
              "#46039f"
             ],
             [
              0.2222222222222222,
              "#7201a8"
             ],
             [
              0.3333333333333333,
              "#9c179e"
             ],
             [
              0.4444444444444444,
              "#bd3786"
             ],
             [
              0.5555555555555556,
              "#d8576b"
             ],
             [
              0.6666666666666666,
              "#ed7953"
             ],
             [
              0.7777777777777778,
              "#fb9f3a"
             ],
             [
              0.8888888888888888,
              "#fdca26"
             ],
             [
              1,
              "#f0f921"
             ]
            ],
            "type": "histogram2dcontour"
           }
          ],
          "mesh3d": [
           {
            "colorbar": {
             "outlinewidth": 0,
             "ticks": ""
            },
            "type": "mesh3d"
           }
          ],
          "parcoords": [
           {
            "line": {
             "colorbar": {
              "outlinewidth": 0,
              "ticks": ""
             }
            },
            "type": "parcoords"
           }
          ],
          "pie": [
           {
            "automargin": true,
            "type": "pie"
           }
          ],
          "scatter": [
           {
            "fillpattern": {
             "fillmode": "overlay",
             "size": 10,
             "solidity": 0.2
            },
            "type": "scatter"
           }
          ],
          "scatter3d": [
           {
            "line": {
             "colorbar": {
              "outlinewidth": 0,
              "ticks": ""
             }
            },
            "marker": {
             "colorbar": {
              "outlinewidth": 0,
              "ticks": ""
             }
            },
            "type": "scatter3d"
           }
          ],
          "scattercarpet": [
           {
            "marker": {
             "colorbar": {
              "outlinewidth": 0,
              "ticks": ""
             }
            },
            "type": "scattercarpet"
           }
          ],
          "scattergeo": [
           {
            "marker": {
             "colorbar": {
              "outlinewidth": 0,
              "ticks": ""
             }
            },
            "type": "scattergeo"
           }
          ],
          "scattergl": [
           {
            "marker": {
             "colorbar": {
              "outlinewidth": 0,
              "ticks": ""
             }
            },
            "type": "scattergl"
           }
          ],
          "scattermapbox": [
           {
            "marker": {
             "colorbar": {
              "outlinewidth": 0,
              "ticks": ""
             }
            },
            "type": "scattermapbox"
           }
          ],
          "scatterpolar": [
           {
            "marker": {
             "colorbar": {
              "outlinewidth": 0,
              "ticks": ""
             }
            },
            "type": "scatterpolar"
           }
          ],
          "scatterpolargl": [
           {
            "marker": {
             "colorbar": {
              "outlinewidth": 0,
              "ticks": ""
             }
            },
            "type": "scatterpolargl"
           }
          ],
          "scatterternary": [
           {
            "marker": {
             "colorbar": {
              "outlinewidth": 0,
              "ticks": ""
             }
            },
            "type": "scatterternary"
           }
          ],
          "surface": [
           {
            "colorbar": {
             "outlinewidth": 0,
             "ticks": ""
            },
            "colorscale": [
             [
              0,
              "#0d0887"
             ],
             [
              0.1111111111111111,
              "#46039f"
             ],
             [
              0.2222222222222222,
              "#7201a8"
             ],
             [
              0.3333333333333333,
              "#9c179e"
             ],
             [
              0.4444444444444444,
              "#bd3786"
             ],
             [
              0.5555555555555556,
              "#d8576b"
             ],
             [
              0.6666666666666666,
              "#ed7953"
             ],
             [
              0.7777777777777778,
              "#fb9f3a"
             ],
             [
              0.8888888888888888,
              "#fdca26"
             ],
             [
              1,
              "#f0f921"
             ]
            ],
            "type": "surface"
           }
          ],
          "table": [
           {
            "cells": {
             "fill": {
              "color": "#EBF0F8"
             },
             "line": {
              "color": "white"
             }
            },
            "header": {
             "fill": {
              "color": "#C8D4E3"
             },
             "line": {
              "color": "white"
             }
            },
            "type": "table"
           }
          ]
         },
         "layout": {
          "annotationdefaults": {
           "arrowcolor": "#2a3f5f",
           "arrowhead": 0,
           "arrowwidth": 1
          },
          "autotypenumbers": "strict",
          "coloraxis": {
           "colorbar": {
            "outlinewidth": 0,
            "ticks": ""
           }
          },
          "colorscale": {
           "diverging": [
            [
             0,
             "#8e0152"
            ],
            [
             0.1,
             "#c51b7d"
            ],
            [
             0.2,
             "#de77ae"
            ],
            [
             0.3,
             "#f1b6da"
            ],
            [
             0.4,
             "#fde0ef"
            ],
            [
             0.5,
             "#f7f7f7"
            ],
            [
             0.6,
             "#e6f5d0"
            ],
            [
             0.7,
             "#b8e186"
            ],
            [
             0.8,
             "#7fbc41"
            ],
            [
             0.9,
             "#4d9221"
            ],
            [
             1,
             "#276419"
            ]
           ],
           "sequential": [
            [
             0,
             "#0d0887"
            ],
            [
             0.1111111111111111,
             "#46039f"
            ],
            [
             0.2222222222222222,
             "#7201a8"
            ],
            [
             0.3333333333333333,
             "#9c179e"
            ],
            [
             0.4444444444444444,
             "#bd3786"
            ],
            [
             0.5555555555555556,
             "#d8576b"
            ],
            [
             0.6666666666666666,
             "#ed7953"
            ],
            [
             0.7777777777777778,
             "#fb9f3a"
            ],
            [
             0.8888888888888888,
             "#fdca26"
            ],
            [
             1,
             "#f0f921"
            ]
           ],
           "sequentialminus": [
            [
             0,
             "#0d0887"
            ],
            [
             0.1111111111111111,
             "#46039f"
            ],
            [
             0.2222222222222222,
             "#7201a8"
            ],
            [
             0.3333333333333333,
             "#9c179e"
            ],
            [
             0.4444444444444444,
             "#bd3786"
            ],
            [
             0.5555555555555556,
             "#d8576b"
            ],
            [
             0.6666666666666666,
             "#ed7953"
            ],
            [
             0.7777777777777778,
             "#fb9f3a"
            ],
            [
             0.8888888888888888,
             "#fdca26"
            ],
            [
             1,
             "#f0f921"
            ]
           ]
          },
          "colorway": [
           "#636efa",
           "#EF553B",
           "#00cc96",
           "#ab63fa",
           "#FFA15A",
           "#19d3f3",
           "#FF6692",
           "#B6E880",
           "#FF97FF",
           "#FECB52"
          ],
          "font": {
           "color": "#2a3f5f"
          },
          "geo": {
           "bgcolor": "white",
           "lakecolor": "white",
           "landcolor": "#E5ECF6",
           "showlakes": true,
           "showland": true,
           "subunitcolor": "white"
          },
          "hoverlabel": {
           "align": "left"
          },
          "hovermode": "closest",
          "mapbox": {
           "style": "light"
          },
          "paper_bgcolor": "white",
          "plot_bgcolor": "#E5ECF6",
          "polar": {
           "angularaxis": {
            "gridcolor": "white",
            "linecolor": "white",
            "ticks": ""
           },
           "bgcolor": "#E5ECF6",
           "radialaxis": {
            "gridcolor": "white",
            "linecolor": "white",
            "ticks": ""
           }
          },
          "scene": {
           "xaxis": {
            "backgroundcolor": "#E5ECF6",
            "gridcolor": "white",
            "gridwidth": 2,
            "linecolor": "white",
            "showbackground": true,
            "ticks": "",
            "zerolinecolor": "white"
           },
           "yaxis": {
            "backgroundcolor": "#E5ECF6",
            "gridcolor": "white",
            "gridwidth": 2,
            "linecolor": "white",
            "showbackground": true,
            "ticks": "",
            "zerolinecolor": "white"
           },
           "zaxis": {
            "backgroundcolor": "#E5ECF6",
            "gridcolor": "white",
            "gridwidth": 2,
            "linecolor": "white",
            "showbackground": true,
            "ticks": "",
            "zerolinecolor": "white"
           }
          },
          "shapedefaults": {
           "line": {
            "color": "#2a3f5f"
           }
          },
          "ternary": {
           "aaxis": {
            "gridcolor": "white",
            "linecolor": "white",
            "ticks": ""
           },
           "baxis": {
            "gridcolor": "white",
            "linecolor": "white",
            "ticks": ""
           },
           "bgcolor": "#E5ECF6",
           "caxis": {
            "gridcolor": "white",
            "linecolor": "white",
            "ticks": ""
           }
          },
          "title": {
           "x": 0.05
          },
          "xaxis": {
           "automargin": true,
           "gridcolor": "white",
           "linecolor": "white",
           "ticks": "",
           "title": {
            "standoff": 15
           },
           "zerolinecolor": "white",
           "zerolinewidth": 2
          },
          "yaxis": {
           "automargin": true,
           "gridcolor": "white",
           "linecolor": "white",
           "ticks": "",
           "title": {
            "standoff": 15
           },
           "zerolinecolor": "white",
           "zerolinewidth": 2
          }
         }
        },
        "title": {
         "text": "Grafik 3.1 Jumlah Pasien dengan Kondisi Parkinson tiap Jenis Kelamin",
         "x": 0.5
        },
        "xaxis": {
         "anchor": "y",
         "domain": [
          0,
          1
         ],
         "title": {
          "text": "Jenis Kelamin"
         }
        },
        "yaxis": {
         "anchor": "x",
         "domain": [
          0,
          1
         ],
         "title": {
          "text": "Jumlah Pasien"
         }
        }
       }
      }
     },
     "metadata": {},
     "output_type": "display_data"
    },
    {
     "name": "stdout",
     "output_type": "stream",
     "text": [
      "Sebanyak 61.14% dari Pasien berjenis kelamin Pria terkena Parkinson\n",
      "Sebanyak 62.78% dari Pasien berjenis kelamin wanita terkena Parkinson\n"
     ]
    }
   ],
   "source": [
    "# Pembuatan variabel dataframe untuk analisis perhitungan jumlah pasien berdasarkan jenis kelamin \n",
    "df_analysis_3_0 = df_analysis.groupby(['Gender label', 'Diagnosis label'])['Pasien ID'].count().reset_index()\n",
    "\n",
    "# Pembuatan grafik pie menggunakan variabel dataframe\n",
    "fig_3_0 = px.pie(df_analysis_3_0, \n",
    "             names='Gender label', \n",
    "             values='Pasien ID', \n",
    "             title='Grafik 3.0 Persentase Jenis Kelamin pada Pasien Lanjut Usia',\n",
    "             color='Gender label',\n",
    "             )\n",
    "fig_3_0.update_layout(title_x=0.5)\n",
    "fig_3_0.show()\n",
    "\n",
    "# Pembuatan grafik batang menggunakan variabel dataframe\n",
    "fig_3_1 = px.bar(df_analysis_3_0, \n",
    "             x='Gender label', \n",
    "             y='Pasien ID', \n",
    "             title='Grafik 3.1 Jumlah Pasien dengan Kondisi Parkinson tiap Jenis Kelamin',\n",
    "             text_auto=True,\n",
    "             color='Diagnosis label',\n",
    "             labels={'Diagnosis label': 'Diagnosis Legend'}\n",
    "             )\n",
    "fig_3_1.update_layout(xaxis_title='Jenis Kelamin',yaxis_title = 'Jumlah Pasien', title_x=0.5)\n",
    "fig_3_1.show()\n",
    "\n",
    "\n",
    "# Perhitungan persentase penyakit Parkinson untuk setiap jenis kelamin\n",
    "print(f\"Sebanyak {((df_analysis_3_0[(df_analysis_3_0['Diagnosis label'] == 'Positif Parkinson') & (df_analysis_3_0['Gender label'] == 'Pria')]['Pasien ID'][1])/df_analysis_3_0[df_analysis_3_0['Gender label'] == 'Pria']['Pasien ID'].sum())*100:.2f}% dari Pasien berjenis kelamin Pria terkena Parkinson\")\n",
    "print(f\"Sebanyak {((df_analysis_3_0[(df_analysis_3_0['Diagnosis label'] == 'Positif Parkinson') & (df_analysis_3_0['Gender label'] == 'Wanita')]['Pasien ID'][3])/df_analysis_3_0[df_analysis_3_0['Gender label'] == 'Wanita']['Pasien ID'].sum())*100:.2f}% dari Pasien berjenis kelamin wanita terkena Parkinson\")\n"
   ]
  },
  {
   "cell_type": "markdown",
   "metadata": {},
   "source": [
    "<div style='text-align: justify'>Berdasarkan informasi di atas, terlihat bahwa persentase jenis kelamin pada pasien lanjut usia cukup seimbang, persentase pasien lanjut usia berkelamin pria sebesar 50.7% sementara pasien wanita sebesar 49.3%. Maka dari itu penyebaran jenis kelamin dapat dikatakan cukup merata, pasien berjenis kelamin pria memiliki 31 lebih pasien dibandingkan dengan pasien berjenis kelamin wanita. <div><br>\n",
    "<div style='text-align: justify'>Berdasarkan diagnosis dari penyakit Parkinson, terlihat bahwa pasien berjenis kelamin pria dan wanita memiliki proporsional yang hampir sama yakni 61% dari pasien berjenis kelamin pria terkena penyakit Parkinson dan 62% dari pasien berjenis kelamin wanita terkena penyakit Parkinson. Walaupun jumlah pasien berjenis kelamin pria lebih banyak dibandingkan dengan pasien berjenis kelamin wanita, tapi secara proporsional lebih banyak pasien berjenis kelamin wanita yang terkena penyakit Parkinson dengan selisih sebanyak 1%.</div>"
   ]
  },
  {
   "cell_type": "markdown",
   "metadata": {},
   "source": [
    "#### 4. Analisis Rata-rata Konsumsi Alkohol dan Aktivitas Fisik"
   ]
  },
  {
   "cell_type": "code",
   "execution_count": 18,
   "metadata": {},
   "outputs": [
    {
     "data": {
      "application/vnd.plotly.v1+json": {
       "config": {
        "plotlyServerURL": "https://plot.ly"
       },
       "data": [
        {
         "alignmentgroup": "True",
         "bingroup": "x",
         "histfunc": "sum",
         "hovertemplate": "Diagnosis label=%{x}<br>sum of Konsumsi Alkohol per Minggu=%{y}<extra></extra>",
         "legendgroup": "Negatif Parkinson",
         "marker": {
          "color": "#636efa",
          "pattern": {
           "shape": ""
          }
         },
         "name": "Negatif Parkinson",
         "offsetgroup": "Negatif Parkinson",
         "orientation": "v",
         "showlegend": true,
         "texttemplate": "%{value}",
         "type": "histogram",
         "x": [
          "Negatif Parkinson"
         ],
         "xaxis": "x",
         "y": [
          9.77418350150869
         ],
         "yaxis": "y"
        },
        {
         "alignmentgroup": "True",
         "bingroup": "x",
         "histfunc": "sum",
         "hovertemplate": "Diagnosis label=%{x}<br>sum of Konsumsi Alkohol per Minggu=%{y}<extra></extra>",
         "legendgroup": "Positif Parkinson",
         "marker": {
          "color": "#EF553B",
          "pattern": {
           "shape": ""
          }
         },
         "name": "Positif Parkinson",
         "offsetgroup": "Positif Parkinson",
         "orientation": "v",
         "showlegend": true,
         "texttemplate": "%{value}",
         "type": "histogram",
         "x": [
          "Positif Parkinson"
         ],
         "xaxis": "x",
         "y": [
          10.20394819673476
         ],
         "yaxis": "y"
        }
       ],
       "layout": {
        "bargap": 0.2,
        "barmode": "relative",
        "legend": {
         "title": {
          "text": "Diagnosis label"
         },
         "tracegroupgap": 0
        },
        "template": {
         "data": {
          "bar": [
           {
            "error_x": {
             "color": "#2a3f5f"
            },
            "error_y": {
             "color": "#2a3f5f"
            },
            "marker": {
             "line": {
              "color": "#E5ECF6",
              "width": 0.5
             },
             "pattern": {
              "fillmode": "overlay",
              "size": 10,
              "solidity": 0.2
             }
            },
            "type": "bar"
           }
          ],
          "barpolar": [
           {
            "marker": {
             "line": {
              "color": "#E5ECF6",
              "width": 0.5
             },
             "pattern": {
              "fillmode": "overlay",
              "size": 10,
              "solidity": 0.2
             }
            },
            "type": "barpolar"
           }
          ],
          "carpet": [
           {
            "aaxis": {
             "endlinecolor": "#2a3f5f",
             "gridcolor": "white",
             "linecolor": "white",
             "minorgridcolor": "white",
             "startlinecolor": "#2a3f5f"
            },
            "baxis": {
             "endlinecolor": "#2a3f5f",
             "gridcolor": "white",
             "linecolor": "white",
             "minorgridcolor": "white",
             "startlinecolor": "#2a3f5f"
            },
            "type": "carpet"
           }
          ],
          "choropleth": [
           {
            "colorbar": {
             "outlinewidth": 0,
             "ticks": ""
            },
            "type": "choropleth"
           }
          ],
          "contour": [
           {
            "colorbar": {
             "outlinewidth": 0,
             "ticks": ""
            },
            "colorscale": [
             [
              0,
              "#0d0887"
             ],
             [
              0.1111111111111111,
              "#46039f"
             ],
             [
              0.2222222222222222,
              "#7201a8"
             ],
             [
              0.3333333333333333,
              "#9c179e"
             ],
             [
              0.4444444444444444,
              "#bd3786"
             ],
             [
              0.5555555555555556,
              "#d8576b"
             ],
             [
              0.6666666666666666,
              "#ed7953"
             ],
             [
              0.7777777777777778,
              "#fb9f3a"
             ],
             [
              0.8888888888888888,
              "#fdca26"
             ],
             [
              1,
              "#f0f921"
             ]
            ],
            "type": "contour"
           }
          ],
          "contourcarpet": [
           {
            "colorbar": {
             "outlinewidth": 0,
             "ticks": ""
            },
            "type": "contourcarpet"
           }
          ],
          "heatmap": [
           {
            "colorbar": {
             "outlinewidth": 0,
             "ticks": ""
            },
            "colorscale": [
             [
              0,
              "#0d0887"
             ],
             [
              0.1111111111111111,
              "#46039f"
             ],
             [
              0.2222222222222222,
              "#7201a8"
             ],
             [
              0.3333333333333333,
              "#9c179e"
             ],
             [
              0.4444444444444444,
              "#bd3786"
             ],
             [
              0.5555555555555556,
              "#d8576b"
             ],
             [
              0.6666666666666666,
              "#ed7953"
             ],
             [
              0.7777777777777778,
              "#fb9f3a"
             ],
             [
              0.8888888888888888,
              "#fdca26"
             ],
             [
              1,
              "#f0f921"
             ]
            ],
            "type": "heatmap"
           }
          ],
          "heatmapgl": [
           {
            "colorbar": {
             "outlinewidth": 0,
             "ticks": ""
            },
            "colorscale": [
             [
              0,
              "#0d0887"
             ],
             [
              0.1111111111111111,
              "#46039f"
             ],
             [
              0.2222222222222222,
              "#7201a8"
             ],
             [
              0.3333333333333333,
              "#9c179e"
             ],
             [
              0.4444444444444444,
              "#bd3786"
             ],
             [
              0.5555555555555556,
              "#d8576b"
             ],
             [
              0.6666666666666666,
              "#ed7953"
             ],
             [
              0.7777777777777778,
              "#fb9f3a"
             ],
             [
              0.8888888888888888,
              "#fdca26"
             ],
             [
              1,
              "#f0f921"
             ]
            ],
            "type": "heatmapgl"
           }
          ],
          "histogram": [
           {
            "marker": {
             "pattern": {
              "fillmode": "overlay",
              "size": 10,
              "solidity": 0.2
             }
            },
            "type": "histogram"
           }
          ],
          "histogram2d": [
           {
            "colorbar": {
             "outlinewidth": 0,
             "ticks": ""
            },
            "colorscale": [
             [
              0,
              "#0d0887"
             ],
             [
              0.1111111111111111,
              "#46039f"
             ],
             [
              0.2222222222222222,
              "#7201a8"
             ],
             [
              0.3333333333333333,
              "#9c179e"
             ],
             [
              0.4444444444444444,
              "#bd3786"
             ],
             [
              0.5555555555555556,
              "#d8576b"
             ],
             [
              0.6666666666666666,
              "#ed7953"
             ],
             [
              0.7777777777777778,
              "#fb9f3a"
             ],
             [
              0.8888888888888888,
              "#fdca26"
             ],
             [
              1,
              "#f0f921"
             ]
            ],
            "type": "histogram2d"
           }
          ],
          "histogram2dcontour": [
           {
            "colorbar": {
             "outlinewidth": 0,
             "ticks": ""
            },
            "colorscale": [
             [
              0,
              "#0d0887"
             ],
             [
              0.1111111111111111,
              "#46039f"
             ],
             [
              0.2222222222222222,
              "#7201a8"
             ],
             [
              0.3333333333333333,
              "#9c179e"
             ],
             [
              0.4444444444444444,
              "#bd3786"
             ],
             [
              0.5555555555555556,
              "#d8576b"
             ],
             [
              0.6666666666666666,
              "#ed7953"
             ],
             [
              0.7777777777777778,
              "#fb9f3a"
             ],
             [
              0.8888888888888888,
              "#fdca26"
             ],
             [
              1,
              "#f0f921"
             ]
            ],
            "type": "histogram2dcontour"
           }
          ],
          "mesh3d": [
           {
            "colorbar": {
             "outlinewidth": 0,
             "ticks": ""
            },
            "type": "mesh3d"
           }
          ],
          "parcoords": [
           {
            "line": {
             "colorbar": {
              "outlinewidth": 0,
              "ticks": ""
             }
            },
            "type": "parcoords"
           }
          ],
          "pie": [
           {
            "automargin": true,
            "type": "pie"
           }
          ],
          "scatter": [
           {
            "fillpattern": {
             "fillmode": "overlay",
             "size": 10,
             "solidity": 0.2
            },
            "type": "scatter"
           }
          ],
          "scatter3d": [
           {
            "line": {
             "colorbar": {
              "outlinewidth": 0,
              "ticks": ""
             }
            },
            "marker": {
             "colorbar": {
              "outlinewidth": 0,
              "ticks": ""
             }
            },
            "type": "scatter3d"
           }
          ],
          "scattercarpet": [
           {
            "marker": {
             "colorbar": {
              "outlinewidth": 0,
              "ticks": ""
             }
            },
            "type": "scattercarpet"
           }
          ],
          "scattergeo": [
           {
            "marker": {
             "colorbar": {
              "outlinewidth": 0,
              "ticks": ""
             }
            },
            "type": "scattergeo"
           }
          ],
          "scattergl": [
           {
            "marker": {
             "colorbar": {
              "outlinewidth": 0,
              "ticks": ""
             }
            },
            "type": "scattergl"
           }
          ],
          "scattermapbox": [
           {
            "marker": {
             "colorbar": {
              "outlinewidth": 0,
              "ticks": ""
             }
            },
            "type": "scattermapbox"
           }
          ],
          "scatterpolar": [
           {
            "marker": {
             "colorbar": {
              "outlinewidth": 0,
              "ticks": ""
             }
            },
            "type": "scatterpolar"
           }
          ],
          "scatterpolargl": [
           {
            "marker": {
             "colorbar": {
              "outlinewidth": 0,
              "ticks": ""
             }
            },
            "type": "scatterpolargl"
           }
          ],
          "scatterternary": [
           {
            "marker": {
             "colorbar": {
              "outlinewidth": 0,
              "ticks": ""
             }
            },
            "type": "scatterternary"
           }
          ],
          "surface": [
           {
            "colorbar": {
             "outlinewidth": 0,
             "ticks": ""
            },
            "colorscale": [
             [
              0,
              "#0d0887"
             ],
             [
              0.1111111111111111,
              "#46039f"
             ],
             [
              0.2222222222222222,
              "#7201a8"
             ],
             [
              0.3333333333333333,
              "#9c179e"
             ],
             [
              0.4444444444444444,
              "#bd3786"
             ],
             [
              0.5555555555555556,
              "#d8576b"
             ],
             [
              0.6666666666666666,
              "#ed7953"
             ],
             [
              0.7777777777777778,
              "#fb9f3a"
             ],
             [
              0.8888888888888888,
              "#fdca26"
             ],
             [
              1,
              "#f0f921"
             ]
            ],
            "type": "surface"
           }
          ],
          "table": [
           {
            "cells": {
             "fill": {
              "color": "#EBF0F8"
             },
             "line": {
              "color": "white"
             }
            },
            "header": {
             "fill": {
              "color": "#C8D4E3"
             },
             "line": {
              "color": "white"
             }
            },
            "type": "table"
           }
          ]
         },
         "layout": {
          "annotationdefaults": {
           "arrowcolor": "#2a3f5f",
           "arrowhead": 0,
           "arrowwidth": 1
          },
          "autotypenumbers": "strict",
          "coloraxis": {
           "colorbar": {
            "outlinewidth": 0,
            "ticks": ""
           }
          },
          "colorscale": {
           "diverging": [
            [
             0,
             "#8e0152"
            ],
            [
             0.1,
             "#c51b7d"
            ],
            [
             0.2,
             "#de77ae"
            ],
            [
             0.3,
             "#f1b6da"
            ],
            [
             0.4,
             "#fde0ef"
            ],
            [
             0.5,
             "#f7f7f7"
            ],
            [
             0.6,
             "#e6f5d0"
            ],
            [
             0.7,
             "#b8e186"
            ],
            [
             0.8,
             "#7fbc41"
            ],
            [
             0.9,
             "#4d9221"
            ],
            [
             1,
             "#276419"
            ]
           ],
           "sequential": [
            [
             0,
             "#0d0887"
            ],
            [
             0.1111111111111111,
             "#46039f"
            ],
            [
             0.2222222222222222,
             "#7201a8"
            ],
            [
             0.3333333333333333,
             "#9c179e"
            ],
            [
             0.4444444444444444,
             "#bd3786"
            ],
            [
             0.5555555555555556,
             "#d8576b"
            ],
            [
             0.6666666666666666,
             "#ed7953"
            ],
            [
             0.7777777777777778,
             "#fb9f3a"
            ],
            [
             0.8888888888888888,
             "#fdca26"
            ],
            [
             1,
             "#f0f921"
            ]
           ],
           "sequentialminus": [
            [
             0,
             "#0d0887"
            ],
            [
             0.1111111111111111,
             "#46039f"
            ],
            [
             0.2222222222222222,
             "#7201a8"
            ],
            [
             0.3333333333333333,
             "#9c179e"
            ],
            [
             0.4444444444444444,
             "#bd3786"
            ],
            [
             0.5555555555555556,
             "#d8576b"
            ],
            [
             0.6666666666666666,
             "#ed7953"
            ],
            [
             0.7777777777777778,
             "#fb9f3a"
            ],
            [
             0.8888888888888888,
             "#fdca26"
            ],
            [
             1,
             "#f0f921"
            ]
           ]
          },
          "colorway": [
           "#636efa",
           "#EF553B",
           "#00cc96",
           "#ab63fa",
           "#FFA15A",
           "#19d3f3",
           "#FF6692",
           "#B6E880",
           "#FF97FF",
           "#FECB52"
          ],
          "font": {
           "color": "#2a3f5f"
          },
          "geo": {
           "bgcolor": "white",
           "lakecolor": "white",
           "landcolor": "#E5ECF6",
           "showlakes": true,
           "showland": true,
           "subunitcolor": "white"
          },
          "hoverlabel": {
           "align": "left"
          },
          "hovermode": "closest",
          "mapbox": {
           "style": "light"
          },
          "paper_bgcolor": "white",
          "plot_bgcolor": "#E5ECF6",
          "polar": {
           "angularaxis": {
            "gridcolor": "white",
            "linecolor": "white",
            "ticks": ""
           },
           "bgcolor": "#E5ECF6",
           "radialaxis": {
            "gridcolor": "white",
            "linecolor": "white",
            "ticks": ""
           }
          },
          "scene": {
           "xaxis": {
            "backgroundcolor": "#E5ECF6",
            "gridcolor": "white",
            "gridwidth": 2,
            "linecolor": "white",
            "showbackground": true,
            "ticks": "",
            "zerolinecolor": "white"
           },
           "yaxis": {
            "backgroundcolor": "#E5ECF6",
            "gridcolor": "white",
            "gridwidth": 2,
            "linecolor": "white",
            "showbackground": true,
            "ticks": "",
            "zerolinecolor": "white"
           },
           "zaxis": {
            "backgroundcolor": "#E5ECF6",
            "gridcolor": "white",
            "gridwidth": 2,
            "linecolor": "white",
            "showbackground": true,
            "ticks": "",
            "zerolinecolor": "white"
           }
          },
          "shapedefaults": {
           "line": {
            "color": "#2a3f5f"
           }
          },
          "ternary": {
           "aaxis": {
            "gridcolor": "white",
            "linecolor": "white",
            "ticks": ""
           },
           "baxis": {
            "gridcolor": "white",
            "linecolor": "white",
            "ticks": ""
           },
           "bgcolor": "#E5ECF6",
           "caxis": {
            "gridcolor": "white",
            "linecolor": "white",
            "ticks": ""
           }
          },
          "title": {
           "x": 0.05
          },
          "xaxis": {
           "automargin": true,
           "gridcolor": "white",
           "linecolor": "white",
           "ticks": "",
           "title": {
            "standoff": 15
           },
           "zerolinecolor": "white",
           "zerolinewidth": 2
          },
          "yaxis": {
           "automargin": true,
           "gridcolor": "white",
           "linecolor": "white",
           "ticks": "",
           "title": {
            "standoff": 15
           },
           "zerolinecolor": "white",
           "zerolinewidth": 2
          }
         }
        },
        "title": {
         "text": "Grafik 4.0 Rata-rata Konsumsi Alkohol Berdasarkan Diagnosa",
         "x": 0.5
        },
        "xaxis": {
         "anchor": "y",
         "categoryarray": [
          "Negatif Parkinson",
          "Positif Parkinson"
         ],
         "categoryorder": "array",
         "domain": [
          0,
          1
         ],
         "title": {
          "text": "Diagnosis"
         }
        },
        "yaxis": {
         "anchor": "x",
         "domain": [
          0,
          1
         ],
         "title": {
          "text": "Rata-rata Konsumsi Alkohol"
         }
        }
       }
      }
     },
     "metadata": {},
     "output_type": "display_data"
    },
    {
     "data": {
      "application/vnd.plotly.v1+json": {
       "config": {
        "plotlyServerURL": "https://plot.ly"
       },
       "data": [
        {
         "alignmentgroup": "True",
         "bingroup": "x",
         "histfunc": "sum",
         "hovertemplate": "Diagnosis label=%{x}<br>sum of Jam Aktivitas Fisik per Minggu=%{y}<extra></extra>",
         "legendgroup": "Negatif Parkinson",
         "marker": {
          "color": "#636efa",
          "pattern": {
           "shape": ""
          }
         },
         "name": "Negatif Parkinson",
         "offsetgroup": "Negatif Parkinson",
         "orientation": "v",
         "showlegend": true,
         "texttemplate": "%{value}",
         "type": "histogram",
         "x": [
          "Negatif Parkinson"
         ],
         "xaxis": "x",
         "y": [
          4.968954478498639
         ],
         "yaxis": "y"
        },
        {
         "alignmentgroup": "True",
         "bingroup": "x",
         "histfunc": "sum",
         "hovertemplate": "Diagnosis label=%{x}<br>sum of Jam Aktivitas Fisik per Minggu=%{y}<extra></extra>",
         "legendgroup": "Positif Parkinson",
         "marker": {
          "color": "#EF553B",
          "pattern": {
           "shape": ""
          }
         },
         "name": "Positif Parkinson",
         "offsetgroup": "Positif Parkinson",
         "orientation": "v",
         "showlegend": true,
         "texttemplate": "%{value}",
         "type": "histogram",
         "x": [
          "Positif Parkinson"
         ],
         "xaxis": "x",
         "y": [
          5.045987097941211
         ],
         "yaxis": "y"
        }
       ],
       "layout": {
        "bargap": 0.2,
        "barmode": "relative",
        "legend": {
         "title": {
          "text": "Diagnosis label"
         },
         "tracegroupgap": 0
        },
        "template": {
         "data": {
          "bar": [
           {
            "error_x": {
             "color": "#2a3f5f"
            },
            "error_y": {
             "color": "#2a3f5f"
            },
            "marker": {
             "line": {
              "color": "#E5ECF6",
              "width": 0.5
             },
             "pattern": {
              "fillmode": "overlay",
              "size": 10,
              "solidity": 0.2
             }
            },
            "type": "bar"
           }
          ],
          "barpolar": [
           {
            "marker": {
             "line": {
              "color": "#E5ECF6",
              "width": 0.5
             },
             "pattern": {
              "fillmode": "overlay",
              "size": 10,
              "solidity": 0.2
             }
            },
            "type": "barpolar"
           }
          ],
          "carpet": [
           {
            "aaxis": {
             "endlinecolor": "#2a3f5f",
             "gridcolor": "white",
             "linecolor": "white",
             "minorgridcolor": "white",
             "startlinecolor": "#2a3f5f"
            },
            "baxis": {
             "endlinecolor": "#2a3f5f",
             "gridcolor": "white",
             "linecolor": "white",
             "minorgridcolor": "white",
             "startlinecolor": "#2a3f5f"
            },
            "type": "carpet"
           }
          ],
          "choropleth": [
           {
            "colorbar": {
             "outlinewidth": 0,
             "ticks": ""
            },
            "type": "choropleth"
           }
          ],
          "contour": [
           {
            "colorbar": {
             "outlinewidth": 0,
             "ticks": ""
            },
            "colorscale": [
             [
              0,
              "#0d0887"
             ],
             [
              0.1111111111111111,
              "#46039f"
             ],
             [
              0.2222222222222222,
              "#7201a8"
             ],
             [
              0.3333333333333333,
              "#9c179e"
             ],
             [
              0.4444444444444444,
              "#bd3786"
             ],
             [
              0.5555555555555556,
              "#d8576b"
             ],
             [
              0.6666666666666666,
              "#ed7953"
             ],
             [
              0.7777777777777778,
              "#fb9f3a"
             ],
             [
              0.8888888888888888,
              "#fdca26"
             ],
             [
              1,
              "#f0f921"
             ]
            ],
            "type": "contour"
           }
          ],
          "contourcarpet": [
           {
            "colorbar": {
             "outlinewidth": 0,
             "ticks": ""
            },
            "type": "contourcarpet"
           }
          ],
          "heatmap": [
           {
            "colorbar": {
             "outlinewidth": 0,
             "ticks": ""
            },
            "colorscale": [
             [
              0,
              "#0d0887"
             ],
             [
              0.1111111111111111,
              "#46039f"
             ],
             [
              0.2222222222222222,
              "#7201a8"
             ],
             [
              0.3333333333333333,
              "#9c179e"
             ],
             [
              0.4444444444444444,
              "#bd3786"
             ],
             [
              0.5555555555555556,
              "#d8576b"
             ],
             [
              0.6666666666666666,
              "#ed7953"
             ],
             [
              0.7777777777777778,
              "#fb9f3a"
             ],
             [
              0.8888888888888888,
              "#fdca26"
             ],
             [
              1,
              "#f0f921"
             ]
            ],
            "type": "heatmap"
           }
          ],
          "heatmapgl": [
           {
            "colorbar": {
             "outlinewidth": 0,
             "ticks": ""
            },
            "colorscale": [
             [
              0,
              "#0d0887"
             ],
             [
              0.1111111111111111,
              "#46039f"
             ],
             [
              0.2222222222222222,
              "#7201a8"
             ],
             [
              0.3333333333333333,
              "#9c179e"
             ],
             [
              0.4444444444444444,
              "#bd3786"
             ],
             [
              0.5555555555555556,
              "#d8576b"
             ],
             [
              0.6666666666666666,
              "#ed7953"
             ],
             [
              0.7777777777777778,
              "#fb9f3a"
             ],
             [
              0.8888888888888888,
              "#fdca26"
             ],
             [
              1,
              "#f0f921"
             ]
            ],
            "type": "heatmapgl"
           }
          ],
          "histogram": [
           {
            "marker": {
             "pattern": {
              "fillmode": "overlay",
              "size": 10,
              "solidity": 0.2
             }
            },
            "type": "histogram"
           }
          ],
          "histogram2d": [
           {
            "colorbar": {
             "outlinewidth": 0,
             "ticks": ""
            },
            "colorscale": [
             [
              0,
              "#0d0887"
             ],
             [
              0.1111111111111111,
              "#46039f"
             ],
             [
              0.2222222222222222,
              "#7201a8"
             ],
             [
              0.3333333333333333,
              "#9c179e"
             ],
             [
              0.4444444444444444,
              "#bd3786"
             ],
             [
              0.5555555555555556,
              "#d8576b"
             ],
             [
              0.6666666666666666,
              "#ed7953"
             ],
             [
              0.7777777777777778,
              "#fb9f3a"
             ],
             [
              0.8888888888888888,
              "#fdca26"
             ],
             [
              1,
              "#f0f921"
             ]
            ],
            "type": "histogram2d"
           }
          ],
          "histogram2dcontour": [
           {
            "colorbar": {
             "outlinewidth": 0,
             "ticks": ""
            },
            "colorscale": [
             [
              0,
              "#0d0887"
             ],
             [
              0.1111111111111111,
              "#46039f"
             ],
             [
              0.2222222222222222,
              "#7201a8"
             ],
             [
              0.3333333333333333,
              "#9c179e"
             ],
             [
              0.4444444444444444,
              "#bd3786"
             ],
             [
              0.5555555555555556,
              "#d8576b"
             ],
             [
              0.6666666666666666,
              "#ed7953"
             ],
             [
              0.7777777777777778,
              "#fb9f3a"
             ],
             [
              0.8888888888888888,
              "#fdca26"
             ],
             [
              1,
              "#f0f921"
             ]
            ],
            "type": "histogram2dcontour"
           }
          ],
          "mesh3d": [
           {
            "colorbar": {
             "outlinewidth": 0,
             "ticks": ""
            },
            "type": "mesh3d"
           }
          ],
          "parcoords": [
           {
            "line": {
             "colorbar": {
              "outlinewidth": 0,
              "ticks": ""
             }
            },
            "type": "parcoords"
           }
          ],
          "pie": [
           {
            "automargin": true,
            "type": "pie"
           }
          ],
          "scatter": [
           {
            "fillpattern": {
             "fillmode": "overlay",
             "size": 10,
             "solidity": 0.2
            },
            "type": "scatter"
           }
          ],
          "scatter3d": [
           {
            "line": {
             "colorbar": {
              "outlinewidth": 0,
              "ticks": ""
             }
            },
            "marker": {
             "colorbar": {
              "outlinewidth": 0,
              "ticks": ""
             }
            },
            "type": "scatter3d"
           }
          ],
          "scattercarpet": [
           {
            "marker": {
             "colorbar": {
              "outlinewidth": 0,
              "ticks": ""
             }
            },
            "type": "scattercarpet"
           }
          ],
          "scattergeo": [
           {
            "marker": {
             "colorbar": {
              "outlinewidth": 0,
              "ticks": ""
             }
            },
            "type": "scattergeo"
           }
          ],
          "scattergl": [
           {
            "marker": {
             "colorbar": {
              "outlinewidth": 0,
              "ticks": ""
             }
            },
            "type": "scattergl"
           }
          ],
          "scattermapbox": [
           {
            "marker": {
             "colorbar": {
              "outlinewidth": 0,
              "ticks": ""
             }
            },
            "type": "scattermapbox"
           }
          ],
          "scatterpolar": [
           {
            "marker": {
             "colorbar": {
              "outlinewidth": 0,
              "ticks": ""
             }
            },
            "type": "scatterpolar"
           }
          ],
          "scatterpolargl": [
           {
            "marker": {
             "colorbar": {
              "outlinewidth": 0,
              "ticks": ""
             }
            },
            "type": "scatterpolargl"
           }
          ],
          "scatterternary": [
           {
            "marker": {
             "colorbar": {
              "outlinewidth": 0,
              "ticks": ""
             }
            },
            "type": "scatterternary"
           }
          ],
          "surface": [
           {
            "colorbar": {
             "outlinewidth": 0,
             "ticks": ""
            },
            "colorscale": [
             [
              0,
              "#0d0887"
             ],
             [
              0.1111111111111111,
              "#46039f"
             ],
             [
              0.2222222222222222,
              "#7201a8"
             ],
             [
              0.3333333333333333,
              "#9c179e"
             ],
             [
              0.4444444444444444,
              "#bd3786"
             ],
             [
              0.5555555555555556,
              "#d8576b"
             ],
             [
              0.6666666666666666,
              "#ed7953"
             ],
             [
              0.7777777777777778,
              "#fb9f3a"
             ],
             [
              0.8888888888888888,
              "#fdca26"
             ],
             [
              1,
              "#f0f921"
             ]
            ],
            "type": "surface"
           }
          ],
          "table": [
           {
            "cells": {
             "fill": {
              "color": "#EBF0F8"
             },
             "line": {
              "color": "white"
             }
            },
            "header": {
             "fill": {
              "color": "#C8D4E3"
             },
             "line": {
              "color": "white"
             }
            },
            "type": "table"
           }
          ]
         },
         "layout": {
          "annotationdefaults": {
           "arrowcolor": "#2a3f5f",
           "arrowhead": 0,
           "arrowwidth": 1
          },
          "autotypenumbers": "strict",
          "coloraxis": {
           "colorbar": {
            "outlinewidth": 0,
            "ticks": ""
           }
          },
          "colorscale": {
           "diverging": [
            [
             0,
             "#8e0152"
            ],
            [
             0.1,
             "#c51b7d"
            ],
            [
             0.2,
             "#de77ae"
            ],
            [
             0.3,
             "#f1b6da"
            ],
            [
             0.4,
             "#fde0ef"
            ],
            [
             0.5,
             "#f7f7f7"
            ],
            [
             0.6,
             "#e6f5d0"
            ],
            [
             0.7,
             "#b8e186"
            ],
            [
             0.8,
             "#7fbc41"
            ],
            [
             0.9,
             "#4d9221"
            ],
            [
             1,
             "#276419"
            ]
           ],
           "sequential": [
            [
             0,
             "#0d0887"
            ],
            [
             0.1111111111111111,
             "#46039f"
            ],
            [
             0.2222222222222222,
             "#7201a8"
            ],
            [
             0.3333333333333333,
             "#9c179e"
            ],
            [
             0.4444444444444444,
             "#bd3786"
            ],
            [
             0.5555555555555556,
             "#d8576b"
            ],
            [
             0.6666666666666666,
             "#ed7953"
            ],
            [
             0.7777777777777778,
             "#fb9f3a"
            ],
            [
             0.8888888888888888,
             "#fdca26"
            ],
            [
             1,
             "#f0f921"
            ]
           ],
           "sequentialminus": [
            [
             0,
             "#0d0887"
            ],
            [
             0.1111111111111111,
             "#46039f"
            ],
            [
             0.2222222222222222,
             "#7201a8"
            ],
            [
             0.3333333333333333,
             "#9c179e"
            ],
            [
             0.4444444444444444,
             "#bd3786"
            ],
            [
             0.5555555555555556,
             "#d8576b"
            ],
            [
             0.6666666666666666,
             "#ed7953"
            ],
            [
             0.7777777777777778,
             "#fb9f3a"
            ],
            [
             0.8888888888888888,
             "#fdca26"
            ],
            [
             1,
             "#f0f921"
            ]
           ]
          },
          "colorway": [
           "#636efa",
           "#EF553B",
           "#00cc96",
           "#ab63fa",
           "#FFA15A",
           "#19d3f3",
           "#FF6692",
           "#B6E880",
           "#FF97FF",
           "#FECB52"
          ],
          "font": {
           "color": "#2a3f5f"
          },
          "geo": {
           "bgcolor": "white",
           "lakecolor": "white",
           "landcolor": "#E5ECF6",
           "showlakes": true,
           "showland": true,
           "subunitcolor": "white"
          },
          "hoverlabel": {
           "align": "left"
          },
          "hovermode": "closest",
          "mapbox": {
           "style": "light"
          },
          "paper_bgcolor": "white",
          "plot_bgcolor": "#E5ECF6",
          "polar": {
           "angularaxis": {
            "gridcolor": "white",
            "linecolor": "white",
            "ticks": ""
           },
           "bgcolor": "#E5ECF6",
           "radialaxis": {
            "gridcolor": "white",
            "linecolor": "white",
            "ticks": ""
           }
          },
          "scene": {
           "xaxis": {
            "backgroundcolor": "#E5ECF6",
            "gridcolor": "white",
            "gridwidth": 2,
            "linecolor": "white",
            "showbackground": true,
            "ticks": "",
            "zerolinecolor": "white"
           },
           "yaxis": {
            "backgroundcolor": "#E5ECF6",
            "gridcolor": "white",
            "gridwidth": 2,
            "linecolor": "white",
            "showbackground": true,
            "ticks": "",
            "zerolinecolor": "white"
           },
           "zaxis": {
            "backgroundcolor": "#E5ECF6",
            "gridcolor": "white",
            "gridwidth": 2,
            "linecolor": "white",
            "showbackground": true,
            "ticks": "",
            "zerolinecolor": "white"
           }
          },
          "shapedefaults": {
           "line": {
            "color": "#2a3f5f"
           }
          },
          "ternary": {
           "aaxis": {
            "gridcolor": "white",
            "linecolor": "white",
            "ticks": ""
           },
           "baxis": {
            "gridcolor": "white",
            "linecolor": "white",
            "ticks": ""
           },
           "bgcolor": "#E5ECF6",
           "caxis": {
            "gridcolor": "white",
            "linecolor": "white",
            "ticks": ""
           }
          },
          "title": {
           "x": 0.05
          },
          "xaxis": {
           "automargin": true,
           "gridcolor": "white",
           "linecolor": "white",
           "ticks": "",
           "title": {
            "standoff": 15
           },
           "zerolinecolor": "white",
           "zerolinewidth": 2
          },
          "yaxis": {
           "automargin": true,
           "gridcolor": "white",
           "linecolor": "white",
           "ticks": "",
           "title": {
            "standoff": 15
           },
           "zerolinecolor": "white",
           "zerolinewidth": 2
          }
         }
        },
        "title": {
         "text": "Grafik 4.1 Rata-rata Jam Aktivitas Fisik Berdasarkan Diagnosa",
         "x": 0.5
        },
        "xaxis": {
         "anchor": "y",
         "categoryarray": [
          "Negatif Parkinson",
          "Positif Parkinson"
         ],
         "categoryorder": "array",
         "domain": [
          0,
          1
         ],
         "title": {
          "text": "Diagnosis"
         }
        },
        "yaxis": {
         "anchor": "x",
         "domain": [
          0,
          1
         ],
         "title": {
          "text": "Rata-rata Jam Aktivitas Fisik"
         }
        }
       }
      }
     },
     "metadata": {},
     "output_type": "display_data"
    }
   ],
   "source": [
    "# Pembuatan figure berisi historgram ngelompokkan identifikasi diagnosis berdasarkan umur pasien\n",
    "fig_4_0 = px.histogram(df_analysis.groupby(['Diagnosis label'])['Konsumsi Alkohol per Minggu'].mean().reset_index(), \n",
    "             x = 'Diagnosis label', \n",
    "             y = 'Konsumsi Alkohol per Minggu',\n",
    "             title = 'Grafik 4.0 Rata-rata Konsumsi Alkohol Berdasarkan Diagnosa',\n",
    "             text_auto = True,\n",
    "             color = 'Diagnosis label'\n",
    "             )\n",
    "fig_4_0.update_layout(bargap = 0.2, yaxis_title = 'Rata-rata Konsumsi Alkohol', xaxis_title='Diagnosis', title_x = 0.5)\n",
    "fig_4_0.show()\n",
    "\n",
    "# Pembuatan figure berisi historgram ngelompokkan identifikasi diagnosis berdasarkan umur pasien\n",
    "fig_4_1 = px.histogram(df_analysis.groupby(['Diagnosis label'])['Jam Aktivitas Fisik per Minggu'].mean().reset_index(), \n",
    "             x = 'Diagnosis label', \n",
    "             y = 'Jam Aktivitas Fisik per Minggu',\n",
    "             title = 'Grafik 4.1 Rata-rata Jam Aktivitas Fisik Berdasarkan Diagnosa',\n",
    "             text_auto = True,\n",
    "             color = 'Diagnosis label'\n",
    "             )\n",
    "fig_4_1.update_layout(bargap = 0.2, yaxis_title = 'Rata-rata Jam Aktivitas Fisik', xaxis_title='Diagnosis', title_x = 0.5)\n",
    "fig_4_1.show()"
   ]
  },
  {
   "cell_type": "markdown",
   "metadata": {},
   "source": [
    "<div style='text-align: justify'> Berdasarkan grafik 4.0 dan 4.1, terlihat bahwa tidak ada perbedaan signifikan antara rata-rata konsumsi alkohol dan jam aktivitas. Pasien lanjut usia yang terdiagnosis penyakit Parkinson memiliki rata-rata konsumsi alkohol yang lebih tinggi yakni 10.2 dan rata-rata konsumsi alkohol yang terdiagnosis tidak Parkinson memiliki nilai sebesar 9.7. Kecenderungan penyakit parkinson tidak bisa terlihat karena perbedaan antara dua kondisi diagnosis cukup kecil yakni 0.5. Sementara pasien dengan kondisi Parkinson memiliki jam aktivitas yang lebih tinggi namun tidak secara signifikan yakni 5.04, sementara pasien yang tidak terdiagnosis Parkinson memiliki rata-rata jam aktivitas sebesar 4.96.</div><br>\n",
    "\n",
    "<div style='text-align: justify'>Secara keseluruhan grafik 4.0 dan 4.1, tidak terlihat adanya perbedaan signifikan antar pasien terdiagnosis Parkinson dan tidak. Perbedaan rata-rata jam aktivitas dan konsumsi alkohol yang tidak signifikan ini dibutuhkan analisis korelasi lebih lanjut untuk melihat apakah perbedaan kecil pada rata-rata ini dapat memberikan korelasi dengan penentuan diagnosis Parkinson.\n",
    "</div>"
   ]
  },
  {
   "cell_type": "markdown",
   "metadata": {},
   "source": [
    "#### 5. Hubungan tingkat pendidikan terhadap Penentuan Diagnosis Parkinson "
   ]
  },
  {
   "cell_type": "code",
   "execution_count": 19,
   "metadata": {},
   "outputs": [
    {
     "name": "stdout",
     "output_type": "stream",
     "text": [
      "Besar korelasi antara tingkat pendidikan dan diagnosis Parkinson : 0.004\n"
     ]
    }
   ],
   "source": [
    "# Hubungan korelasi antar tingkat pendidikan dan penentuan diagnosis Parkinson\n",
    "print(f\"Besar korelasi antara tingkat pendidikan dan diagnosis Parkinson : {df_analysis['Tingkat Pendidikan'].corr(df_analysis['Diagnosis'],method='kendall'):.3f}\")"
   ]
  },
  {
   "cell_type": "markdown",
   "metadata": {},
   "source": [
    "<div style='text-align: justify'>Pemilihan pengolahan korelasi menggunakan metode <strong>kendall</strong> dikarenakan bentuk tipe data yang akan diolah adalah bentuk kategorikal sehingga penggunaan metode kendall akan lebih efektif dalam pengolahan data kategorikal dan tidak membutuhkan pengolahan data <em>outlier</em> karena metode kendall tidak menghiraukan adanya <em>outlier</em> <a href='http://www.statistics4u.info/fundstat_eng/ee_kendall_rank_correlation.html'>[6]</a>.</div><br>\n",
    "\n",
    "<div style='text-align: justify'>Berdasarkan informasi di atas terlihat bahwa faktor demografis seperti tingkat pendidikan tidak mempengaruhi pasien akan penentuan diagnosis penyakit Parkinson karena nilai korelasi yang mendekati nol. Hal ini terlihat dari nilai korelasi tingkat pendidikan yang kecil yakni 0.004, maka dari itu kecil sekali pengaruh dari tingkat pendidikan dalam menghasilkan pengaruh penentuan penyakit Parkinson.<div><br>\n",
    "\n",
    "<div style='text-align: justify'>Kesimpulan yang dapat diambil adalah pengaruh dari faktor demografis tingkat pendidikan sangat kecil dan mendekati nol. Hasil korelasi ini didapatkan dari bentuk data yang terlihat tidak ada perbedaan yang signifikan antar faktor demografis dalam penentuan penyakit Parkinson. Maka dari itu penyakit Parkinson tidak di alami oleh kelompok tingkat pendidikan tertentu, namun secara umum seseorang dapat terkena penyakit Parkinson tanpa melihat latar belakang tingkat pendidikan.</div>"
   ]
  },
  {
   "cell_type": "markdown",
   "metadata": {},
   "source": [
    "### 6. Hubungan Faktor Riwayat Kesehatan dan Penentuan Diagnosis Parkinson\n",
    "\n",
    "<div style='text-align: justify'>Pada bagian ini, dibutuhkan pengolahan data menggunakan statistik inferensial dengan mempertimbangkan hasil p-value dan <em>critical value</em> sebesar 0.01. Penentuan hipotesis nol dan hipotesis alternatif adalah sebagai berikut.</div>\n",
    "\n",
    "- **Hipotesis nol** : Tidak ada hubungan dari faktor riwayat kesehatan yang dipilih dengan penentuan diagnoisis Parkinson.\n",
    "- **Hipotesis alternatif**: ada hubungan dari faktor riwayat kesehatan yang dipilih dengan penentuan diagnoisis Parkinson."
   ]
  },
  {
   "cell_type": "code",
   "execution_count": 20,
   "metadata": {},
   "outputs": [
    {
     "data": {
      "text/html": [
       "<b><h3>Data Nilai P-value dari Masing-masing Riwayat Kesehatan</h3></b>"
      ],
      "text/plain": [
       "<IPython.core.display.HTML object>"
      ]
     },
     "metadata": {},
     "output_type": "display_data"
    },
    {
     "data": {
      "text/html": [
       "<div>\n",
       "<style scoped>\n",
       "    .dataframe tbody tr th:only-of-type {\n",
       "        vertical-align: middle;\n",
       "    }\n",
       "\n",
       "    .dataframe tbody tr th {\n",
       "        vertical-align: top;\n",
       "    }\n",
       "\n",
       "    .dataframe thead th {\n",
       "        text-align: right;\n",
       "    }\n",
       "</style>\n",
       "<table border=\"1\" class=\"dataframe\">\n",
       "  <thead>\n",
       "    <tr style=\"text-align: right;\">\n",
       "      <th></th>\n",
       "      <th>Nama Kolom</th>\n",
       "      <th>P-value</th>\n",
       "    </tr>\n",
       "  </thead>\n",
       "  <tbody>\n",
       "    <tr>\n",
       "      <th>0</th>\n",
       "      <td>Riwayat Keluarga Parkinson</td>\n",
       "      <td>0.582647</td>\n",
       "    </tr>\n",
       "    <tr>\n",
       "      <th>1</th>\n",
       "      <td>Riwayat Cidera Otak</td>\n",
       "      <td>0.326698</td>\n",
       "    </tr>\n",
       "    <tr>\n",
       "      <th>2</th>\n",
       "      <td>Riwayat Hipertensi</td>\n",
       "      <td>0.639776</td>\n",
       "    </tr>\n",
       "    <tr>\n",
       "      <th>3</th>\n",
       "      <td>Riwayat Diabetes</td>\n",
       "      <td>0.010617</td>\n",
       "    </tr>\n",
       "    <tr>\n",
       "      <th>4</th>\n",
       "      <td>Riwayat Depresi</td>\n",
       "      <td>0.007930</td>\n",
       "    </tr>\n",
       "    <tr>\n",
       "      <th>5</th>\n",
       "      <td>Riwayat Stroke</td>\n",
       "      <td>0.236063</td>\n",
       "    </tr>\n",
       "  </tbody>\n",
       "</table>\n",
       "</div>"
      ],
      "text/plain": [
       "                   Nama Kolom   P-value\n",
       "0  Riwayat Keluarga Parkinson  0.582647\n",
       "1         Riwayat Cidera Otak  0.326698\n",
       "2          Riwayat Hipertensi  0.639776\n",
       "3            Riwayat Diabetes  0.010617\n",
       "4             Riwayat Depresi  0.007930\n",
       "5              Riwayat Stroke  0.236063"
      ]
     },
     "execution_count": 20,
     "metadata": {},
     "output_type": "execute_result"
    }
   ],
   "source": [
    "# Pembuatan dataframe kosong\n",
    "df_hubungan_diagnosis = pd.DataFrame()\n",
    "df_hubungan_diagnosis['Nama Kolom'] = None\n",
    "df_hubungan_diagnosis['P-value'] = None \n",
    "\n",
    "\n",
    "# Pengulangaan menggunakan for loop dari setiap kolom menggunakan index tertentu\n",
    "for kolom in list(df_analysis.columns)[11:17]:\n",
    "    # Pembuatan crosstab antar kolom dan diagnosis\n",
    "    contingency_table_1 = pd.crosstab(df_analysis[kolom],df_analysis['Diagnosis label'])\n",
    "    # Perhitungan chi squared test\n",
    "    res_1 = stats.chi2_contingency(contingency_table_1)\n",
    "    # Melakukan input hasil p-value ke dataframe kosong\n",
    "    df_hubungan_diagnosis.loc[len(df_hubungan_diagnosis)] = [kolom, res_1.pvalue]\n",
    "\n",
    "# Melakukan reset index\n",
    "df_hubungan_diagnosis.sort_values(by='P-value').reset_index(inplace=True)\n",
    "\n",
    "# Menampilkan judul dari Tabel\n",
    "display(HTML('<b><h3>Data Nilai P-value dari Masing-masing Riwayat Kesehatan</h3></b>'))\n",
    "\n",
    "# Menampilkan dataframe\n",
    "df_hubungan_diagnosis"
   ]
  },
  {
   "cell_type": "markdown",
   "metadata": {},
   "source": [
    "<div style='text-align: justify'>Pemilihan model pengujian yang digunakan pada tahap ini menggunakan <strong>chi-squared test</strong>, pemilihan pengujian ini digunakan karena membandingkan kolom kategorikal. Maka dari itu tidak dibutuhkan pengolahan data <em>outlier</em> karena pengujian menggunakan chi-squared test tahan akan data <em>outlier</em>.</div><br>\n",
    "\n",
    "<div style='text-align: justify'>Berdasarkan informasi di atas terlihat bahwa faktor riwayat kesehatan berupa Depresi memiliki nilai di bawah <em>critical value</em> sehingga dapat disimpulkan bahwa hipotesis nol ditolak dan hipotesis alternatif diterima. Sedangkan lima faktor riwayat kesehatan lain memiliki nilai p-value di atas 0.01, maka dari itu ke-lima riwayat kesehatan lainnya tidak memiliki hubungan dengan penentuan diagnosis Parkinson.</div><br>\n",
    "\n",
    "<div style='text-align: justify'>Faktor riwayat kesehatan berupa depresi dapat memiliki hubungan karena adanya perubahan pada area otak yang terlibat dalam pengaturan suasana hati, energi, motivasi, nafsu makan dan tidur. Depresi juga dapat menjadi awal dari gejala motorik dan dapat memperparah gejala motorik <a href='https://med.stanford.edu/parkinsons/symptoms-PD/depression.html'>[7]</a>.</div>"
   ]
  },
  {
   "cell_type": "markdown",
   "metadata": {},
   "source": [
    "### 7. Hubungan Gejala-gejala yang dialami oleh Pasien terhadap Penentuan Diagnosis Parkinson\n",
    "\n",
    "<div style='text-align: justify'>Pada bagian ini, dibutuhkan pengolahan data menggunakan statistik inferensial dengan mempertimbangkan hasil p-value dan <em>critical value</em> sebesar 0.01. Penentuan hipotesis nol dan hipotesis alternatif adalah sebagai berikut.</div>\n",
    "\n",
    "- **Hipotesis nol** : Tidak ada hubungan dari gejala yang dipilih dengan penentuan diagnoisis Parkinson.\n",
    "- **Hipotesis alternatif**: ada hubungan dari gejala yang dipilih dengan penentuan diagnoisis Parkinson."
   ]
  },
  {
   "cell_type": "code",
   "execution_count": 21,
   "metadata": {},
   "outputs": [
    {
     "data": {
      "text/html": [
       "<b><h3>Data Nilai P-value dari Masing-masing Gejala</h3></b>"
      ],
      "text/plain": [
       "<IPython.core.display.HTML object>"
      ]
     },
     "metadata": {},
     "output_type": "display_data"
    },
    {
     "data": {
      "text/html": [
       "<div>\n",
       "<style scoped>\n",
       "    .dataframe tbody tr th:only-of-type {\n",
       "        vertical-align: middle;\n",
       "    }\n",
       "\n",
       "    .dataframe tbody tr th {\n",
       "        vertical-align: top;\n",
       "    }\n",
       "\n",
       "    .dataframe thead th {\n",
       "        text-align: right;\n",
       "    }\n",
       "</style>\n",
       "<table border=\"1\" class=\"dataframe\">\n",
       "  <thead>\n",
       "    <tr style=\"text-align: right;\">\n",
       "      <th></th>\n",
       "      <th>Nama Kolom</th>\n",
       "      <th>P-value</th>\n",
       "    </tr>\n",
       "  </thead>\n",
       "  <tbody>\n",
       "    <tr>\n",
       "      <th>0</th>\n",
       "      <td>Gejala Tremor</td>\n",
       "      <td>4.350985e-36</td>\n",
       "    </tr>\n",
       "    <tr>\n",
       "      <th>1</th>\n",
       "      <td>Gejala Otot Kaku</td>\n",
       "      <td>2.578140e-17</td>\n",
       "    </tr>\n",
       "    <tr>\n",
       "      <th>2</th>\n",
       "      <td>Gejala Lambatnya Gerakan Tubuh</td>\n",
       "      <td>4.921769e-17</td>\n",
       "    </tr>\n",
       "    <tr>\n",
       "      <th>3</th>\n",
       "      <td>Gejala Ketidakstabilan Tubuh</td>\n",
       "      <td>2.037697e-11</td>\n",
       "    </tr>\n",
       "    <tr>\n",
       "      <th>4</th>\n",
       "      <td>Gejala Masalah Bicara</td>\n",
       "      <td>6.090497e-01</td>\n",
       "    </tr>\n",
       "    <tr>\n",
       "      <th>5</th>\n",
       "      <td>Gejala Gangguan Tidur</td>\n",
       "      <td>6.649179e-01</td>\n",
       "    </tr>\n",
       "    <tr>\n",
       "      <th>6</th>\n",
       "      <td>Gejala Gangguan Buang Air Besar</td>\n",
       "      <td>2.657560e-01</td>\n",
       "    </tr>\n",
       "  </tbody>\n",
       "</table>\n",
       "</div>"
      ],
      "text/plain": [
       "                        Nama Kolom       P-value\n",
       "0                    Gejala Tremor  4.350985e-36\n",
       "1                 Gejala Otot Kaku  2.578140e-17\n",
       "2   Gejala Lambatnya Gerakan Tubuh  4.921769e-17\n",
       "3     Gejala Ketidakstabilan Tubuh  2.037697e-11\n",
       "4            Gejala Masalah Bicara  6.090497e-01\n",
       "5            Gejala Gangguan Tidur  6.649179e-01\n",
       "6  Gejala Gangguan Buang Air Besar  2.657560e-01"
      ]
     },
     "execution_count": 21,
     "metadata": {},
     "output_type": "execute_result"
    }
   ],
   "source": [
    "# Pembuatan dataframe kosong\n",
    "df_hubungan_diagnosis_1 = pd.DataFrame()\n",
    "df_hubungan_diagnosis_1['Nama Kolom'] = None\n",
    "df_hubungan_diagnosis_1['P-value'] = None \n",
    "\n",
    "# Pengulangaan menggunakan for loop dari setiap kolom menggunakan index tertentu\n",
    "for kolom in list(df_analysis.columns)[17:24]:\n",
    "    # Pembuatan crosstab antar kolom dan diagnosis\n",
    "    contingency_table_1 = pd.crosstab(df_analysis[kolom],df_analysis['Diagnosis label'])\n",
    "    # Perhitungan chi squared test\n",
    "    res_1 = stats.chi2_contingency(contingency_table_1)\n",
    "    # Melakukan input hasil p-value ke dataframe kosong\n",
    "    df_hubungan_diagnosis_1.loc[len(df_hubungan_diagnosis_1)] = [kolom, res_1.pvalue]\n",
    "\n",
    "# Melakukan reset index\n",
    "df_hubungan_diagnosis_1.sort_values(by='P-value').reset_index(inplace=True)\n",
    "\n",
    "# Menampilkan judul dari Tabel\n",
    "display(HTML('<b><h3>Data Nilai P-value dari Masing-masing Gejala</h3></b>'))\n",
    "\n",
    "# Menampilkan dataframe\n",
    "df_hubungan_diagnosis_1"
   ]
  },
  {
   "cell_type": "markdown",
   "metadata": {},
   "source": [
    "<div style='text-align: justify'>Pemilihan model pengujian yang digunakan pada tahap ini menggunakan <strong>chi-squared test</strong>, pemilihan pengujian ini digunakan karena membandingkan kolom kategorikal. Maka dari itu tidak dibutuhkan pengolahan data <em>outlier</em> karena pengujian menggunakan chi-squared test tahan akan data <em>outlier</em>.</div><br>\n",
    "\n",
    "<div style='text-align: justify'> Berdasarkan informasi di atas terlihat bahwa gejala tremor, otot kaku, lambatnya gerakan tubuh dan ketidakstabilan tubuh memiliki nilai p-value lebih kecil dari <em>critical value</em>. Maka dari itu dapat disimpulkan bahwa gejala tremor, otot kaku, lambatnya gerakan tubuh dan ketidakstabilan tubuh mimiliki hubungan dengan penentuan diagnosis penyakit Parkinson. Terlihat bahwa gejala yang berhubungan dengan kontrol tubuh akan segala bentuk gerakan motorik merupakan gejala-gejala awal yang berhubungan dengan penentuan diagnosis dari penyakit Parkinson.<div><br>\n",
    "\n",
    "<div style='text-align: justify'> Gejala umum seperti hilangnya kontrol tubuh ini merupakan hal yang cukup banyak dialami oleh penderita penyakit Parkinson <a href='https://www.mitrakeluarga.com/artikel/penyakit-parkinson-3'>[8]</a>. Penyakit parkinson yang sejatinya merupakan hilangnya kontrol tubuh akan sensor motorik sebagai pengendali gerakan dan keseimbangan tubuh, banyak diawali oleh gejala tremor. Tremor merupakan gerakan seperti gemetar pada beberapa bagian tubuh, biasanya di tangan, kaki, dan badan <a href='https://www.alodokter.com/kenali-tremor-dan-penyebabnya'>[9]</a>. Gejala-gejala lain seperti gejala masalah tidur, masalah bicara dan gangguan buang air besar tidak dianggap memiliki cukup hubungan sebagai faktor penentu diagnosis Parkinson.</div>\n"
   ]
  },
  {
   "cell_type": "markdown",
   "metadata": {},
   "source": [
    "## **F. Kesimpulan**\n",
    "\n",
    "Kesimpulan dari analisis yang dilakukan pada dokumen ini adalah sebagai berikut.\n",
    "\n",
    "- Pasien dengan usia 70 sampai 75 Tahun paling banyak terkena penyakit Parkinson, sementara pasien dengan usia 50 sampai 54 Tahun paling banyak tidak terkena penyakit Parkinson.\n",
    "- Etnis yang paling banyak terkena penyakit Parkinson adalah Kaukasia, sementara secara proporsional etnis yang paling banyak terkena penyakit parkinson adalah Afrika Amerika sebesar 64.71%.\n",
    "- Jenis kelamin yang paling banyak terkena penyakit Parkinson adalah Pria sebesar 50.7%, namun secara proporsional jenis kelamin yang lebih besar yakni wanita dengan 62.78% dari populasi wanita terkena penyakit Parkinson.\n",
    "- Rata-rata konsumsi alkohol per minggu dari pasien yang terdiagnosis Parkinson adalah 10.2, sementara rata-rata aktivitas fisik per minggu adalah 5.04 Jam.\n",
    "- Korelasi antara informasi tingkat pendidikan pasien lanjut usia dengan penentuan diagnosis parkinson sangat kecil, yakni 0.004.\n",
    "- Riwayat kesehatan berupa depresi memiliki hubungan dengan penentuan diagnosis penyakit Parkinson.\n",
    "- Gejala tremor, ketidakstabilan tubuh, otot kaku dan lambatnya gerakan tubuh memiliki hubungan dengan penentuan diagnosis penyakit parkinson.\n",
    "\n",
    "<br>\n",
    "Berikut merupakan rekomendasi dari analisis yang telah dilakukan.\n",
    "\n",
    "- Pembuatan program edukasi untuk target usia 70 hingga 75 tahun untuk mengenal gejala-gejala dari penyakit Parkinson berupa tremor, ketidakstabilan tubuh, otot kaku dan lambatnya gerakan tubuh.\n",
    "- Pengenalan edukasi untuk pasien kelompok awal lanjut usia akan pentingnya gaya hidup dan cara pencegahan penyakit Parkinson.\n",
    "- Menyediakan layanan penanganan terkait kesehatan mental untuk menangani potensi adanya penyakit depresi pada masyarakat lanjut usia."
   ]
  }
 ],
 "metadata": {
  "kernelspec": {
   "display_name": "enviroment1",
   "language": "python",
   "name": "python3"
  },
  "language_info": {
   "codemirror_mode": {
    "name": "ipython",
    "version": 3
   },
   "file_extension": ".py",
   "mimetype": "text/x-python",
   "name": "python",
   "nbconvert_exporter": "python",
   "pygments_lexer": "ipython3",
   "version": "3.12.3"
  }
 },
 "nbformat": 4,
 "nbformat_minor": 2
}
